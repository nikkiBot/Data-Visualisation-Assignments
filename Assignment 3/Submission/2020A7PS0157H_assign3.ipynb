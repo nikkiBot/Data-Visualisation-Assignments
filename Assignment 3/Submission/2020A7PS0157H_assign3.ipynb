{
 "cells": [
  {
   "cell_type": "code",
   "execution_count": 350,
   "metadata": {},
   "outputs": [],
   "source": [
    "import numpy as np\n",
    "import pandas as pd\n",
    "import matplotlib.pyplot as plt\n",
    "import seaborn as sns\n",
    "import math\n",
    "import random\n",
    "import os \n",
    "import sys\n",
    "import warnings\n",
    "import requests\n",
    "from requests.adapters import HTTPAdapter\n",
    "from requests.packages.urllib3.util.retry import Retry\n",
    "import plotly.express as px\n"
   ]
  },
  {
   "cell_type": "markdown",
   "metadata": {},
   "source": [
    "## Data Acquisition "
   ]
  },
  {
   "cell_type": "code",
   "execution_count": 351,
   "metadata": {},
   "outputs": [],
   "source": [
    "df_min = pd.read_csv('./Monthly Minimum Temperature.csv')\n",
    "df_max = pd.read_csv('./Monthly Maximum Temperature.csv')"
   ]
  },
  {
   "cell_type": "code",
   "execution_count": 352,
   "metadata": {},
   "outputs": [],
   "source": [
    "# Rename \"Mandal\" in df_max to Dmcode and \"Mandal.1\" to \"Mandal\"\n",
    "df_max.rename(columns={'Mandal':'Dmcode', 'Mandal.1':'Mandal'}, inplace=True)"
   ]
  },
  {
   "cell_type": "code",
   "execution_count": 353,
   "metadata": {},
   "outputs": [
    {
     "data": {
      "text/html": [
       "<div>\n",
       "<style scoped>\n",
       "    .dataframe tbody tr th:only-of-type {\n",
       "        vertical-align: middle;\n",
       "    }\n",
       "\n",
       "    .dataframe tbody tr th {\n",
       "        vertical-align: top;\n",
       "    }\n",
       "\n",
       "    .dataframe thead th {\n",
       "        text-align: right;\n",
       "    }\n",
       "</style>\n",
       "<table border=\"1\" class=\"dataframe\">\n",
       "  <thead>\n",
       "    <tr style=\"text-align: right;\">\n",
       "      <th></th>\n",
       "      <th>Dmcode</th>\n",
       "      <th>District</th>\n",
       "      <th>Mandal</th>\n",
       "      <th>Jun-13</th>\n",
       "      <th>Jul-13</th>\n",
       "      <th>Aug-13</th>\n",
       "      <th>Sep-13</th>\n",
       "      <th>Oct-13</th>\n",
       "      <th>Nov-13</th>\n",
       "      <th>Dec-13</th>\n",
       "      <th>...</th>\n",
       "      <th>Apr-17</th>\n",
       "      <th>May-17</th>\n",
       "      <th>Jun-17</th>\n",
       "      <th>Jul-17</th>\n",
       "      <th>Aug-17</th>\n",
       "      <th>Sep-17</th>\n",
       "      <th>Oct-17</th>\n",
       "      <th>Nov-17</th>\n",
       "      <th>Dec-17</th>\n",
       "      <th>Jan-18</th>\n",
       "    </tr>\n",
       "  </thead>\n",
       "  <tbody>\n",
       "    <tr>\n",
       "      <th>0</th>\n",
       "      <td>101</td>\n",
       "      <td>Adilabad</td>\n",
       "      <td>Bheempoor</td>\n",
       "      <td>33.8</td>\n",
       "      <td>29.5</td>\n",
       "      <td>29.0</td>\n",
       "      <td>33.1</td>\n",
       "      <td>32.5</td>\n",
       "      <td>30.1</td>\n",
       "      <td>30.0</td>\n",
       "      <td>...</td>\n",
       "      <td>42.3</td>\n",
       "      <td>42.9</td>\n",
       "      <td>37.4</td>\n",
       "      <td>32.9</td>\n",
       "      <td>31.8</td>\n",
       "      <td>34.6</td>\n",
       "      <td>34.2</td>\n",
       "      <td>34.4</td>\n",
       "      <td>33.4</td>\n",
       "      <td>33.2</td>\n",
       "    </tr>\n",
       "    <tr>\n",
       "      <th>1</th>\n",
       "      <td>102</td>\n",
       "      <td>Adilabad</td>\n",
       "      <td>Jainad</td>\n",
       "      <td>34.0</td>\n",
       "      <td>29.3</td>\n",
       "      <td>29.2</td>\n",
       "      <td>33.2</td>\n",
       "      <td>32.1</td>\n",
       "      <td>30.4</td>\n",
       "      <td>30.2</td>\n",
       "      <td>...</td>\n",
       "      <td>42.2</td>\n",
       "      <td>42.7</td>\n",
       "      <td>36.3</td>\n",
       "      <td>31.8</td>\n",
       "      <td>31.1</td>\n",
       "      <td>33.4</td>\n",
       "      <td>34.3</td>\n",
       "      <td>32.0</td>\n",
       "      <td>30.7</td>\n",
       "      <td>31.1</td>\n",
       "    </tr>\n",
       "    <tr>\n",
       "      <th>2</th>\n",
       "      <td>103</td>\n",
       "      <td>Adilabad</td>\n",
       "      <td>Bela</td>\n",
       "      <td>34.9</td>\n",
       "      <td>29.5</td>\n",
       "      <td>29.2</td>\n",
       "      <td>33.8</td>\n",
       "      <td>32.2</td>\n",
       "      <td>30.6</td>\n",
       "      <td>30.8</td>\n",
       "      <td>...</td>\n",
       "      <td>42.4</td>\n",
       "      <td>43.1</td>\n",
       "      <td>36.4</td>\n",
       "      <td>33.6</td>\n",
       "      <td>31.9</td>\n",
       "      <td>33.4</td>\n",
       "      <td>35.8</td>\n",
       "      <td>33.6</td>\n",
       "      <td>33.1</td>\n",
       "      <td>32.9</td>\n",
       "    </tr>\n",
       "    <tr>\n",
       "      <th>3</th>\n",
       "      <td>104</td>\n",
       "      <td>Adilabad</td>\n",
       "      <td>Gadiguda</td>\n",
       "      <td>31.3</td>\n",
       "      <td>27.0</td>\n",
       "      <td>27.1</td>\n",
       "      <td>30.6</td>\n",
       "      <td>29.1</td>\n",
       "      <td>28.1</td>\n",
       "      <td>27.8</td>\n",
       "      <td>...</td>\n",
       "      <td>39.8</td>\n",
       "      <td>40.1</td>\n",
       "      <td>36.4</td>\n",
       "      <td>32.3</td>\n",
       "      <td>30.9</td>\n",
       "      <td>32.5</td>\n",
       "      <td>35.8</td>\n",
       "      <td>33.6</td>\n",
       "      <td>33.0</td>\n",
       "      <td>32.7</td>\n",
       "    </tr>\n",
       "    <tr>\n",
       "      <th>4</th>\n",
       "      <td>105</td>\n",
       "      <td>Adilabad</td>\n",
       "      <td>Narnoor</td>\n",
       "      <td>31.3</td>\n",
       "      <td>27.0</td>\n",
       "      <td>27.1</td>\n",
       "      <td>30.6</td>\n",
       "      <td>29.1</td>\n",
       "      <td>28.1</td>\n",
       "      <td>27.8</td>\n",
       "      <td>...</td>\n",
       "      <td>39.8</td>\n",
       "      <td>40.1</td>\n",
       "      <td>35.9</td>\n",
       "      <td>29.8</td>\n",
       "      <td>29.4</td>\n",
       "      <td>31.1</td>\n",
       "      <td>32.0</td>\n",
       "      <td>30.2</td>\n",
       "      <td>29.2</td>\n",
       "      <td>29.5</td>\n",
       "    </tr>\n",
       "  </tbody>\n",
       "</table>\n",
       "<p>5 rows × 59 columns</p>\n",
       "</div>"
      ],
      "text/plain": [
       "   Dmcode  District     Mandal  Jun-13  Jul-13  Aug-13  Sep-13  Oct-13  \\\n",
       "0     101  Adilabad  Bheempoor    33.8    29.5    29.0    33.1    32.5   \n",
       "1     102  Adilabad     Jainad    34.0    29.3    29.2    33.2    32.1   \n",
       "2     103  Adilabad       Bela    34.9    29.5    29.2    33.8    32.2   \n",
       "3     104  Adilabad   Gadiguda    31.3    27.0    27.1    30.6    29.1   \n",
       "4     105  Adilabad    Narnoor    31.3    27.0    27.1    30.6    29.1   \n",
       "\n",
       "   Nov-13  Dec-13  ...  Apr-17  May-17  Jun-17  Jul-17  Aug-17  Sep-17  \\\n",
       "0    30.1    30.0  ...    42.3    42.9    37.4    32.9    31.8    34.6   \n",
       "1    30.4    30.2  ...    42.2    42.7    36.3    31.8    31.1    33.4   \n",
       "2    30.6    30.8  ...    42.4    43.1    36.4    33.6    31.9    33.4   \n",
       "3    28.1    27.8  ...    39.8    40.1    36.4    32.3    30.9    32.5   \n",
       "4    28.1    27.8  ...    39.8    40.1    35.9    29.8    29.4    31.1   \n",
       "\n",
       "   Oct-17  Nov-17  Dec-17  Jan-18  \n",
       "0    34.2    34.4    33.4    33.2  \n",
       "1    34.3    32.0    30.7    31.1  \n",
       "2    35.8    33.6    33.1    32.9  \n",
       "3    35.8    33.6    33.0    32.7  \n",
       "4    32.0    30.2    29.2    29.5  \n",
       "\n",
       "[5 rows x 59 columns]"
      ]
     },
     "execution_count": 353,
     "metadata": {},
     "output_type": "execute_result"
    }
   ],
   "source": [
    "df_max.head()"
   ]
  },
  {
   "cell_type": "code",
   "execution_count": 354,
   "metadata": {},
   "outputs": [
    {
     "data": {
      "text/html": [
       "<div>\n",
       "<style scoped>\n",
       "    .dataframe tbody tr th:only-of-type {\n",
       "        vertical-align: middle;\n",
       "    }\n",
       "\n",
       "    .dataframe tbody tr th {\n",
       "        vertical-align: top;\n",
       "    }\n",
       "\n",
       "    .dataframe thead th {\n",
       "        text-align: right;\n",
       "    }\n",
       "</style>\n",
       "<table border=\"1\" class=\"dataframe\">\n",
       "  <thead>\n",
       "    <tr style=\"text-align: right;\">\n",
       "      <th></th>\n",
       "      <th>Dmcode</th>\n",
       "      <th>District</th>\n",
       "      <th>Mandal</th>\n",
       "      <th>Jun-13</th>\n",
       "      <th>Jul-13</th>\n",
       "      <th>Aug-13</th>\n",
       "      <th>Sep-13</th>\n",
       "      <th>Oct-13</th>\n",
       "      <th>Nov-13</th>\n",
       "      <th>Dec-13</th>\n",
       "      <th>...</th>\n",
       "      <th>Apr-17</th>\n",
       "      <th>May-17</th>\n",
       "      <th>Jun-17</th>\n",
       "      <th>Jul-17</th>\n",
       "      <th>Aug-17</th>\n",
       "      <th>Sep-17</th>\n",
       "      <th>Oct-17</th>\n",
       "      <th>Nov-17</th>\n",
       "      <th>Dec-17</th>\n",
       "      <th>Jan-18</th>\n",
       "    </tr>\n",
       "  </thead>\n",
       "  <tbody>\n",
       "    <tr>\n",
       "      <th>0</th>\n",
       "      <td>101</td>\n",
       "      <td>Adilabad</td>\n",
       "      <td>Bheempoor</td>\n",
       "      <td>24.6</td>\n",
       "      <td>23.5</td>\n",
       "      <td>22.9</td>\n",
       "      <td>22.9</td>\n",
       "      <td>21.5</td>\n",
       "      <td>14.2</td>\n",
       "      <td>10.6</td>\n",
       "      <td>...</td>\n",
       "      <td>25.4</td>\n",
       "      <td>29.5</td>\n",
       "      <td>26.6</td>\n",
       "      <td>25.4</td>\n",
       "      <td>24.5</td>\n",
       "      <td>24.0</td>\n",
       "      <td>20.8</td>\n",
       "      <td>15.7</td>\n",
       "      <td>12.2</td>\n",
       "      <td>12.2</td>\n",
       "    </tr>\n",
       "    <tr>\n",
       "      <th>1</th>\n",
       "      <td>102</td>\n",
       "      <td>Adilabad</td>\n",
       "      <td>Jainad</td>\n",
       "      <td>25.6</td>\n",
       "      <td>24.4</td>\n",
       "      <td>23.8</td>\n",
       "      <td>23.6</td>\n",
       "      <td>22.1</td>\n",
       "      <td>14.8</td>\n",
       "      <td>11.0</td>\n",
       "      <td>...</td>\n",
       "      <td>24.8</td>\n",
       "      <td>29.3</td>\n",
       "      <td>26.5</td>\n",
       "      <td>25.0</td>\n",
       "      <td>24.4</td>\n",
       "      <td>23.9</td>\n",
       "      <td>20.9</td>\n",
       "      <td>14.6</td>\n",
       "      <td>10.9</td>\n",
       "      <td>10.6</td>\n",
       "    </tr>\n",
       "    <tr>\n",
       "      <th>2</th>\n",
       "      <td>103</td>\n",
       "      <td>Adilabad</td>\n",
       "      <td>Bela</td>\n",
       "      <td>25.7</td>\n",
       "      <td>24.1</td>\n",
       "      <td>23.6</td>\n",
       "      <td>23.6</td>\n",
       "      <td>22.3</td>\n",
       "      <td>15.4</td>\n",
       "      <td>11.7</td>\n",
       "      <td>...</td>\n",
       "      <td>25.3</td>\n",
       "      <td>29.6</td>\n",
       "      <td>26.3</td>\n",
       "      <td>27.6</td>\n",
       "      <td>26.4</td>\n",
       "      <td>23.9</td>\n",
       "      <td>22.3</td>\n",
       "      <td>18.5</td>\n",
       "      <td>14.1</td>\n",
       "      <td>13.0</td>\n",
       "    </tr>\n",
       "    <tr>\n",
       "      <th>3</th>\n",
       "      <td>104</td>\n",
       "      <td>Adilabad</td>\n",
       "      <td>Gadiguda</td>\n",
       "      <td>23.8</td>\n",
       "      <td>22.6</td>\n",
       "      <td>22.4</td>\n",
       "      <td>22.9</td>\n",
       "      <td>21.5</td>\n",
       "      <td>17.8</td>\n",
       "      <td>15.4</td>\n",
       "      <td>...</td>\n",
       "      <td>27.0</td>\n",
       "      <td>28.1</td>\n",
       "      <td>27.4</td>\n",
       "      <td>26.5</td>\n",
       "      <td>25.4</td>\n",
       "      <td>23.5</td>\n",
       "      <td>22.3</td>\n",
       "      <td>18.4</td>\n",
       "      <td>15.5</td>\n",
       "      <td>14.9</td>\n",
       "    </tr>\n",
       "    <tr>\n",
       "      <th>4</th>\n",
       "      <td>105</td>\n",
       "      <td>Adilabad</td>\n",
       "      <td>Narnoor</td>\n",
       "      <td>23.8</td>\n",
       "      <td>22.6</td>\n",
       "      <td>22.4</td>\n",
       "      <td>22.9</td>\n",
       "      <td>21.5</td>\n",
       "      <td>17.8</td>\n",
       "      <td>15.4</td>\n",
       "      <td>...</td>\n",
       "      <td>27.0</td>\n",
       "      <td>28.1</td>\n",
       "      <td>26.7</td>\n",
       "      <td>23.5</td>\n",
       "      <td>23.2</td>\n",
       "      <td>23.0</td>\n",
       "      <td>21.8</td>\n",
       "      <td>18.4</td>\n",
       "      <td>15.9</td>\n",
       "      <td>16.0</td>\n",
       "    </tr>\n",
       "  </tbody>\n",
       "</table>\n",
       "<p>5 rows × 59 columns</p>\n",
       "</div>"
      ],
      "text/plain": [
       "   Dmcode  District     Mandal  Jun-13  Jul-13  Aug-13  Sep-13  Oct-13  \\\n",
       "0     101  Adilabad  Bheempoor    24.6    23.5    22.9    22.9    21.5   \n",
       "1     102  Adilabad     Jainad    25.6    24.4    23.8    23.6    22.1   \n",
       "2     103  Adilabad       Bela    25.7    24.1    23.6    23.6    22.3   \n",
       "3     104  Adilabad   Gadiguda    23.8    22.6    22.4    22.9    21.5   \n",
       "4     105  Adilabad    Narnoor    23.8    22.6    22.4    22.9    21.5   \n",
       "\n",
       "   Nov-13  Dec-13  ...  Apr-17  May-17  Jun-17  Jul-17  Aug-17  Sep-17  \\\n",
       "0    14.2    10.6  ...    25.4    29.5    26.6    25.4    24.5    24.0   \n",
       "1    14.8    11.0  ...    24.8    29.3    26.5    25.0    24.4    23.9   \n",
       "2    15.4    11.7  ...    25.3    29.6    26.3    27.6    26.4    23.9   \n",
       "3    17.8    15.4  ...    27.0    28.1    27.4    26.5    25.4    23.5   \n",
       "4    17.8    15.4  ...    27.0    28.1    26.7    23.5    23.2    23.0   \n",
       "\n",
       "   Oct-17  Nov-17  Dec-17  Jan-18  \n",
       "0    20.8    15.7    12.2    12.2  \n",
       "1    20.9    14.6    10.9    10.6  \n",
       "2    22.3    18.5    14.1    13.0  \n",
       "3    22.3    18.4    15.5    14.9  \n",
       "4    21.8    18.4    15.9    16.0  \n",
       "\n",
       "[5 rows x 59 columns]"
      ]
     },
     "execution_count": 354,
     "metadata": {},
     "output_type": "execute_result"
    }
   ],
   "source": [
    "df_min.head()"
   ]
  },
  {
   "cell_type": "code",
   "execution_count": 355,
   "metadata": {},
   "outputs": [],
   "source": [
    "# Extract the data rows corresponding to Medchal-Malkajgiri district and Kapra Mandal from the data frames. \n",
    "\n",
    "df_max = df_max[df_max['Mandal'] == 'Kapra'] \n",
    "df_max = df_max[df_max['District'] == 'Medchal-Malkajgiri']\n",
    "\n",
    "\n",
    "df_min = df_min[df_min['District'] == 'Medchal-Malkajgiri']\n",
    "df_min = df_min[df_min['Mandal'] == 'Kapra']"
   ]
  },
  {
   "cell_type": "code",
   "execution_count": 356,
   "metadata": {},
   "outputs": [
    {
     "data": {
      "text/html": [
       "<div>\n",
       "<style scoped>\n",
       "    .dataframe tbody tr th:only-of-type {\n",
       "        vertical-align: middle;\n",
       "    }\n",
       "\n",
       "    .dataframe tbody tr th {\n",
       "        vertical-align: top;\n",
       "    }\n",
       "\n",
       "    .dataframe thead th {\n",
       "        text-align: right;\n",
       "    }\n",
       "</style>\n",
       "<table border=\"1\" class=\"dataframe\">\n",
       "  <thead>\n",
       "    <tr style=\"text-align: right;\">\n",
       "      <th></th>\n",
       "      <th>Dmcode</th>\n",
       "      <th>District</th>\n",
       "      <th>Mandal</th>\n",
       "      <th>Jun-13</th>\n",
       "      <th>Jul-13</th>\n",
       "      <th>Aug-13</th>\n",
       "      <th>Sep-13</th>\n",
       "      <th>Oct-13</th>\n",
       "      <th>Nov-13</th>\n",
       "      <th>Dec-13</th>\n",
       "      <th>...</th>\n",
       "      <th>Apr-17</th>\n",
       "      <th>May-17</th>\n",
       "      <th>Jun-17</th>\n",
       "      <th>Jul-17</th>\n",
       "      <th>Aug-17</th>\n",
       "      <th>Sep-17</th>\n",
       "      <th>Oct-17</th>\n",
       "      <th>Nov-17</th>\n",
       "      <th>Dec-17</th>\n",
       "      <th>Jan-18</th>\n",
       "    </tr>\n",
       "  </thead>\n",
       "  <tbody>\n",
       "    <tr>\n",
       "      <th>372</th>\n",
       "      <td>2111</td>\n",
       "      <td>Medchal-Malkajgiri</td>\n",
       "      <td>Kapra</td>\n",
       "      <td>23.7</td>\n",
       "      <td>22.4</td>\n",
       "      <td>22.4</td>\n",
       "      <td>22.4</td>\n",
       "      <td>21.6</td>\n",
       "      <td>17.6</td>\n",
       "      <td>13.8</td>\n",
       "      <td>...</td>\n",
       "      <td>24.1</td>\n",
       "      <td>27.4</td>\n",
       "      <td>25.2</td>\n",
       "      <td>24.4</td>\n",
       "      <td>23.5</td>\n",
       "      <td>23.5</td>\n",
       "      <td>21.8</td>\n",
       "      <td>15.6</td>\n",
       "      <td>13.8</td>\n",
       "      <td>13.2</td>\n",
       "    </tr>\n",
       "  </tbody>\n",
       "</table>\n",
       "<p>1 rows × 59 columns</p>\n",
       "</div>"
      ],
      "text/plain": [
       "     Dmcode            District Mandal  Jun-13  Jul-13  Aug-13  Sep-13  \\\n",
       "372    2111  Medchal-Malkajgiri  Kapra    23.7    22.4    22.4    22.4   \n",
       "\n",
       "     Oct-13  Nov-13  Dec-13  ...  Apr-17  May-17  Jun-17  Jul-17  Aug-17  \\\n",
       "372    21.6    17.6    13.8  ...    24.1    27.4    25.2    24.4    23.5   \n",
       "\n",
       "     Sep-17  Oct-17  Nov-17  Dec-17  Jan-18  \n",
       "372    23.5    21.8    15.6    13.8    13.2  \n",
       "\n",
       "[1 rows x 59 columns]"
      ]
     },
     "execution_count": 356,
     "metadata": {},
     "output_type": "execute_result"
    }
   ],
   "source": [
    "\n",
    "df_min.head()"
   ]
  },
  {
   "cell_type": "code",
   "execution_count": 357,
   "metadata": {},
   "outputs": [
    {
     "data": {
      "text/html": [
       "<div>\n",
       "<style scoped>\n",
       "    .dataframe tbody tr th:only-of-type {\n",
       "        vertical-align: middle;\n",
       "    }\n",
       "\n",
       "    .dataframe tbody tr th {\n",
       "        vertical-align: top;\n",
       "    }\n",
       "\n",
       "    .dataframe thead th {\n",
       "        text-align: right;\n",
       "    }\n",
       "</style>\n",
       "<table border=\"1\" class=\"dataframe\">\n",
       "  <thead>\n",
       "    <tr style=\"text-align: right;\">\n",
       "      <th></th>\n",
       "      <th>Dmcode</th>\n",
       "      <th>District</th>\n",
       "      <th>Mandal</th>\n",
       "      <th>Jun-13</th>\n",
       "      <th>Jul-13</th>\n",
       "      <th>Aug-13</th>\n",
       "      <th>Sep-13</th>\n",
       "      <th>Oct-13</th>\n",
       "      <th>Nov-13</th>\n",
       "      <th>Dec-13</th>\n",
       "      <th>...</th>\n",
       "      <th>Apr-17</th>\n",
       "      <th>May-17</th>\n",
       "      <th>Jun-17</th>\n",
       "      <th>Jul-17</th>\n",
       "      <th>Aug-17</th>\n",
       "      <th>Sep-17</th>\n",
       "      <th>Oct-17</th>\n",
       "      <th>Nov-17</th>\n",
       "      <th>Dec-17</th>\n",
       "      <th>Jan-18</th>\n",
       "    </tr>\n",
       "  </thead>\n",
       "  <tbody>\n",
       "    <tr>\n",
       "      <th>372</th>\n",
       "      <td>2111</td>\n",
       "      <td>Medchal-Malkajgiri</td>\n",
       "      <td>Kapra</td>\n",
       "      <td>32.7</td>\n",
       "      <td>28.8</td>\n",
       "      <td>29.3</td>\n",
       "      <td>31.8</td>\n",
       "      <td>30.9</td>\n",
       "      <td>29.9</td>\n",
       "      <td>28.4</td>\n",
       "      <td>...</td>\n",
       "      <td>40.8</td>\n",
       "      <td>41.0</td>\n",
       "      <td>34.1</td>\n",
       "      <td>31.7</td>\n",
       "      <td>30.9</td>\n",
       "      <td>32.1</td>\n",
       "      <td>32.6</td>\n",
       "      <td>31.8</td>\n",
       "      <td>30.9</td>\n",
       "      <td>31.2</td>\n",
       "    </tr>\n",
       "  </tbody>\n",
       "</table>\n",
       "<p>1 rows × 59 columns</p>\n",
       "</div>"
      ],
      "text/plain": [
       "     Dmcode            District Mandal  Jun-13  Jul-13  Aug-13  Sep-13  \\\n",
       "372    2111  Medchal-Malkajgiri  Kapra    32.7    28.8    29.3    31.8   \n",
       "\n",
       "     Oct-13  Nov-13  Dec-13  ...  Apr-17  May-17  Jun-17  Jul-17  Aug-17  \\\n",
       "372    30.9    29.9    28.4  ...    40.8    41.0    34.1    31.7    30.9   \n",
       "\n",
       "     Sep-17  Oct-17  Nov-17  Dec-17  Jan-18  \n",
       "372    32.1    32.6    31.8    30.9    31.2  \n",
       "\n",
       "[1 rows x 59 columns]"
      ]
     },
     "execution_count": 357,
     "metadata": {},
     "output_type": "execute_result"
    }
   ],
   "source": [
    "df_max.head()"
   ]
  },
  {
   "cell_type": "markdown",
   "metadata": {},
   "source": [
    "# Data Preparation and Cleaning"
   ]
  },
  {
   "cell_type": "code",
   "execution_count": 358,
   "metadata": {},
   "outputs": [
    {
     "data": {
      "text/html": [
       "<div>\n",
       "<style scoped>\n",
       "    .dataframe tbody tr th:only-of-type {\n",
       "        vertical-align: middle;\n",
       "    }\n",
       "\n",
       "    .dataframe tbody tr th {\n",
       "        vertical-align: top;\n",
       "    }\n",
       "\n",
       "    .dataframe thead th {\n",
       "        text-align: right;\n",
       "    }\n",
       "</style>\n",
       "<table border=\"1\" class=\"dataframe\">\n",
       "  <thead>\n",
       "    <tr style=\"text-align: right;\">\n",
       "      <th></th>\n",
       "      <th>index</th>\n",
       "      <th>Dmcode</th>\n",
       "      <th>District</th>\n",
       "      <th>Mandal</th>\n",
       "      <th>Jun-13</th>\n",
       "      <th>Jul-13</th>\n",
       "      <th>Aug-13</th>\n",
       "      <th>Sep-13</th>\n",
       "      <th>Oct-13</th>\n",
       "      <th>Nov-13</th>\n",
       "      <th>...</th>\n",
       "      <th>Apr-17</th>\n",
       "      <th>May-17</th>\n",
       "      <th>Jun-17</th>\n",
       "      <th>Jul-17</th>\n",
       "      <th>Aug-17</th>\n",
       "      <th>Sep-17</th>\n",
       "      <th>Oct-17</th>\n",
       "      <th>Nov-17</th>\n",
       "      <th>Dec-17</th>\n",
       "      <th>Jan-18</th>\n",
       "    </tr>\n",
       "  </thead>\n",
       "  <tbody>\n",
       "    <tr>\n",
       "      <th>372</th>\n",
       "      <td>Min</td>\n",
       "      <td>2111</td>\n",
       "      <td>Medchal-Malkajgiri</td>\n",
       "      <td>Kapra</td>\n",
       "      <td>23.7</td>\n",
       "      <td>22.4</td>\n",
       "      <td>22.4</td>\n",
       "      <td>22.4</td>\n",
       "      <td>21.6</td>\n",
       "      <td>17.6</td>\n",
       "      <td>...</td>\n",
       "      <td>24.1</td>\n",
       "      <td>27.4</td>\n",
       "      <td>25.2</td>\n",
       "      <td>24.4</td>\n",
       "      <td>23.5</td>\n",
       "      <td>23.5</td>\n",
       "      <td>21.8</td>\n",
       "      <td>15.6</td>\n",
       "      <td>13.8</td>\n",
       "      <td>13.2</td>\n",
       "    </tr>\n",
       "    <tr>\n",
       "      <th>372</th>\n",
       "      <td>Max</td>\n",
       "      <td>2111</td>\n",
       "      <td>Medchal-Malkajgiri</td>\n",
       "      <td>Kapra</td>\n",
       "      <td>32.7</td>\n",
       "      <td>28.8</td>\n",
       "      <td>29.3</td>\n",
       "      <td>31.8</td>\n",
       "      <td>30.9</td>\n",
       "      <td>29.9</td>\n",
       "      <td>...</td>\n",
       "      <td>40.8</td>\n",
       "      <td>41.0</td>\n",
       "      <td>34.1</td>\n",
       "      <td>31.7</td>\n",
       "      <td>30.9</td>\n",
       "      <td>32.1</td>\n",
       "      <td>32.6</td>\n",
       "      <td>31.8</td>\n",
       "      <td>30.9</td>\n",
       "      <td>31.2</td>\n",
       "    </tr>\n",
       "  </tbody>\n",
       "</table>\n",
       "<p>2 rows × 60 columns</p>\n",
       "</div>"
      ],
      "text/plain": [
       "    index  Dmcode            District Mandal  Jun-13  Jul-13  Aug-13  Sep-13  \\\n",
       "372   Min    2111  Medchal-Malkajgiri  Kapra    23.7    22.4    22.4    22.4   \n",
       "372   Max    2111  Medchal-Malkajgiri  Kapra    32.7    28.8    29.3    31.8   \n",
       "\n",
       "     Oct-13  Nov-13  ...  Apr-17  May-17  Jun-17  Jul-17  Aug-17  Sep-17  \\\n",
       "372    21.6    17.6  ...    24.1    27.4    25.2    24.4    23.5    23.5   \n",
       "372    30.9    29.9  ...    40.8    41.0    34.1    31.7    30.9    32.1   \n",
       "\n",
       "     Oct-17  Nov-17  Dec-17  Jan-18  \n",
       "372    21.8    15.6    13.8    13.2  \n",
       "372    32.6    31.8    30.9    31.2  \n",
       "\n",
       "[2 rows x 60 columns]"
      ]
     },
     "execution_count": 358,
     "metadata": {},
     "output_type": "execute_result"
    }
   ],
   "source": [
    "# You may combine the two rows from df_mind and df_max into a single data frame if it helps in creating the visualization.\n",
    "\n",
    "df = pd.concat([df_min, df_max], axis=0)\n",
    "\n",
    "\n",
    "# Add a key named \"index\" to index the two rows since Dmcode, District and Mandal are same for both rows.\n",
    "df['index'] = [\"Min\",\"Max\"]\n",
    "\n",
    "# rearrange index to the first column\n",
    "cols = df.columns.tolist()\n",
    "cols = cols[-1:] + cols[:-1]\n",
    "df = df[cols]\n",
    "df.head()"
   ]
  },
  {
   "cell_type": "code",
   "execution_count": 359,
   "metadata": {},
   "outputs": [
    {
     "data": {
      "text/html": [
       "<div>\n",
       "<style scoped>\n",
       "    .dataframe tbody tr th:only-of-type {\n",
       "        vertical-align: middle;\n",
       "    }\n",
       "\n",
       "    .dataframe tbody tr th {\n",
       "        vertical-align: top;\n",
       "    }\n",
       "\n",
       "    .dataframe thead th {\n",
       "        text-align: right;\n",
       "    }\n",
       "</style>\n",
       "<table border=\"1\" class=\"dataframe\">\n",
       "  <thead>\n",
       "    <tr style=\"text-align: right;\">\n",
       "      <th></th>\n",
       "      <th>index</th>\n",
       "      <th>District</th>\n",
       "      <th>Mandal</th>\n",
       "      <th>Jun-13</th>\n",
       "      <th>Jul-13</th>\n",
       "      <th>Aug-13</th>\n",
       "      <th>Sep-13</th>\n",
       "      <th>Oct-13</th>\n",
       "      <th>Nov-13</th>\n",
       "      <th>Dec-13</th>\n",
       "      <th>...</th>\n",
       "      <th>Apr-17</th>\n",
       "      <th>May-17</th>\n",
       "      <th>Jun-17</th>\n",
       "      <th>Jul-17</th>\n",
       "      <th>Aug-17</th>\n",
       "      <th>Sep-17</th>\n",
       "      <th>Oct-17</th>\n",
       "      <th>Nov-17</th>\n",
       "      <th>Dec-17</th>\n",
       "      <th>Jan-18</th>\n",
       "    </tr>\n",
       "    <tr>\n",
       "      <th>Dmcode</th>\n",
       "      <th></th>\n",
       "      <th></th>\n",
       "      <th></th>\n",
       "      <th></th>\n",
       "      <th></th>\n",
       "      <th></th>\n",
       "      <th></th>\n",
       "      <th></th>\n",
       "      <th></th>\n",
       "      <th></th>\n",
       "      <th></th>\n",
       "      <th></th>\n",
       "      <th></th>\n",
       "      <th></th>\n",
       "      <th></th>\n",
       "      <th></th>\n",
       "      <th></th>\n",
       "      <th></th>\n",
       "      <th></th>\n",
       "      <th></th>\n",
       "      <th></th>\n",
       "    </tr>\n",
       "  </thead>\n",
       "  <tbody>\n",
       "    <tr>\n",
       "      <th>2111</th>\n",
       "      <td>Min</td>\n",
       "      <td>Medchal-Malkajgiri</td>\n",
       "      <td>Kapra</td>\n",
       "      <td>23.7</td>\n",
       "      <td>22.4</td>\n",
       "      <td>22.4</td>\n",
       "      <td>22.4</td>\n",
       "      <td>21.6</td>\n",
       "      <td>17.6</td>\n",
       "      <td>13.8</td>\n",
       "      <td>...</td>\n",
       "      <td>24.1</td>\n",
       "      <td>27.4</td>\n",
       "      <td>25.2</td>\n",
       "      <td>24.4</td>\n",
       "      <td>23.5</td>\n",
       "      <td>23.5</td>\n",
       "      <td>21.8</td>\n",
       "      <td>15.6</td>\n",
       "      <td>13.8</td>\n",
       "      <td>13.2</td>\n",
       "    </tr>\n",
       "    <tr>\n",
       "      <th>2111</th>\n",
       "      <td>Max</td>\n",
       "      <td>Medchal-Malkajgiri</td>\n",
       "      <td>Kapra</td>\n",
       "      <td>32.7</td>\n",
       "      <td>28.8</td>\n",
       "      <td>29.3</td>\n",
       "      <td>31.8</td>\n",
       "      <td>30.9</td>\n",
       "      <td>29.9</td>\n",
       "      <td>28.4</td>\n",
       "      <td>...</td>\n",
       "      <td>40.8</td>\n",
       "      <td>41.0</td>\n",
       "      <td>34.1</td>\n",
       "      <td>31.7</td>\n",
       "      <td>30.9</td>\n",
       "      <td>32.1</td>\n",
       "      <td>32.6</td>\n",
       "      <td>31.8</td>\n",
       "      <td>30.9</td>\n",
       "      <td>31.2</td>\n",
       "    </tr>\n",
       "  </tbody>\n",
       "</table>\n",
       "<p>2 rows × 59 columns</p>\n",
       "</div>"
      ],
      "text/plain": [
       "       index            District Mandal  Jun-13  Jul-13  Aug-13  Sep-13  \\\n",
       "Dmcode                                                                    \n",
       "2111     Min  Medchal-Malkajgiri  Kapra    23.7    22.4    22.4    22.4   \n",
       "2111     Max  Medchal-Malkajgiri  Kapra    32.7    28.8    29.3    31.8   \n",
       "\n",
       "        Oct-13  Nov-13  Dec-13  ...  Apr-17  May-17  Jun-17  Jul-17  Aug-17  \\\n",
       "Dmcode                          ...                                           \n",
       "2111      21.6    17.6    13.8  ...    24.1    27.4    25.2    24.4    23.5   \n",
       "2111      30.9    29.9    28.4  ...    40.8    41.0    34.1    31.7    30.9   \n",
       "\n",
       "        Sep-17  Oct-17  Nov-17  Dec-17  Jan-18  \n",
       "Dmcode                                          \n",
       "2111      23.5    21.8    15.6    13.8    13.2  \n",
       "2111      32.1    32.6    31.8    30.9    31.2  \n",
       "\n",
       "[2 rows x 59 columns]"
      ]
     },
     "execution_count": 359,
     "metadata": {},
     "output_type": "execute_result"
    }
   ],
   "source": [
    "df.set_index('Dmcode', inplace=True)\n",
    "df.head()"
   ]
  },
  {
   "cell_type": "code",
   "execution_count": 441,
   "metadata": {},
   "outputs": [
    {
     "data": {
      "text/html": [
       "<div>\n",
       "<style scoped>\n",
       "    .dataframe tbody tr th:only-of-type {\n",
       "        vertical-align: middle;\n",
       "    }\n",
       "\n",
       "    .dataframe tbody tr th {\n",
       "        vertical-align: top;\n",
       "    }\n",
       "\n",
       "    .dataframe thead th {\n",
       "        text-align: right;\n",
       "    }\n",
       "</style>\n",
       "<table border=\"1\" class=\"dataframe\">\n",
       "  <thead>\n",
       "    <tr style=\"text-align: right;\">\n",
       "      <th></th>\n",
       "      <th>index</th>\n",
       "      <th>District</th>\n",
       "      <th>Mandal</th>\n",
       "      <th>2013-06-01</th>\n",
       "      <th>2013-07-01</th>\n",
       "      <th>2013-08-01</th>\n",
       "      <th>2013-09-01</th>\n",
       "      <th>2013-10-01</th>\n",
       "      <th>2013-11-01</th>\n",
       "      <th>2013-12-01</th>\n",
       "      <th>...</th>\n",
       "      <th>2017-04-01</th>\n",
       "      <th>2017-05-01</th>\n",
       "      <th>2017-06-01</th>\n",
       "      <th>2017-07-01</th>\n",
       "      <th>2017-08-01</th>\n",
       "      <th>2017-09-01</th>\n",
       "      <th>2017-10-01</th>\n",
       "      <th>2017-11-01</th>\n",
       "      <th>2017-12-01</th>\n",
       "      <th>2018-01-01</th>\n",
       "    </tr>\n",
       "    <tr>\n",
       "      <th>Dmcode</th>\n",
       "      <th></th>\n",
       "      <th></th>\n",
       "      <th></th>\n",
       "      <th></th>\n",
       "      <th></th>\n",
       "      <th></th>\n",
       "      <th></th>\n",
       "      <th></th>\n",
       "      <th></th>\n",
       "      <th></th>\n",
       "      <th></th>\n",
       "      <th></th>\n",
       "      <th></th>\n",
       "      <th></th>\n",
       "      <th></th>\n",
       "      <th></th>\n",
       "      <th></th>\n",
       "      <th></th>\n",
       "      <th></th>\n",
       "      <th></th>\n",
       "      <th></th>\n",
       "    </tr>\n",
       "  </thead>\n",
       "  <tbody>\n",
       "    <tr>\n",
       "      <th>2111</th>\n",
       "      <td>Min</td>\n",
       "      <td>Medchal-Malkajgiri</td>\n",
       "      <td>Kapra</td>\n",
       "      <td>23.7</td>\n",
       "      <td>22.4</td>\n",
       "      <td>22.4</td>\n",
       "      <td>22.4</td>\n",
       "      <td>21.6</td>\n",
       "      <td>17.6</td>\n",
       "      <td>13.8</td>\n",
       "      <td>...</td>\n",
       "      <td>24.1</td>\n",
       "      <td>27.4</td>\n",
       "      <td>25.2</td>\n",
       "      <td>24.4</td>\n",
       "      <td>23.5</td>\n",
       "      <td>23.5</td>\n",
       "      <td>21.8</td>\n",
       "      <td>15.6</td>\n",
       "      <td>13.8</td>\n",
       "      <td>13.2</td>\n",
       "    </tr>\n",
       "    <tr>\n",
       "      <th>2111</th>\n",
       "      <td>Max</td>\n",
       "      <td>Medchal-Malkajgiri</td>\n",
       "      <td>Kapra</td>\n",
       "      <td>32.7</td>\n",
       "      <td>28.8</td>\n",
       "      <td>29.3</td>\n",
       "      <td>31.8</td>\n",
       "      <td>30.9</td>\n",
       "      <td>29.9</td>\n",
       "      <td>28.4</td>\n",
       "      <td>...</td>\n",
       "      <td>40.8</td>\n",
       "      <td>41.0</td>\n",
       "      <td>34.1</td>\n",
       "      <td>31.7</td>\n",
       "      <td>30.9</td>\n",
       "      <td>32.1</td>\n",
       "      <td>32.6</td>\n",
       "      <td>31.8</td>\n",
       "      <td>30.9</td>\n",
       "      <td>31.2</td>\n",
       "    </tr>\n",
       "  </tbody>\n",
       "</table>\n",
       "<p>2 rows × 59 columns</p>\n",
       "</div>"
      ],
      "text/plain": [
       "       index            District Mandal  2013-06-01  2013-07-01  2013-08-01  \\\n",
       "Dmcode                                                                        \n",
       "2111     Min  Medchal-Malkajgiri  Kapra        23.7        22.4        22.4   \n",
       "2111     Max  Medchal-Malkajgiri  Kapra        32.7        28.8        29.3   \n",
       "\n",
       "        2013-09-01  2013-10-01  2013-11-01  2013-12-01  ...  2017-04-01  \\\n",
       "Dmcode                                                  ...               \n",
       "2111          22.4        21.6        17.6        13.8  ...        24.1   \n",
       "2111          31.8        30.9        29.9        28.4  ...        40.8   \n",
       "\n",
       "        2017-05-01  2017-06-01  2017-07-01  2017-08-01  2017-09-01  \\\n",
       "Dmcode                                                               \n",
       "2111          27.4        25.2        24.4        23.5        23.5   \n",
       "2111          41.0        34.1        31.7        30.9        32.1   \n",
       "\n",
       "        2017-10-01  2017-11-01  2017-12-01  2018-01-01  \n",
       "Dmcode                                                  \n",
       "2111          21.8        15.6        13.8        13.2  \n",
       "2111          32.6        31.8        30.9        31.2  \n",
       "\n",
       "[2 rows x 59 columns]"
      ]
     },
     "execution_count": 441,
     "metadata": {},
     "output_type": "execute_result"
    }
   ],
   "source": [
    "# Convert the months in columns to pandas datetime format.\n",
    "for i in df.columns[3:]:\n",
    "    name = df[i].name\n",
    "    date_format = pd.to_datetime(name, format='%b-%y')\n",
    "    df.rename(columns={df[i].name:date_format.date()}, inplace=True)\n",
    "\n",
    "df.head()"
   ]
  },
  {
   "cell_type": "code",
   "execution_count": 442,
   "metadata": {},
   "outputs": [
    {
     "data": {
      "text/html": [
       "<div>\n",
       "<style scoped>\n",
       "    .dataframe tbody tr th:only-of-type {\n",
       "        vertical-align: middle;\n",
       "    }\n",
       "\n",
       "    .dataframe tbody tr th {\n",
       "        vertical-align: top;\n",
       "    }\n",
       "\n",
       "    .dataframe thead th {\n",
       "        text-align: right;\n",
       "    }\n",
       "</style>\n",
       "<table border=\"1\" class=\"dataframe\">\n",
       "  <thead>\n",
       "    <tr style=\"text-align: right;\">\n",
       "      <th>Dmcode</th>\n",
       "      <th>2111</th>\n",
       "      <th>2111</th>\n",
       "    </tr>\n",
       "  </thead>\n",
       "  <tbody>\n",
       "    <tr>\n",
       "      <th>index</th>\n",
       "      <td>Min</td>\n",
       "      <td>Max</td>\n",
       "    </tr>\n",
       "    <tr>\n",
       "      <th>District</th>\n",
       "      <td>Medchal-Malkajgiri</td>\n",
       "      <td>Medchal-Malkajgiri</td>\n",
       "    </tr>\n",
       "    <tr>\n",
       "      <th>Mandal</th>\n",
       "      <td>Kapra</td>\n",
       "      <td>Kapra</td>\n",
       "    </tr>\n",
       "    <tr>\n",
       "      <th>2013-06-01</th>\n",
       "      <td>23.7</td>\n",
       "      <td>32.7</td>\n",
       "    </tr>\n",
       "    <tr>\n",
       "      <th>2013-07-01</th>\n",
       "      <td>22.4</td>\n",
       "      <td>28.8</td>\n",
       "    </tr>\n",
       "    <tr>\n",
       "      <th>2013-08-01</th>\n",
       "      <td>22.4</td>\n",
       "      <td>29.3</td>\n",
       "    </tr>\n",
       "    <tr>\n",
       "      <th>2013-09-01</th>\n",
       "      <td>22.4</td>\n",
       "      <td>31.8</td>\n",
       "    </tr>\n",
       "    <tr>\n",
       "      <th>2013-10-01</th>\n",
       "      <td>21.6</td>\n",
       "      <td>30.9</td>\n",
       "    </tr>\n",
       "    <tr>\n",
       "      <th>2013-11-01</th>\n",
       "      <td>17.6</td>\n",
       "      <td>29.9</td>\n",
       "    </tr>\n",
       "    <tr>\n",
       "      <th>2013-12-01</th>\n",
       "      <td>13.8</td>\n",
       "      <td>28.4</td>\n",
       "    </tr>\n",
       "    <tr>\n",
       "      <th>2014-01-01</th>\n",
       "      <td>16.0</td>\n",
       "      <td>28.2</td>\n",
       "    </tr>\n",
       "    <tr>\n",
       "      <th>2014-02-01</th>\n",
       "      <td>16.8</td>\n",
       "      <td>31.4</td>\n",
       "    </tr>\n",
       "    <tr>\n",
       "      <th>2014-03-01</th>\n",
       "      <td>20.6</td>\n",
       "      <td>33.9</td>\n",
       "    </tr>\n",
       "    <tr>\n",
       "      <th>2014-04-01</th>\n",
       "      <td>24.0</td>\n",
       "      <td>39.0</td>\n",
       "    </tr>\n",
       "    <tr>\n",
       "      <th>2014-05-01</th>\n",
       "      <td>25.5</td>\n",
       "      <td>39.3</td>\n",
       "    </tr>\n",
       "    <tr>\n",
       "      <th>2014-06-01</th>\n",
       "      <td>26.2</td>\n",
       "      <td>37.7</td>\n",
       "    </tr>\n",
       "    <tr>\n",
       "      <th>2014-07-01</th>\n",
       "      <td>23.6</td>\n",
       "      <td>31.9</td>\n",
       "    </tr>\n",
       "    <tr>\n",
       "      <th>2014-08-01</th>\n",
       "      <td>23.5</td>\n",
       "      <td>33.0</td>\n",
       "    </tr>\n",
       "    <tr>\n",
       "      <th>2014-09-01</th>\n",
       "      <td>23.2</td>\n",
       "      <td>32.3</td>\n",
       "    </tr>\n",
       "    <tr>\n",
       "      <th>2014-10-01</th>\n",
       "      <td>21.5</td>\n",
       "      <td>34.7</td>\n",
       "    </tr>\n",
       "    <tr>\n",
       "      <th>2014-11-01</th>\n",
       "      <td>18.1</td>\n",
       "      <td>32.2</td>\n",
       "    </tr>\n",
       "    <tr>\n",
       "      <th>2014-12-01</th>\n",
       "      <td>15.5</td>\n",
       "      <td>30.6</td>\n",
       "    </tr>\n",
       "    <tr>\n",
       "      <th>2015-01-01</th>\n",
       "      <td>15.6</td>\n",
       "      <td>31.1</td>\n",
       "    </tr>\n",
       "    <tr>\n",
       "      <th>2015-02-01</th>\n",
       "      <td>17.9</td>\n",
       "      <td>34.8</td>\n",
       "    </tr>\n",
       "    <tr>\n",
       "      <th>2015-03-01</th>\n",
       "      <td>22.0</td>\n",
       "      <td>36.5</td>\n",
       "    </tr>\n",
       "    <tr>\n",
       "      <th>2015-04-01</th>\n",
       "      <td>24.1</td>\n",
       "      <td>38.4</td>\n",
       "    </tr>\n",
       "    <tr>\n",
       "      <th>2015-05-01</th>\n",
       "      <td>27.4</td>\n",
       "      <td>41.3</td>\n",
       "    </tr>\n",
       "    <tr>\n",
       "      <th>2015-06-01</th>\n",
       "      <td>25.3</td>\n",
       "      <td>35.7</td>\n",
       "    </tr>\n",
       "    <tr>\n",
       "      <th>2015-07-01</th>\n",
       "      <td>25.7</td>\n",
       "      <td>35.6</td>\n",
       "    </tr>\n",
       "    <tr>\n",
       "      <th>2015-08-01</th>\n",
       "      <td>24.6</td>\n",
       "      <td>34.1</td>\n",
       "    </tr>\n",
       "    <tr>\n",
       "      <th>2015-09-01</th>\n",
       "      <td>22.5</td>\n",
       "      <td>33.8</td>\n",
       "    </tr>\n",
       "    <tr>\n",
       "      <th>2015-10-01</th>\n",
       "      <td>19.7</td>\n",
       "      <td>34.2</td>\n",
       "    </tr>\n",
       "    <tr>\n",
       "      <th>2015-11-01</th>\n",
       "      <td>17.8</td>\n",
       "      <td>33.0</td>\n",
       "    </tr>\n",
       "    <tr>\n",
       "      <th>2015-12-01</th>\n",
       "      <td>16.1</td>\n",
       "      <td>33.3</td>\n",
       "    </tr>\n",
       "    <tr>\n",
       "      <th>2016-01-01</th>\n",
       "      <td>15.2</td>\n",
       "      <td>32.5</td>\n",
       "    </tr>\n",
       "    <tr>\n",
       "      <th>2016-02-01</th>\n",
       "      <td>18.6</td>\n",
       "      <td>36.4</td>\n",
       "    </tr>\n",
       "    <tr>\n",
       "      <th>2016-03-01</th>\n",
       "      <td>21.4</td>\n",
       "      <td>38.9</td>\n",
       "    </tr>\n",
       "    <tr>\n",
       "      <th>2016-04-01</th>\n",
       "      <td>24.6</td>\n",
       "      <td>42.1</td>\n",
       "    </tr>\n",
       "    <tr>\n",
       "      <th>2016-05-01</th>\n",
       "      <td>25.3</td>\n",
       "      <td>39.6</td>\n",
       "    </tr>\n",
       "    <tr>\n",
       "      <th>2016-06-01</th>\n",
       "      <td>24.3</td>\n",
       "      <td>34.3</td>\n",
       "    </tr>\n",
       "    <tr>\n",
       "      <th>2016-07-01</th>\n",
       "      <td>23.1</td>\n",
       "      <td>30.4</td>\n",
       "    </tr>\n",
       "    <tr>\n",
       "      <th>2016-08-01</th>\n",
       "      <td>24.1</td>\n",
       "      <td>31.4</td>\n",
       "    </tr>\n",
       "    <tr>\n",
       "      <th>2016-09-01</th>\n",
       "      <td>22.7</td>\n",
       "      <td>29.3</td>\n",
       "    </tr>\n",
       "    <tr>\n",
       "      <th>2016-10-01</th>\n",
       "      <td>20.6</td>\n",
       "      <td>31.3</td>\n",
       "    </tr>\n",
       "    <tr>\n",
       "      <th>2016-11-01</th>\n",
       "      <td>14.1</td>\n",
       "      <td>33.0</td>\n",
       "    </tr>\n",
       "    <tr>\n",
       "      <th>2016-12-01</th>\n",
       "      <td>13.4</td>\n",
       "      <td>31.6</td>\n",
       "    </tr>\n",
       "    <tr>\n",
       "      <th>2017-01-01</th>\n",
       "      <td>13.6</td>\n",
       "      <td>31.4</td>\n",
       "    </tr>\n",
       "    <tr>\n",
       "      <th>2017-02-01</th>\n",
       "      <td>15.6</td>\n",
       "      <td>34.5</td>\n",
       "    </tr>\n",
       "    <tr>\n",
       "      <th>2017-03-01</th>\n",
       "      <td>19.8</td>\n",
       "      <td>37.3</td>\n",
       "    </tr>\n",
       "    <tr>\n",
       "      <th>2017-04-01</th>\n",
       "      <td>24.1</td>\n",
       "      <td>40.8</td>\n",
       "    </tr>\n",
       "    <tr>\n",
       "      <th>2017-05-01</th>\n",
       "      <td>27.4</td>\n",
       "      <td>41.0</td>\n",
       "    </tr>\n",
       "    <tr>\n",
       "      <th>2017-06-01</th>\n",
       "      <td>25.2</td>\n",
       "      <td>34.1</td>\n",
       "    </tr>\n",
       "    <tr>\n",
       "      <th>2017-07-01</th>\n",
       "      <td>24.4</td>\n",
       "      <td>31.7</td>\n",
       "    </tr>\n",
       "    <tr>\n",
       "      <th>2017-08-01</th>\n",
       "      <td>23.5</td>\n",
       "      <td>30.9</td>\n",
       "    </tr>\n",
       "    <tr>\n",
       "      <th>2017-09-01</th>\n",
       "      <td>23.5</td>\n",
       "      <td>32.1</td>\n",
       "    </tr>\n",
       "    <tr>\n",
       "      <th>2017-10-01</th>\n",
       "      <td>21.8</td>\n",
       "      <td>32.6</td>\n",
       "    </tr>\n",
       "    <tr>\n",
       "      <th>2017-11-01</th>\n",
       "      <td>15.6</td>\n",
       "      <td>31.8</td>\n",
       "    </tr>\n",
       "    <tr>\n",
       "      <th>2017-12-01</th>\n",
       "      <td>13.8</td>\n",
       "      <td>30.9</td>\n",
       "    </tr>\n",
       "    <tr>\n",
       "      <th>2018-01-01</th>\n",
       "      <td>13.2</td>\n",
       "      <td>31.2</td>\n",
       "    </tr>\n",
       "  </tbody>\n",
       "</table>\n",
       "</div>"
      ],
      "text/plain": [
       "Dmcode                    2111                2111\n",
       "index                      Min                 Max\n",
       "District    Medchal-Malkajgiri  Medchal-Malkajgiri\n",
       "Mandal                   Kapra               Kapra\n",
       "2013-06-01                23.7                32.7\n",
       "2013-07-01                22.4                28.8\n",
       "2013-08-01                22.4                29.3\n",
       "2013-09-01                22.4                31.8\n",
       "2013-10-01                21.6                30.9\n",
       "2013-11-01                17.6                29.9\n",
       "2013-12-01                13.8                28.4\n",
       "2014-01-01                16.0                28.2\n",
       "2014-02-01                16.8                31.4\n",
       "2014-03-01                20.6                33.9\n",
       "2014-04-01                24.0                39.0\n",
       "2014-05-01                25.5                39.3\n",
       "2014-06-01                26.2                37.7\n",
       "2014-07-01                23.6                31.9\n",
       "2014-08-01                23.5                33.0\n",
       "2014-09-01                23.2                32.3\n",
       "2014-10-01                21.5                34.7\n",
       "2014-11-01                18.1                32.2\n",
       "2014-12-01                15.5                30.6\n",
       "2015-01-01                15.6                31.1\n",
       "2015-02-01                17.9                34.8\n",
       "2015-03-01                22.0                36.5\n",
       "2015-04-01                24.1                38.4\n",
       "2015-05-01                27.4                41.3\n",
       "2015-06-01                25.3                35.7\n",
       "2015-07-01                25.7                35.6\n",
       "2015-08-01                24.6                34.1\n",
       "2015-09-01                22.5                33.8\n",
       "2015-10-01                19.7                34.2\n",
       "2015-11-01                17.8                33.0\n",
       "2015-12-01                16.1                33.3\n",
       "2016-01-01                15.2                32.5\n",
       "2016-02-01                18.6                36.4\n",
       "2016-03-01                21.4                38.9\n",
       "2016-04-01                24.6                42.1\n",
       "2016-05-01                25.3                39.6\n",
       "2016-06-01                24.3                34.3\n",
       "2016-07-01                23.1                30.4\n",
       "2016-08-01                24.1                31.4\n",
       "2016-09-01                22.7                29.3\n",
       "2016-10-01                20.6                31.3\n",
       "2016-11-01                14.1                33.0\n",
       "2016-12-01                13.4                31.6\n",
       "2017-01-01                13.6                31.4\n",
       "2017-02-01                15.6                34.5\n",
       "2017-03-01                19.8                37.3\n",
       "2017-04-01                24.1                40.8\n",
       "2017-05-01                27.4                41.0\n",
       "2017-06-01                25.2                34.1\n",
       "2017-07-01                24.4                31.7\n",
       "2017-08-01                23.5                30.9\n",
       "2017-09-01                23.5                32.1\n",
       "2017-10-01                21.8                32.6\n",
       "2017-11-01                15.6                31.8\n",
       "2017-12-01                13.8                30.9\n",
       "2018-01-01                13.2                31.2"
      ]
     },
     "execution_count": 442,
     "metadata": {},
     "output_type": "execute_result"
    }
   ],
   "source": [
    "# Use Pandas transpose (T) operation to transpose the table columns into rows and rows into columns. \n",
    "\n",
    "transposed_df = df.T\n",
    "transposed_df\n",
    "# print(df)"
   ]
  },
  {
   "cell_type": "code",
   "execution_count": 443,
   "metadata": {},
   "outputs": [
    {
     "data": {
      "text/plain": [
       "Index([   'index', 'District',   'Mandal', 2013-06-01, 2013-07-01, 2013-08-01,\n",
       "       2013-09-01, 2013-10-01, 2013-11-01, 2013-12-01, 2014-01-01, 2014-02-01,\n",
       "       2014-03-01, 2014-04-01, 2014-05-01, 2014-06-01, 2014-07-01, 2014-08-01,\n",
       "       2014-09-01, 2014-10-01, 2014-11-01, 2014-12-01, 2015-01-01, 2015-02-01,\n",
       "       2015-03-01, 2015-04-01, 2015-05-01, 2015-06-01, 2015-07-01, 2015-08-01,\n",
       "       2015-09-01, 2015-10-01, 2015-11-01, 2015-12-01, 2016-01-01, 2016-02-01,\n",
       "       2016-03-01, 2016-04-01, 2016-05-01, 2016-06-01, 2016-07-01, 2016-08-01,\n",
       "       2016-09-01, 2016-10-01, 2016-11-01, 2016-12-01, 2017-01-01, 2017-02-01,\n",
       "       2017-03-01, 2017-04-01, 2017-05-01, 2017-06-01, 2017-07-01, 2017-08-01,\n",
       "       2017-09-01, 2017-10-01, 2017-11-01, 2017-12-01, 2018-01-01],\n",
       "      dtype='object')"
      ]
     },
     "execution_count": 443,
     "metadata": {},
     "output_type": "execute_result"
    }
   ],
   "source": [
    "transposed_df.index"
   ]
  },
  {
   "cell_type": "code",
   "execution_count": 444,
   "metadata": {},
   "outputs": [
    {
     "data": {
      "text/plain": [
       "Index([2111, 2111], dtype='int64', name='Dmcode')"
      ]
     },
     "execution_count": 444,
     "metadata": {},
     "output_type": "execute_result"
    }
   ],
   "source": [
    "transposed_df.columns"
   ]
  },
  {
   "cell_type": "markdown",
   "metadata": {},
   "source": [
    "# Data Visualisation "
   ]
  },
  {
   "cell_type": "code",
   "execution_count": 446,
   "metadata": {},
   "outputs": [
    {
     "data": {
      "text/html": [
       "<div>\n",
       "<style scoped>\n",
       "    .dataframe tbody tr th:only-of-type {\n",
       "        vertical-align: middle;\n",
       "    }\n",
       "\n",
       "    .dataframe tbody tr th {\n",
       "        vertical-align: top;\n",
       "    }\n",
       "\n",
       "    .dataframe thead th {\n",
       "        text-align: right;\n",
       "    }\n",
       "</style>\n",
       "<table border=\"1\" class=\"dataframe\">\n",
       "  <thead>\n",
       "    <tr style=\"text-align: right;\">\n",
       "      <th></th>\n",
       "      <th>min</th>\n",
       "      <th>max</th>\n",
       "    </tr>\n",
       "  </thead>\n",
       "  <tbody>\n",
       "    <tr>\n",
       "      <th>2013-09-01</th>\n",
       "      <td>22.4</td>\n",
       "      <td>31.8</td>\n",
       "    </tr>\n",
       "    <tr>\n",
       "      <th>2013-10-01</th>\n",
       "      <td>21.6</td>\n",
       "      <td>30.9</td>\n",
       "    </tr>\n",
       "    <tr>\n",
       "      <th>2013-11-01</th>\n",
       "      <td>17.6</td>\n",
       "      <td>29.9</td>\n",
       "    </tr>\n",
       "    <tr>\n",
       "      <th>2013-12-01</th>\n",
       "      <td>13.8</td>\n",
       "      <td>28.4</td>\n",
       "    </tr>\n",
       "    <tr>\n",
       "      <th>2014-01-01</th>\n",
       "      <td>16.0</td>\n",
       "      <td>28.2</td>\n",
       "    </tr>\n",
       "    <tr>\n",
       "      <th>2014-02-01</th>\n",
       "      <td>16.8</td>\n",
       "      <td>31.4</td>\n",
       "    </tr>\n",
       "    <tr>\n",
       "      <th>2014-03-01</th>\n",
       "      <td>20.6</td>\n",
       "      <td>33.9</td>\n",
       "    </tr>\n",
       "    <tr>\n",
       "      <th>2014-04-01</th>\n",
       "      <td>24.0</td>\n",
       "      <td>39.0</td>\n",
       "    </tr>\n",
       "    <tr>\n",
       "      <th>2014-05-01</th>\n",
       "      <td>25.5</td>\n",
       "      <td>39.3</td>\n",
       "    </tr>\n",
       "    <tr>\n",
       "      <th>2014-06-01</th>\n",
       "      <td>26.2</td>\n",
       "      <td>37.7</td>\n",
       "    </tr>\n",
       "    <tr>\n",
       "      <th>2014-07-01</th>\n",
       "      <td>23.6</td>\n",
       "      <td>31.9</td>\n",
       "    </tr>\n",
       "    <tr>\n",
       "      <th>2014-08-01</th>\n",
       "      <td>23.5</td>\n",
       "      <td>33.0</td>\n",
       "    </tr>\n",
       "    <tr>\n",
       "      <th>2014-09-01</th>\n",
       "      <td>23.2</td>\n",
       "      <td>32.3</td>\n",
       "    </tr>\n",
       "    <tr>\n",
       "      <th>2014-10-01</th>\n",
       "      <td>21.5</td>\n",
       "      <td>34.7</td>\n",
       "    </tr>\n",
       "    <tr>\n",
       "      <th>2014-11-01</th>\n",
       "      <td>18.1</td>\n",
       "      <td>32.2</td>\n",
       "    </tr>\n",
       "    <tr>\n",
       "      <th>2014-12-01</th>\n",
       "      <td>15.5</td>\n",
       "      <td>30.6</td>\n",
       "    </tr>\n",
       "    <tr>\n",
       "      <th>2015-01-01</th>\n",
       "      <td>15.6</td>\n",
       "      <td>31.1</td>\n",
       "    </tr>\n",
       "    <tr>\n",
       "      <th>2015-02-01</th>\n",
       "      <td>17.9</td>\n",
       "      <td>34.8</td>\n",
       "    </tr>\n",
       "    <tr>\n",
       "      <th>2015-03-01</th>\n",
       "      <td>22.0</td>\n",
       "      <td>36.5</td>\n",
       "    </tr>\n",
       "    <tr>\n",
       "      <th>2015-04-01</th>\n",
       "      <td>24.1</td>\n",
       "      <td>38.4</td>\n",
       "    </tr>\n",
       "    <tr>\n",
       "      <th>2015-05-01</th>\n",
       "      <td>27.4</td>\n",
       "      <td>41.3</td>\n",
       "    </tr>\n",
       "    <tr>\n",
       "      <th>2015-06-01</th>\n",
       "      <td>25.3</td>\n",
       "      <td>35.7</td>\n",
       "    </tr>\n",
       "    <tr>\n",
       "      <th>2015-07-01</th>\n",
       "      <td>25.7</td>\n",
       "      <td>35.6</td>\n",
       "    </tr>\n",
       "    <tr>\n",
       "      <th>2015-08-01</th>\n",
       "      <td>24.6</td>\n",
       "      <td>34.1</td>\n",
       "    </tr>\n",
       "    <tr>\n",
       "      <th>2015-09-01</th>\n",
       "      <td>22.5</td>\n",
       "      <td>33.8</td>\n",
       "    </tr>\n",
       "    <tr>\n",
       "      <th>2015-10-01</th>\n",
       "      <td>19.7</td>\n",
       "      <td>34.2</td>\n",
       "    </tr>\n",
       "    <tr>\n",
       "      <th>2015-11-01</th>\n",
       "      <td>17.8</td>\n",
       "      <td>33.0</td>\n",
       "    </tr>\n",
       "    <tr>\n",
       "      <th>2015-12-01</th>\n",
       "      <td>16.1</td>\n",
       "      <td>33.3</td>\n",
       "    </tr>\n",
       "    <tr>\n",
       "      <th>2016-01-01</th>\n",
       "      <td>15.2</td>\n",
       "      <td>32.5</td>\n",
       "    </tr>\n",
       "    <tr>\n",
       "      <th>2016-02-01</th>\n",
       "      <td>18.6</td>\n",
       "      <td>36.4</td>\n",
       "    </tr>\n",
       "    <tr>\n",
       "      <th>2016-03-01</th>\n",
       "      <td>21.4</td>\n",
       "      <td>38.9</td>\n",
       "    </tr>\n",
       "    <tr>\n",
       "      <th>2016-04-01</th>\n",
       "      <td>24.6</td>\n",
       "      <td>42.1</td>\n",
       "    </tr>\n",
       "    <tr>\n",
       "      <th>2016-05-01</th>\n",
       "      <td>25.3</td>\n",
       "      <td>39.6</td>\n",
       "    </tr>\n",
       "    <tr>\n",
       "      <th>2016-06-01</th>\n",
       "      <td>24.3</td>\n",
       "      <td>34.3</td>\n",
       "    </tr>\n",
       "    <tr>\n",
       "      <th>2016-07-01</th>\n",
       "      <td>23.1</td>\n",
       "      <td>30.4</td>\n",
       "    </tr>\n",
       "    <tr>\n",
       "      <th>2016-08-01</th>\n",
       "      <td>24.1</td>\n",
       "      <td>31.4</td>\n",
       "    </tr>\n",
       "    <tr>\n",
       "      <th>2016-09-01</th>\n",
       "      <td>22.7</td>\n",
       "      <td>29.3</td>\n",
       "    </tr>\n",
       "    <tr>\n",
       "      <th>2016-10-01</th>\n",
       "      <td>20.6</td>\n",
       "      <td>31.3</td>\n",
       "    </tr>\n",
       "    <tr>\n",
       "      <th>2016-11-01</th>\n",
       "      <td>14.1</td>\n",
       "      <td>33.0</td>\n",
       "    </tr>\n",
       "    <tr>\n",
       "      <th>2016-12-01</th>\n",
       "      <td>13.4</td>\n",
       "      <td>31.6</td>\n",
       "    </tr>\n",
       "    <tr>\n",
       "      <th>2017-01-01</th>\n",
       "      <td>13.6</td>\n",
       "      <td>31.4</td>\n",
       "    </tr>\n",
       "    <tr>\n",
       "      <th>2017-02-01</th>\n",
       "      <td>15.6</td>\n",
       "      <td>34.5</td>\n",
       "    </tr>\n",
       "    <tr>\n",
       "      <th>2017-03-01</th>\n",
       "      <td>19.8</td>\n",
       "      <td>37.3</td>\n",
       "    </tr>\n",
       "    <tr>\n",
       "      <th>2017-04-01</th>\n",
       "      <td>24.1</td>\n",
       "      <td>40.8</td>\n",
       "    </tr>\n",
       "    <tr>\n",
       "      <th>2017-05-01</th>\n",
       "      <td>27.4</td>\n",
       "      <td>41.0</td>\n",
       "    </tr>\n",
       "    <tr>\n",
       "      <th>2017-06-01</th>\n",
       "      <td>25.2</td>\n",
       "      <td>34.1</td>\n",
       "    </tr>\n",
       "    <tr>\n",
       "      <th>2017-07-01</th>\n",
       "      <td>24.4</td>\n",
       "      <td>31.7</td>\n",
       "    </tr>\n",
       "    <tr>\n",
       "      <th>2017-08-01</th>\n",
       "      <td>23.5</td>\n",
       "      <td>30.9</td>\n",
       "    </tr>\n",
       "    <tr>\n",
       "      <th>2017-09-01</th>\n",
       "      <td>23.5</td>\n",
       "      <td>32.1</td>\n",
       "    </tr>\n",
       "    <tr>\n",
       "      <th>2017-10-01</th>\n",
       "      <td>21.8</td>\n",
       "      <td>32.6</td>\n",
       "    </tr>\n",
       "    <tr>\n",
       "      <th>2017-11-01</th>\n",
       "      <td>15.6</td>\n",
       "      <td>31.8</td>\n",
       "    </tr>\n",
       "    <tr>\n",
       "      <th>2017-12-01</th>\n",
       "      <td>13.8</td>\n",
       "      <td>30.9</td>\n",
       "    </tr>\n",
       "    <tr>\n",
       "      <th>2018-01-01</th>\n",
       "      <td>13.2</td>\n",
       "      <td>31.2</td>\n",
       "    </tr>\n",
       "  </tbody>\n",
       "</table>\n",
       "</div>"
      ],
      "text/plain": [
       "             min   max\n",
       "2013-09-01  22.4  31.8\n",
       "2013-10-01  21.6  30.9\n",
       "2013-11-01  17.6  29.9\n",
       "2013-12-01  13.8  28.4\n",
       "2014-01-01  16.0  28.2\n",
       "2014-02-01  16.8  31.4\n",
       "2014-03-01  20.6  33.9\n",
       "2014-04-01  24.0  39.0\n",
       "2014-05-01  25.5  39.3\n",
       "2014-06-01  26.2  37.7\n",
       "2014-07-01  23.6  31.9\n",
       "2014-08-01  23.5  33.0\n",
       "2014-09-01  23.2  32.3\n",
       "2014-10-01  21.5  34.7\n",
       "2014-11-01  18.1  32.2\n",
       "2014-12-01  15.5  30.6\n",
       "2015-01-01  15.6  31.1\n",
       "2015-02-01  17.9  34.8\n",
       "2015-03-01  22.0  36.5\n",
       "2015-04-01  24.1  38.4\n",
       "2015-05-01  27.4  41.3\n",
       "2015-06-01  25.3  35.7\n",
       "2015-07-01  25.7  35.6\n",
       "2015-08-01  24.6  34.1\n",
       "2015-09-01  22.5  33.8\n",
       "2015-10-01  19.7  34.2\n",
       "2015-11-01  17.8  33.0\n",
       "2015-12-01  16.1  33.3\n",
       "2016-01-01  15.2  32.5\n",
       "2016-02-01  18.6  36.4\n",
       "2016-03-01  21.4  38.9\n",
       "2016-04-01  24.6  42.1\n",
       "2016-05-01  25.3  39.6\n",
       "2016-06-01  24.3  34.3\n",
       "2016-07-01  23.1  30.4\n",
       "2016-08-01  24.1  31.4\n",
       "2016-09-01  22.7  29.3\n",
       "2016-10-01  20.6  31.3\n",
       "2016-11-01  14.1  33.0\n",
       "2016-12-01  13.4  31.6\n",
       "2017-01-01  13.6  31.4\n",
       "2017-02-01  15.6  34.5\n",
       "2017-03-01  19.8  37.3\n",
       "2017-04-01  24.1  40.8\n",
       "2017-05-01  27.4  41.0\n",
       "2017-06-01  25.2  34.1\n",
       "2017-07-01  24.4  31.7\n",
       "2017-08-01  23.5  30.9\n",
       "2017-09-01  23.5  32.1\n",
       "2017-10-01  21.8  32.6\n",
       "2017-11-01  15.6  31.8\n",
       "2017-12-01  13.8  30.9\n",
       "2018-01-01  13.2  31.2"
      ]
     },
     "execution_count": 446,
     "metadata": {},
     "output_type": "execute_result"
    }
   ],
   "source": [
    "# remove index, district and mandal rows from the data frame\n",
    "transposed_df = transposed_df.iloc[3:]\n",
    "transposed_df.columns = ['min', 'max']\n",
    "transposed_df"
   ]
  },
  {
   "cell_type": "code",
   "execution_count": 448,
   "metadata": {},
   "outputs": [
    {
     "data": {
      "application/vnd.plotly.v1+json": {
       "config": {
        "plotlyServerURL": "https://plot.ly"
       },
       "data": [
        {
         "hovertemplate": "variable=min<br>index=%{x}<br>value=%{y}<extra></extra>",
         "legendgroup": "min",
         "line": {
          "color": "#636efa",
          "dash": "solid"
         },
         "marker": {
          "symbol": "circle"
         },
         "mode": "lines",
         "name": "min",
         "orientation": "v",
         "showlegend": true,
         "type": "scatter",
         "x": [
          "2013-09-01",
          "2013-10-01",
          "2013-11-01",
          "2013-12-01",
          "2014-01-01",
          "2014-02-01",
          "2014-03-01",
          "2014-04-01",
          "2014-05-01",
          "2014-06-01",
          "2014-07-01",
          "2014-08-01",
          "2014-09-01",
          "2014-10-01",
          "2014-11-01",
          "2014-12-01",
          "2015-01-01",
          "2015-02-01",
          "2015-03-01",
          "2015-04-01",
          "2015-05-01",
          "2015-06-01",
          "2015-07-01",
          "2015-08-01",
          "2015-09-01",
          "2015-10-01",
          "2015-11-01",
          "2015-12-01",
          "2016-01-01",
          "2016-02-01",
          "2016-03-01",
          "2016-04-01",
          "2016-05-01",
          "2016-06-01",
          "2016-07-01",
          "2016-08-01",
          "2016-09-01",
          "2016-10-01",
          "2016-11-01",
          "2016-12-01",
          "2017-01-01",
          "2017-02-01",
          "2017-03-01",
          "2017-04-01",
          "2017-05-01",
          "2017-06-01",
          "2017-07-01",
          "2017-08-01",
          "2017-09-01",
          "2017-10-01",
          "2017-11-01",
          "2017-12-01",
          "2018-01-01"
         ],
         "xaxis": "x",
         "y": [
          22.4,
          21.6,
          17.6,
          13.8,
          16,
          16.8,
          20.6,
          24,
          25.5,
          26.2,
          23.6,
          23.5,
          23.2,
          21.5,
          18.1,
          15.5,
          15.6,
          17.9,
          22,
          24.1,
          27.4,
          25.3,
          25.7,
          24.6,
          22.5,
          19.7,
          17.8,
          16.1,
          15.2,
          18.6,
          21.4,
          24.6,
          25.3,
          24.3,
          23.1,
          24.1,
          22.7,
          20.6,
          14.1,
          13.4,
          13.6,
          15.6,
          19.8,
          24.1,
          27.4,
          25.2,
          24.4,
          23.5,
          23.5,
          21.8,
          15.6,
          13.8,
          13.2
         ],
         "yaxis": "y"
        },
        {
         "hovertemplate": "variable=max<br>index=%{x}<br>value=%{y}<extra></extra>",
         "legendgroup": "max",
         "line": {
          "color": "#EF553B",
          "dash": "solid"
         },
         "marker": {
          "symbol": "circle"
         },
         "mode": "lines",
         "name": "max",
         "orientation": "v",
         "showlegend": true,
         "type": "scatter",
         "x": [
          "2013-09-01",
          "2013-10-01",
          "2013-11-01",
          "2013-12-01",
          "2014-01-01",
          "2014-02-01",
          "2014-03-01",
          "2014-04-01",
          "2014-05-01",
          "2014-06-01",
          "2014-07-01",
          "2014-08-01",
          "2014-09-01",
          "2014-10-01",
          "2014-11-01",
          "2014-12-01",
          "2015-01-01",
          "2015-02-01",
          "2015-03-01",
          "2015-04-01",
          "2015-05-01",
          "2015-06-01",
          "2015-07-01",
          "2015-08-01",
          "2015-09-01",
          "2015-10-01",
          "2015-11-01",
          "2015-12-01",
          "2016-01-01",
          "2016-02-01",
          "2016-03-01",
          "2016-04-01",
          "2016-05-01",
          "2016-06-01",
          "2016-07-01",
          "2016-08-01",
          "2016-09-01",
          "2016-10-01",
          "2016-11-01",
          "2016-12-01",
          "2017-01-01",
          "2017-02-01",
          "2017-03-01",
          "2017-04-01",
          "2017-05-01",
          "2017-06-01",
          "2017-07-01",
          "2017-08-01",
          "2017-09-01",
          "2017-10-01",
          "2017-11-01",
          "2017-12-01",
          "2018-01-01"
         ],
         "xaxis": "x",
         "y": [
          31.8,
          30.9,
          29.9,
          28.4,
          28.2,
          31.4,
          33.9,
          39,
          39.3,
          37.7,
          31.9,
          33,
          32.3,
          34.7,
          32.2,
          30.6,
          31.1,
          34.8,
          36.5,
          38.4,
          41.3,
          35.7,
          35.6,
          34.1,
          33.8,
          34.2,
          33,
          33.3,
          32.5,
          36.4,
          38.9,
          42.1,
          39.6,
          34.3,
          30.4,
          31.4,
          29.3,
          31.3,
          33,
          31.6,
          31.4,
          34.5,
          37.3,
          40.8,
          41,
          34.1,
          31.7,
          30.9,
          32.1,
          32.6,
          31.8,
          30.9,
          31.2
         ],
         "yaxis": "y"
        }
       ],
       "layout": {
        "legend": {
         "title": {
          "text": "variable"
         },
         "tracegroupgap": 0
        },
        "template": {
         "data": {
          "bar": [
           {
            "error_x": {
             "color": "#2a3f5f"
            },
            "error_y": {
             "color": "#2a3f5f"
            },
            "marker": {
             "line": {
              "color": "#E5ECF6",
              "width": 0.5
             },
             "pattern": {
              "fillmode": "overlay",
              "size": 10,
              "solidity": 0.2
             }
            },
            "type": "bar"
           }
          ],
          "barpolar": [
           {
            "marker": {
             "line": {
              "color": "#E5ECF6",
              "width": 0.5
             },
             "pattern": {
              "fillmode": "overlay",
              "size": 10,
              "solidity": 0.2
             }
            },
            "type": "barpolar"
           }
          ],
          "carpet": [
           {
            "aaxis": {
             "endlinecolor": "#2a3f5f",
             "gridcolor": "white",
             "linecolor": "white",
             "minorgridcolor": "white",
             "startlinecolor": "#2a3f5f"
            },
            "baxis": {
             "endlinecolor": "#2a3f5f",
             "gridcolor": "white",
             "linecolor": "white",
             "minorgridcolor": "white",
             "startlinecolor": "#2a3f5f"
            },
            "type": "carpet"
           }
          ],
          "choropleth": [
           {
            "colorbar": {
             "outlinewidth": 0,
             "ticks": ""
            },
            "type": "choropleth"
           }
          ],
          "contour": [
           {
            "colorbar": {
             "outlinewidth": 0,
             "ticks": ""
            },
            "colorscale": [
             [
              0,
              "#0d0887"
             ],
             [
              0.1111111111111111,
              "#46039f"
             ],
             [
              0.2222222222222222,
              "#7201a8"
             ],
             [
              0.3333333333333333,
              "#9c179e"
             ],
             [
              0.4444444444444444,
              "#bd3786"
             ],
             [
              0.5555555555555556,
              "#d8576b"
             ],
             [
              0.6666666666666666,
              "#ed7953"
             ],
             [
              0.7777777777777778,
              "#fb9f3a"
             ],
             [
              0.8888888888888888,
              "#fdca26"
             ],
             [
              1,
              "#f0f921"
             ]
            ],
            "type": "contour"
           }
          ],
          "contourcarpet": [
           {
            "colorbar": {
             "outlinewidth": 0,
             "ticks": ""
            },
            "type": "contourcarpet"
           }
          ],
          "heatmap": [
           {
            "colorbar": {
             "outlinewidth": 0,
             "ticks": ""
            },
            "colorscale": [
             [
              0,
              "#0d0887"
             ],
             [
              0.1111111111111111,
              "#46039f"
             ],
             [
              0.2222222222222222,
              "#7201a8"
             ],
             [
              0.3333333333333333,
              "#9c179e"
             ],
             [
              0.4444444444444444,
              "#bd3786"
             ],
             [
              0.5555555555555556,
              "#d8576b"
             ],
             [
              0.6666666666666666,
              "#ed7953"
             ],
             [
              0.7777777777777778,
              "#fb9f3a"
             ],
             [
              0.8888888888888888,
              "#fdca26"
             ],
             [
              1,
              "#f0f921"
             ]
            ],
            "type": "heatmap"
           }
          ],
          "heatmapgl": [
           {
            "colorbar": {
             "outlinewidth": 0,
             "ticks": ""
            },
            "colorscale": [
             [
              0,
              "#0d0887"
             ],
             [
              0.1111111111111111,
              "#46039f"
             ],
             [
              0.2222222222222222,
              "#7201a8"
             ],
             [
              0.3333333333333333,
              "#9c179e"
             ],
             [
              0.4444444444444444,
              "#bd3786"
             ],
             [
              0.5555555555555556,
              "#d8576b"
             ],
             [
              0.6666666666666666,
              "#ed7953"
             ],
             [
              0.7777777777777778,
              "#fb9f3a"
             ],
             [
              0.8888888888888888,
              "#fdca26"
             ],
             [
              1,
              "#f0f921"
             ]
            ],
            "type": "heatmapgl"
           }
          ],
          "histogram": [
           {
            "marker": {
             "pattern": {
              "fillmode": "overlay",
              "size": 10,
              "solidity": 0.2
             }
            },
            "type": "histogram"
           }
          ],
          "histogram2d": [
           {
            "colorbar": {
             "outlinewidth": 0,
             "ticks": ""
            },
            "colorscale": [
             [
              0,
              "#0d0887"
             ],
             [
              0.1111111111111111,
              "#46039f"
             ],
             [
              0.2222222222222222,
              "#7201a8"
             ],
             [
              0.3333333333333333,
              "#9c179e"
             ],
             [
              0.4444444444444444,
              "#bd3786"
             ],
             [
              0.5555555555555556,
              "#d8576b"
             ],
             [
              0.6666666666666666,
              "#ed7953"
             ],
             [
              0.7777777777777778,
              "#fb9f3a"
             ],
             [
              0.8888888888888888,
              "#fdca26"
             ],
             [
              1,
              "#f0f921"
             ]
            ],
            "type": "histogram2d"
           }
          ],
          "histogram2dcontour": [
           {
            "colorbar": {
             "outlinewidth": 0,
             "ticks": ""
            },
            "colorscale": [
             [
              0,
              "#0d0887"
             ],
             [
              0.1111111111111111,
              "#46039f"
             ],
             [
              0.2222222222222222,
              "#7201a8"
             ],
             [
              0.3333333333333333,
              "#9c179e"
             ],
             [
              0.4444444444444444,
              "#bd3786"
             ],
             [
              0.5555555555555556,
              "#d8576b"
             ],
             [
              0.6666666666666666,
              "#ed7953"
             ],
             [
              0.7777777777777778,
              "#fb9f3a"
             ],
             [
              0.8888888888888888,
              "#fdca26"
             ],
             [
              1,
              "#f0f921"
             ]
            ],
            "type": "histogram2dcontour"
           }
          ],
          "mesh3d": [
           {
            "colorbar": {
             "outlinewidth": 0,
             "ticks": ""
            },
            "type": "mesh3d"
           }
          ],
          "parcoords": [
           {
            "line": {
             "colorbar": {
              "outlinewidth": 0,
              "ticks": ""
             }
            },
            "type": "parcoords"
           }
          ],
          "pie": [
           {
            "automargin": true,
            "type": "pie"
           }
          ],
          "scatter": [
           {
            "fillpattern": {
             "fillmode": "overlay",
             "size": 10,
             "solidity": 0.2
            },
            "type": "scatter"
           }
          ],
          "scatter3d": [
           {
            "line": {
             "colorbar": {
              "outlinewidth": 0,
              "ticks": ""
             }
            },
            "marker": {
             "colorbar": {
              "outlinewidth": 0,
              "ticks": ""
             }
            },
            "type": "scatter3d"
           }
          ],
          "scattercarpet": [
           {
            "marker": {
             "colorbar": {
              "outlinewidth": 0,
              "ticks": ""
             }
            },
            "type": "scattercarpet"
           }
          ],
          "scattergeo": [
           {
            "marker": {
             "colorbar": {
              "outlinewidth": 0,
              "ticks": ""
             }
            },
            "type": "scattergeo"
           }
          ],
          "scattergl": [
           {
            "marker": {
             "colorbar": {
              "outlinewidth": 0,
              "ticks": ""
             }
            },
            "type": "scattergl"
           }
          ],
          "scattermapbox": [
           {
            "marker": {
             "colorbar": {
              "outlinewidth": 0,
              "ticks": ""
             }
            },
            "type": "scattermapbox"
           }
          ],
          "scatterpolar": [
           {
            "marker": {
             "colorbar": {
              "outlinewidth": 0,
              "ticks": ""
             }
            },
            "type": "scatterpolar"
           }
          ],
          "scatterpolargl": [
           {
            "marker": {
             "colorbar": {
              "outlinewidth": 0,
              "ticks": ""
             }
            },
            "type": "scatterpolargl"
           }
          ],
          "scatterternary": [
           {
            "marker": {
             "colorbar": {
              "outlinewidth": 0,
              "ticks": ""
             }
            },
            "type": "scatterternary"
           }
          ],
          "surface": [
           {
            "colorbar": {
             "outlinewidth": 0,
             "ticks": ""
            },
            "colorscale": [
             [
              0,
              "#0d0887"
             ],
             [
              0.1111111111111111,
              "#46039f"
             ],
             [
              0.2222222222222222,
              "#7201a8"
             ],
             [
              0.3333333333333333,
              "#9c179e"
             ],
             [
              0.4444444444444444,
              "#bd3786"
             ],
             [
              0.5555555555555556,
              "#d8576b"
             ],
             [
              0.6666666666666666,
              "#ed7953"
             ],
             [
              0.7777777777777778,
              "#fb9f3a"
             ],
             [
              0.8888888888888888,
              "#fdca26"
             ],
             [
              1,
              "#f0f921"
             ]
            ],
            "type": "surface"
           }
          ],
          "table": [
           {
            "cells": {
             "fill": {
              "color": "#EBF0F8"
             },
             "line": {
              "color": "white"
             }
            },
            "header": {
             "fill": {
              "color": "#C8D4E3"
             },
             "line": {
              "color": "white"
             }
            },
            "type": "table"
           }
          ]
         },
         "layout": {
          "annotationdefaults": {
           "arrowcolor": "#2a3f5f",
           "arrowhead": 0,
           "arrowwidth": 1
          },
          "autotypenumbers": "strict",
          "coloraxis": {
           "colorbar": {
            "outlinewidth": 0,
            "ticks": ""
           }
          },
          "colorscale": {
           "diverging": [
            [
             0,
             "#8e0152"
            ],
            [
             0.1,
             "#c51b7d"
            ],
            [
             0.2,
             "#de77ae"
            ],
            [
             0.3,
             "#f1b6da"
            ],
            [
             0.4,
             "#fde0ef"
            ],
            [
             0.5,
             "#f7f7f7"
            ],
            [
             0.6,
             "#e6f5d0"
            ],
            [
             0.7,
             "#b8e186"
            ],
            [
             0.8,
             "#7fbc41"
            ],
            [
             0.9,
             "#4d9221"
            ],
            [
             1,
             "#276419"
            ]
           ],
           "sequential": [
            [
             0,
             "#0d0887"
            ],
            [
             0.1111111111111111,
             "#46039f"
            ],
            [
             0.2222222222222222,
             "#7201a8"
            ],
            [
             0.3333333333333333,
             "#9c179e"
            ],
            [
             0.4444444444444444,
             "#bd3786"
            ],
            [
             0.5555555555555556,
             "#d8576b"
            ],
            [
             0.6666666666666666,
             "#ed7953"
            ],
            [
             0.7777777777777778,
             "#fb9f3a"
            ],
            [
             0.8888888888888888,
             "#fdca26"
            ],
            [
             1,
             "#f0f921"
            ]
           ],
           "sequentialminus": [
            [
             0,
             "#0d0887"
            ],
            [
             0.1111111111111111,
             "#46039f"
            ],
            [
             0.2222222222222222,
             "#7201a8"
            ],
            [
             0.3333333333333333,
             "#9c179e"
            ],
            [
             0.4444444444444444,
             "#bd3786"
            ],
            [
             0.5555555555555556,
             "#d8576b"
            ],
            [
             0.6666666666666666,
             "#ed7953"
            ],
            [
             0.7777777777777778,
             "#fb9f3a"
            ],
            [
             0.8888888888888888,
             "#fdca26"
            ],
            [
             1,
             "#f0f921"
            ]
           ]
          },
          "colorway": [
           "#636efa",
           "#EF553B",
           "#00cc96",
           "#ab63fa",
           "#FFA15A",
           "#19d3f3",
           "#FF6692",
           "#B6E880",
           "#FF97FF",
           "#FECB52"
          ],
          "font": {
           "color": "#2a3f5f"
          },
          "geo": {
           "bgcolor": "white",
           "lakecolor": "white",
           "landcolor": "#E5ECF6",
           "showlakes": true,
           "showland": true,
           "subunitcolor": "white"
          },
          "hoverlabel": {
           "align": "left"
          },
          "hovermode": "closest",
          "mapbox": {
           "style": "light"
          },
          "paper_bgcolor": "white",
          "plot_bgcolor": "#E5ECF6",
          "polar": {
           "angularaxis": {
            "gridcolor": "white",
            "linecolor": "white",
            "ticks": ""
           },
           "bgcolor": "#E5ECF6",
           "radialaxis": {
            "gridcolor": "white",
            "linecolor": "white",
            "ticks": ""
           }
          },
          "scene": {
           "xaxis": {
            "backgroundcolor": "#E5ECF6",
            "gridcolor": "white",
            "gridwidth": 2,
            "linecolor": "white",
            "showbackground": true,
            "ticks": "",
            "zerolinecolor": "white"
           },
           "yaxis": {
            "backgroundcolor": "#E5ECF6",
            "gridcolor": "white",
            "gridwidth": 2,
            "linecolor": "white",
            "showbackground": true,
            "ticks": "",
            "zerolinecolor": "white"
           },
           "zaxis": {
            "backgroundcolor": "#E5ECF6",
            "gridcolor": "white",
            "gridwidth": 2,
            "linecolor": "white",
            "showbackground": true,
            "ticks": "",
            "zerolinecolor": "white"
           }
          },
          "shapedefaults": {
           "line": {
            "color": "#2a3f5f"
           }
          },
          "ternary": {
           "aaxis": {
            "gridcolor": "white",
            "linecolor": "white",
            "ticks": ""
           },
           "baxis": {
            "gridcolor": "white",
            "linecolor": "white",
            "ticks": ""
           },
           "bgcolor": "#E5ECF6",
           "caxis": {
            "gridcolor": "white",
            "linecolor": "white",
            "ticks": ""
           }
          },
          "title": {
           "x": 0.05
          },
          "xaxis": {
           "automargin": true,
           "gridcolor": "white",
           "linecolor": "white",
           "ticks": "",
           "title": {
            "standoff": 15
           },
           "zerolinecolor": "white",
           "zerolinewidth": 2
          },
          "yaxis": {
           "automargin": true,
           "gridcolor": "white",
           "linecolor": "white",
           "ticks": "",
           "title": {
            "standoff": 15
           },
           "zerolinecolor": "white",
           "zerolinewidth": 2
          }
         }
        },
        "title": {
         "text": "Monthly Minimum and Maximum Temperatures for Kapra Mandal, Medchal-Malkajgiri district"
        },
        "xaxis": {
         "anchor": "y",
         "domain": [
          0,
          1
         ],
         "title": {
          "text": "index"
         }
        },
        "yaxis": {
         "anchor": "x",
         "domain": [
          0,
          1
         ],
         "title": {
          "text": "value"
         }
        }
       }
      }
     },
     "metadata": {},
     "output_type": "display_data"
    }
   ],
   "source": [
    "# Create line plots using plotly.express to show the minimum and maximum temperatures for given months\n",
    "\n",
    "plot = px.line(transposed_df, x=transposed_df.index, y=transposed_df.columns, title='Monthly Minimum and Maximum Temperatures for Kapra Mandal, Medchal-Malkajgiri district')\n",
    "\n",
    "plot.show()\n"
   ]
  }
 ],
 "metadata": {
  "kernelspec": {
   "display_name": "Python 3",
   "language": "python",
   "name": "python3"
  },
  "language_info": {
   "codemirror_mode": {
    "name": "ipython",
    "version": 3
   },
   "file_extension": ".py",
   "mimetype": "text/x-python",
   "name": "python",
   "nbconvert_exporter": "python",
   "pygments_lexer": "ipython3",
   "version": "3.11.4"
  },
  "orig_nbformat": 4
 },
 "nbformat": 4,
 "nbformat_minor": 2
}
