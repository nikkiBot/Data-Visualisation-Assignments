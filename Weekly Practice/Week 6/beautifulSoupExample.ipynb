{
 "cells": [
  {
   "cell_type": "markdown",
   "id": "d66423fa-d95a-44f3-91c4-bd6c920b789f",
   "metadata": {},
   "source": [
    "### [DOM model of HTML page](https://developer.mozilla.org/en-US/docs/Web/API/Document_Object_Model) and Table Scraping"
   ]
  },
  {
   "cell_type": "markdown",
   "id": "a355b91c-2dec-474c-8f9a-466863482b2b",
   "metadata": {},
   "source": [
    "[Beautiful Soup](https://beautiful-soup-4.readthedocs.io/en/latest/) is a Python library for pulling data out of HTML and XML files using a DOM parser such as html5lin, lxml, etc..."
   ]
  },
  {
   "cell_type": "markdown",
   "id": "bacf61cb-9aa7-4928-891f-6bf8fc444c9e",
   "metadata": {},
   "source": [
    "Note:  \n",
    "DOM stands for Document Object Model. It [represents a document with a logical tree](https://en.wikipedia.org/wiki/Document_Object_Model#/media/File:DOM-model.svg). Each branch of the tree ends in a node, and each node contains objects. DOM methods allow programmatic access to the tree.>"
   ]
  },
  {
   "cell_type": "code",
   "execution_count": 1,
   "id": "e3585e5a-ec6c-4e69-a788-ad01c4ad0187",
   "metadata": {
    "jupyter": {
     "source_hidden": true
    },
    "scrolled": true
   },
   "outputs": [],
   "source": [
    "import requests\n",
    "#pip install beautifulsoup4 -> package to parse html DOM\n",
    "#pip install html5lib\n",
    "#or !pip install lxml\n",
    "from bs4 import BeautifulSoup\n",
    "import pandas as pd"
   ]
  },
  {
   "cell_type": "code",
   "execution_count": 14,
   "id": "52427d15-06e4-4002-8b0b-55208a7cd9db",
   "metadata": {
    "jupyter": {
     "source_hidden": true
    }
   },
   "outputs": [
    {
     "name": "stdout",
     "output_type": "stream",
     "text": [
      "Success!\n"
     ]
    },
    {
     "data": {
      "text/plain": [
       "<Response [200]>"
      ]
     },
     "execution_count": 14,
     "metadata": {},
     "output_type": "execute_result"
    }
   ],
   "source": [
    "url = \"https://raw.githubusercontent.com/mdn/css-examples/main/learn/tasks/tables/table-download.html\"\n",
    "r = requests.get(url)\n",
    "if(r.status_code == 200):\n",
    "    print(\"Success!\")\n",
    "r\n",
    "\n",
    "# https://bioub.github.io/dom-visualizer/ to visualize the DOM"
   ]
  },
  {
   "cell_type": "code",
   "execution_count": 15,
   "id": "a097f1a8-7d24-4188-b2f3-f38877204c0e",
   "metadata": {
    "jupyter": {
     "source_hidden": true
    }
   },
   "outputs": [
    {
     "name": "stdout",
     "output_type": "stream",
     "text": [
      "<!DOCTYPE html>\n",
      "<html lang=\"en\">\n",
      "  <head>\n",
      "    <meta charset=\"utf-8\"/>\n",
      "    <title>Tables Task</title>\n",
      "\n",
      "    <style>\n",
      "      table {\n",
      "        font-size: 75%;\n",
      "      }\n",
      "    </style>\n",
      "\n",
      "  </head>\n",
      "\n",
      "  <body>\n",
      "    <table>\n",
      "      <caption>A summary of the UK's most famous punk bands</caption>\n",
      "      <thead>\n",
      "        <tr>\n",
      "          <th scope=\"col\">Band</th>\n",
      "          <th scope=\"col\">Year formed</th>\n",
      "          <th scope=\"col\">No. of Albums</th>\n",
      "          <th scope=\"col\">Most famous song</th>\n",
      "        </tr>\n",
      "      </thead>\n",
      "      <tbody>\n",
      "        <tr>\n",
      "          <th scope=\"row\">Buzzcocks</th>\n",
      "          <td>1976</td>\n",
      "          <td>9</td>\n",
      "          <td>Ever fallen in love (with someone you shouldn't've)</td>\n",
      "        </tr>\n",
      "        <tr>\n",
      "          <th scope=\"row\">The Clash</th>\n",
      "          <td>1976</td>\n",
      "          <td>6</td>\n",
      "          <td>London Calling</td>\n",
      "        </tr>\n",
      "        <tr>\n",
      "          <th scope=\"row\">The Damned</th>\n",
      "          <td>1976</td>\n",
      "          <td>10</td>\n",
      "          <td>Smash it up</td>\n",
      "        </tr>\n",
      "        <tr>\n",
      "          <th scope=\"row\">Sex Pistols</th>\n",
      "          <td>1975</td>\n",
      "          <td>1</td>\n",
      "          <td>Anarchy in the UK</td>\n",
      "        </tr>\n",
      "        <tr>\n",
      "          <th scope=\"row\">Sham 69</th>\n",
      "          <td>1976</td>\n",
      "          <td>13</td>\n",
      "          <td>If the kids are united</td>\n",
      "        </tr>\n",
      "        <tr>\n",
      "          <th scope=\"row\">Siouxsie and the Banshees</th>\n",
      "          <td>1976</td>\n",
      "          <td>11</td>\n",
      "          <td>Hong Kong Garden</td>\n",
      "        </tr>\n",
      "        <tr>\n",
      "          <th scope=\"row\">Stiff Little Fingers</th>\n",
      "          <td>1977</td>\n",
      "          <td>10</td>\n",
      "          <td>Suspect Device</td>\n",
      "        </tr>\n",
      "        <tr>\n",
      "          <th scope=\"row\">The Stranglers</th>\n",
      "          <td>1974</td>\n",
      "          <td>17</td>\n",
      "          <td>No More Heroes</td>\n",
      "        </tr>\n",
      "      </tbody>\n",
      "      <tfoot>\n",
      "        <tr>\n",
      "          <th scope=\"row\" colspan=\"2\">Total albums</th>\n",
      "          <td colspan=\"2\">77</td>\n",
      "        </tr>\n",
      "      </tfoot>\n",
      "    </table>\n",
      "\n",
      "  </body>\n",
      "\n",
      "</html>\n"
     ]
    }
   ],
   "source": [
    "print(r.text)\n",
    "# r.text\n",
    "# r = r.json()\n",
    "# r"
   ]
  },
  {
   "cell_type": "code",
   "execution_count": 18,
   "id": "14b18ce8-d048-49c5-8e06-19ec65d447f4",
   "metadata": {
    "jupyter": {
     "source_hidden": true
    }
   },
   "outputs": [
    {
     "data": {
      "text/plain": [
       "<!DOCTYPE html>\n",
       "\n",
       "<html lang=\"en\">\n",
       "<head>\n",
       "<meta charset=\"utf-8\"/>\n",
       "<title>Tables Task</title>\n",
       "<style>\n",
       "      table {\n",
       "        font-size: 75%;\n",
       "      }\n",
       "    </style>\n",
       "</head>\n",
       "<body>\n",
       "<table>\n",
       "<caption>A summary of the UK's most famous punk bands</caption>\n",
       "<thead>\n",
       "<tr>\n",
       "<th scope=\"col\">Band</th>\n",
       "<th scope=\"col\">Year formed</th>\n",
       "<th scope=\"col\">No. of Albums</th>\n",
       "<th scope=\"col\">Most famous song</th>\n",
       "</tr>\n",
       "</thead>\n",
       "<tbody>\n",
       "<tr>\n",
       "<th scope=\"row\">Buzzcocks</th>\n",
       "<td>1976</td>\n",
       "<td>9</td>\n",
       "<td>Ever fallen in love (with someone you shouldn't've)</td>\n",
       "</tr>\n",
       "<tr>\n",
       "<th scope=\"row\">The Clash</th>\n",
       "<td>1976</td>\n",
       "<td>6</td>\n",
       "<td>London Calling</td>\n",
       "</tr>\n",
       "<tr>\n",
       "<th scope=\"row\">The Damned</th>\n",
       "<td>1976</td>\n",
       "<td>10</td>\n",
       "<td>Smash it up</td>\n",
       "</tr>\n",
       "<tr>\n",
       "<th scope=\"row\">Sex Pistols</th>\n",
       "<td>1975</td>\n",
       "<td>1</td>\n",
       "<td>Anarchy in the UK</td>\n",
       "</tr>\n",
       "<tr>\n",
       "<th scope=\"row\">Sham 69</th>\n",
       "<td>1976</td>\n",
       "<td>13</td>\n",
       "<td>If the kids are united</td>\n",
       "</tr>\n",
       "<tr>\n",
       "<th scope=\"row\">Siouxsie and the Banshees</th>\n",
       "<td>1976</td>\n",
       "<td>11</td>\n",
       "<td>Hong Kong Garden</td>\n",
       "</tr>\n",
       "<tr>\n",
       "<th scope=\"row\">Stiff Little Fingers</th>\n",
       "<td>1977</td>\n",
       "<td>10</td>\n",
       "<td>Suspect Device</td>\n",
       "</tr>\n",
       "<tr>\n",
       "<th scope=\"row\">The Stranglers</th>\n",
       "<td>1974</td>\n",
       "<td>17</td>\n",
       "<td>No More Heroes</td>\n",
       "</tr>\n",
       "</tbody>\n",
       "<tfoot>\n",
       "<tr>\n",
       "<th colspan=\"2\" scope=\"row\">Total albums</th>\n",
       "<td colspan=\"2\">77</td>\n",
       "</tr>\n",
       "</tfoot>\n",
       "</table>\n",
       "</body>\n",
       "</html>"
      ]
     },
     "execution_count": 18,
     "metadata": {},
     "output_type": "execute_result"
    }
   ],
   "source": [
    "soup = BeautifulSoup(r.text, 'html.parser')\n",
    "#soup = BeautifulSoup(r.text, 'lxml')\n",
    "soup # soup is a html object now (json)\n",
    "# soup.index"
   ]
  },
  {
   "cell_type": "code",
   "execution_count": 19,
   "id": "204c5599-6ef7-4855-8352-edf755ce6956",
   "metadata": {
    "jupyter": {
     "source_hidden": true
    }
   },
   "outputs": [
    {
     "data": {
      "text/plain": [
       "<head>\n",
       "<meta charset=\"utf-8\"/>\n",
       "<title>Tables Task</title>\n",
       "<style>\n",
       "      table {\n",
       "        font-size: 75%;\n",
       "      }\n",
       "    </style>\n",
       "</head>"
      ]
     },
     "execution_count": 19,
     "metadata": {},
     "output_type": "execute_result"
    }
   ],
   "source": [
    "soup.head"
   ]
  },
  {
   "cell_type": "code",
   "execution_count": 20,
   "id": "01c824bf-f502-487e-bcce-565f89a153e6",
   "metadata": {
    "jupyter": {
     "source_hidden": true
    }
   },
   "outputs": [
    {
     "data": {
      "text/plain": [
       "<body>\n",
       "<table>\n",
       "<caption>A summary of the UK's most famous punk bands</caption>\n",
       "<thead>\n",
       "<tr>\n",
       "<th scope=\"col\">Band</th>\n",
       "<th scope=\"col\">Year formed</th>\n",
       "<th scope=\"col\">No. of Albums</th>\n",
       "<th scope=\"col\">Most famous song</th>\n",
       "</tr>\n",
       "</thead>\n",
       "<tbody>\n",
       "<tr>\n",
       "<th scope=\"row\">Buzzcocks</th>\n",
       "<td>1976</td>\n",
       "<td>9</td>\n",
       "<td>Ever fallen in love (with someone you shouldn't've)</td>\n",
       "</tr>\n",
       "<tr>\n",
       "<th scope=\"row\">The Clash</th>\n",
       "<td>1976</td>\n",
       "<td>6</td>\n",
       "<td>London Calling</td>\n",
       "</tr>\n",
       "<tr>\n",
       "<th scope=\"row\">The Damned</th>\n",
       "<td>1976</td>\n",
       "<td>10</td>\n",
       "<td>Smash it up</td>\n",
       "</tr>\n",
       "<tr>\n",
       "<th scope=\"row\">Sex Pistols</th>\n",
       "<td>1975</td>\n",
       "<td>1</td>\n",
       "<td>Anarchy in the UK</td>\n",
       "</tr>\n",
       "<tr>\n",
       "<th scope=\"row\">Sham 69</th>\n",
       "<td>1976</td>\n",
       "<td>13</td>\n",
       "<td>If the kids are united</td>\n",
       "</tr>\n",
       "<tr>\n",
       "<th scope=\"row\">Siouxsie and the Banshees</th>\n",
       "<td>1976</td>\n",
       "<td>11</td>\n",
       "<td>Hong Kong Garden</td>\n",
       "</tr>\n",
       "<tr>\n",
       "<th scope=\"row\">Stiff Little Fingers</th>\n",
       "<td>1977</td>\n",
       "<td>10</td>\n",
       "<td>Suspect Device</td>\n",
       "</tr>\n",
       "<tr>\n",
       "<th scope=\"row\">The Stranglers</th>\n",
       "<td>1974</td>\n",
       "<td>17</td>\n",
       "<td>No More Heroes</td>\n",
       "</tr>\n",
       "</tbody>\n",
       "<tfoot>\n",
       "<tr>\n",
       "<th colspan=\"2\" scope=\"row\">Total albums</th>\n",
       "<td colspan=\"2\">77</td>\n",
       "</tr>\n",
       "</tfoot>\n",
       "</table>\n",
       "</body>"
      ]
     },
     "execution_count": 20,
     "metadata": {},
     "output_type": "execute_result"
    }
   ],
   "source": [
    "soup.body"
   ]
  },
  {
   "cell_type": "code",
   "execution_count": 21,
   "id": "f8ee15bd-fdc1-4ed5-91b4-c51bece90fb7",
   "metadata": {
    "jupyter": {
     "source_hidden": true
    }
   },
   "outputs": [
    {
     "data": {
      "text/plain": [
       "<table>\n",
       "<caption>A summary of the UK's most famous punk bands</caption>\n",
       "<thead>\n",
       "<tr>\n",
       "<th scope=\"col\">Band</th>\n",
       "<th scope=\"col\">Year formed</th>\n",
       "<th scope=\"col\">No. of Albums</th>\n",
       "<th scope=\"col\">Most famous song</th>\n",
       "</tr>\n",
       "</thead>\n",
       "<tbody>\n",
       "<tr>\n",
       "<th scope=\"row\">Buzzcocks</th>\n",
       "<td>1976</td>\n",
       "<td>9</td>\n",
       "<td>Ever fallen in love (with someone you shouldn't've)</td>\n",
       "</tr>\n",
       "<tr>\n",
       "<th scope=\"row\">The Clash</th>\n",
       "<td>1976</td>\n",
       "<td>6</td>\n",
       "<td>London Calling</td>\n",
       "</tr>\n",
       "<tr>\n",
       "<th scope=\"row\">The Damned</th>\n",
       "<td>1976</td>\n",
       "<td>10</td>\n",
       "<td>Smash it up</td>\n",
       "</tr>\n",
       "<tr>\n",
       "<th scope=\"row\">Sex Pistols</th>\n",
       "<td>1975</td>\n",
       "<td>1</td>\n",
       "<td>Anarchy in the UK</td>\n",
       "</tr>\n",
       "<tr>\n",
       "<th scope=\"row\">Sham 69</th>\n",
       "<td>1976</td>\n",
       "<td>13</td>\n",
       "<td>If the kids are united</td>\n",
       "</tr>\n",
       "<tr>\n",
       "<th scope=\"row\">Siouxsie and the Banshees</th>\n",
       "<td>1976</td>\n",
       "<td>11</td>\n",
       "<td>Hong Kong Garden</td>\n",
       "</tr>\n",
       "<tr>\n",
       "<th scope=\"row\">Stiff Little Fingers</th>\n",
       "<td>1977</td>\n",
       "<td>10</td>\n",
       "<td>Suspect Device</td>\n",
       "</tr>\n",
       "<tr>\n",
       "<th scope=\"row\">The Stranglers</th>\n",
       "<td>1974</td>\n",
       "<td>17</td>\n",
       "<td>No More Heroes</td>\n",
       "</tr>\n",
       "</tbody>\n",
       "<tfoot>\n",
       "<tr>\n",
       "<th colspan=\"2\" scope=\"row\">Total albums</th>\n",
       "<td colspan=\"2\">77</td>\n",
       "</tr>\n",
       "</tfoot>\n",
       "</table>"
      ]
     },
     "execution_count": 21,
     "metadata": {},
     "output_type": "execute_result"
    }
   ],
   "source": [
    "soup.body.table"
   ]
  },
  {
   "cell_type": "code",
   "execution_count": 22,
   "id": "4c5ac976-2954-4cff-8ebd-1730287c34b6",
   "metadata": {
    "jupyter": {
     "source_hidden": true
    }
   },
   "outputs": [
    {
     "data": {
      "text/plain": [
       "<thead>\n",
       "<tr>\n",
       "<th scope=\"col\">Band</th>\n",
       "<th scope=\"col\">Year formed</th>\n",
       "<th scope=\"col\">No. of Albums</th>\n",
       "<th scope=\"col\">Most famous song</th>\n",
       "</tr>\n",
       "</thead>"
      ]
     },
     "execution_count": 22,
     "metadata": {},
     "output_type": "execute_result"
    }
   ],
   "source": [
    "soup.body.table.thead"
   ]
  },
  {
   "cell_type": "code",
   "execution_count": 23,
   "id": "9505aef4-34a8-411c-86b7-964e8e8586d5",
   "metadata": {
    "jupyter": {
     "source_hidden": true
    }
   },
   "outputs": [
    {
     "data": {
      "text/plain": [
       "[<th scope=\"col\">Band</th>,\n",
       " <th scope=\"col\">Year formed</th>,\n",
       " <th scope=\"col\">No. of Albums</th>,\n",
       " <th scope=\"col\">Most famous song</th>]"
      ]
     },
     "execution_count": 23,
     "metadata": {},
     "output_type": "execute_result"
    }
   ],
   "source": [
    "ths=soup.body.table.thead.find_all('th')\n",
    "ths"
   ]
  },
  {
   "cell_type": "code",
   "execution_count": 24,
   "id": "e755f382-2eaa-4d75-b293-9af766637d32",
   "metadata": {
    "jupyter": {
     "source_hidden": true
    }
   },
   "outputs": [
    {
     "data": {
      "text/plain": [
       "['Band', 'Year formed', 'No. of Albums', 'Most famous song']"
      ]
     },
     "execution_count": 24,
     "metadata": {},
     "output_type": "execute_result"
    }
   ],
   "source": [
    "columns = [row.get_text() for row in ths]\n",
    "columns"
   ]
  },
  {
   "cell_type": "code",
   "execution_count": 25,
   "id": "e7406230-91be-4ca9-9a74-5fac2ae5c5b9",
   "metadata": {
    "jupyter": {
     "source_hidden": true
    }
   },
   "outputs": [
    {
     "data": {
      "text/plain": [
       "<tbody>\n",
       "<tr>\n",
       "<th scope=\"row\">Buzzcocks</th>\n",
       "<td>1976</td>\n",
       "<td>9</td>\n",
       "<td>Ever fallen in love (with someone you shouldn't've)</td>\n",
       "</tr>\n",
       "<tr>\n",
       "<th scope=\"row\">The Clash</th>\n",
       "<td>1976</td>\n",
       "<td>6</td>\n",
       "<td>London Calling</td>\n",
       "</tr>\n",
       "<tr>\n",
       "<th scope=\"row\">The Damned</th>\n",
       "<td>1976</td>\n",
       "<td>10</td>\n",
       "<td>Smash it up</td>\n",
       "</tr>\n",
       "<tr>\n",
       "<th scope=\"row\">Sex Pistols</th>\n",
       "<td>1975</td>\n",
       "<td>1</td>\n",
       "<td>Anarchy in the UK</td>\n",
       "</tr>\n",
       "<tr>\n",
       "<th scope=\"row\">Sham 69</th>\n",
       "<td>1976</td>\n",
       "<td>13</td>\n",
       "<td>If the kids are united</td>\n",
       "</tr>\n",
       "<tr>\n",
       "<th scope=\"row\">Siouxsie and the Banshees</th>\n",
       "<td>1976</td>\n",
       "<td>11</td>\n",
       "<td>Hong Kong Garden</td>\n",
       "</tr>\n",
       "<tr>\n",
       "<th scope=\"row\">Stiff Little Fingers</th>\n",
       "<td>1977</td>\n",
       "<td>10</td>\n",
       "<td>Suspect Device</td>\n",
       "</tr>\n",
       "<tr>\n",
       "<th scope=\"row\">The Stranglers</th>\n",
       "<td>1974</td>\n",
       "<td>17</td>\n",
       "<td>No More Heroes</td>\n",
       "</tr>\n",
       "</tbody>"
      ]
     },
     "execution_count": 25,
     "metadata": {},
     "output_type": "execute_result"
    }
   ],
   "source": [
    "soup.body.table.tbody"
   ]
  },
  {
   "cell_type": "code",
   "execution_count": 26,
   "id": "6fb479e5-18ad-4d31-beed-9f95553e9ab8",
   "metadata": {
    "jupyter": {
     "source_hidden": true
    }
   },
   "outputs": [
    {
     "data": {
      "text/plain": [
       "[<tr>\n",
       " <th scope=\"row\">Buzzcocks</th>\n",
       " <td>1976</td>\n",
       " <td>9</td>\n",
       " <td>Ever fallen in love (with someone you shouldn't've)</td>\n",
       " </tr>,\n",
       " <tr>\n",
       " <th scope=\"row\">The Clash</th>\n",
       " <td>1976</td>\n",
       " <td>6</td>\n",
       " <td>London Calling</td>\n",
       " </tr>,\n",
       " <tr>\n",
       " <th scope=\"row\">The Damned</th>\n",
       " <td>1976</td>\n",
       " <td>10</td>\n",
       " <td>Smash it up</td>\n",
       " </tr>,\n",
       " <tr>\n",
       " <th scope=\"row\">Sex Pistols</th>\n",
       " <td>1975</td>\n",
       " <td>1</td>\n",
       " <td>Anarchy in the UK</td>\n",
       " </tr>,\n",
       " <tr>\n",
       " <th scope=\"row\">Sham 69</th>\n",
       " <td>1976</td>\n",
       " <td>13</td>\n",
       " <td>If the kids are united</td>\n",
       " </tr>,\n",
       " <tr>\n",
       " <th scope=\"row\">Siouxsie and the Banshees</th>\n",
       " <td>1976</td>\n",
       " <td>11</td>\n",
       " <td>Hong Kong Garden</td>\n",
       " </tr>,\n",
       " <tr>\n",
       " <th scope=\"row\">Stiff Little Fingers</th>\n",
       " <td>1977</td>\n",
       " <td>10</td>\n",
       " <td>Suspect Device</td>\n",
       " </tr>,\n",
       " <tr>\n",
       " <th scope=\"row\">The Stranglers</th>\n",
       " <td>1974</td>\n",
       " <td>17</td>\n",
       " <td>No More Heroes</td>\n",
       " </tr>]"
      ]
     },
     "execution_count": 26,
     "metadata": {},
     "output_type": "execute_result"
    }
   ],
   "source": [
    "trs = soup.body.table.tbody.find_all('tr')\n",
    "trs"
   ]
  },
  {
   "cell_type": "code",
   "execution_count": 27,
   "id": "6582ff4d-79d7-4e5d-9408-d4a5829a9c78",
   "metadata": {
    "jupyter": {
     "source_hidden": true
    }
   },
   "outputs": [
    {
     "name": "stdout",
     "output_type": "stream",
     "text": [
      "['Buzzcocks', '1976', '9', \"Ever fallen in love (with someone you shouldn't've)\"]\n",
      "['The Clash', '1976', '6', 'London Calling']\n",
      "['The Damned', '1976', '10', 'Smash it up']\n",
      "['Sex Pistols', '1975', '1', 'Anarchy in the UK']\n",
      "['Sham 69', '1976', '13', 'If the kids are united']\n",
      "['Siouxsie and the Banshees', '1976', '11', 'Hong Kong Garden']\n",
      "['Stiff Little Fingers', '1977', '10', 'Suspect Device']\n",
      "['The Stranglers', '1974', '17', 'No More Heroes']\n"
     ]
    }
   ],
   "source": [
    "for row in trs:\n",
    "    ths = row.find_all('th')\n",
    "    tds = row.find_all('td')\n",
    "    \n",
    "    rowData = [h_or_d.get_text() for h_or_d in ths+tds]\n",
    "    print (rowData)"
   ]
  },
  {
   "cell_type": "code",
   "execution_count": 28,
   "id": "d3551cf9-6c62-4c07-8a9d-c32337593678",
   "metadata": {
    "jupyter": {
     "source_hidden": true
    }
   },
   "outputs": [
    {
     "data": {
      "text/plain": [
       "<tfoot>\n",
       "<tr>\n",
       "<th colspan=\"2\" scope=\"row\">Total albums</th>\n",
       "<td colspan=\"2\">77</td>\n",
       "</tr>\n",
       "</tfoot>"
      ]
     },
     "execution_count": 28,
     "metadata": {},
     "output_type": "execute_result"
    }
   ],
   "source": [
    "soup.body.table.tfoot"
   ]
  },
  {
   "cell_type": "markdown",
   "id": "c6b6287b-61bc-4f26-9e46-ee39dacad5c9",
   "metadata": {},
   "source": [
    "### [pd.read_html](https://pandas.pydata.org/docs/reference/api/pandas.read_html.html)\n",
    "A simple table scraping wrapper built on the top of beautifulsoup"
   ]
  },
  {
   "cell_type": "code",
   "execution_count": 29,
   "id": "10e5fbd6-c2c8-4556-a11a-db8b2a8d5709",
   "metadata": {
    "jupyter": {
     "source_hidden": true
    }
   },
   "outputs": [
    {
     "data": {
      "text/plain": [
       "1"
      ]
     },
     "execution_count": 29,
     "metadata": {},
     "output_type": "execute_result"
    }
   ],
   "source": [
    "url = \"https://ourworldindata.org/the-worlds-deadliest-earthquakes\"\n",
    "tables = pd.read_html(url, encoding='utf-8')\n",
    "len(tables)"
   ]
  },
  {
   "cell_type": "code",
   "execution_count": 30,
   "id": "219a63d9-46ff-4400-941d-b75b8b2e98ac",
   "metadata": {
    "jupyter": {
     "source_hidden": true
    }
   },
   "outputs": [
    {
     "data": {
      "text/html": [
       "<div>\n",
       "<style scoped>\n",
       "    .dataframe tbody tr th:only-of-type {\n",
       "        vertical-align: middle;\n",
       "    }\n",
       "\n",
       "    .dataframe tbody tr th {\n",
       "        vertical-align: top;\n",
       "    }\n",
       "\n",
       "    .dataframe thead th {\n",
       "        text-align: right;\n",
       "    }\n",
       "</style>\n",
       "<table border=\"1\" class=\"dataframe\">\n",
       "  <thead>\n",
       "    <tr style=\"text-align: right;\">\n",
       "      <th></th>\n",
       "      <th>Ranking</th>\n",
       "      <th>Location</th>\n",
       "      <th>Year</th>\n",
       "      <th>Estimated death toll</th>\n",
       "      <th>Earthquake magnitude</th>\n",
       "      <th>Additional information</th>\n",
       "    </tr>\n",
       "  </thead>\n",
       "  <tbody>\n",
       "    <tr>\n",
       "      <th>0</th>\n",
       "      <td>1</td>\n",
       "      <td>Shaanxi, China</td>\n",
       "      <td>1556</td>\n",
       "      <td>830000</td>\n",
       "      <td>8</td>\n",
       "      <td>More than 97 counties in China were affected. ...</td>\n",
       "    </tr>\n",
       "    <tr>\n",
       "      <th>1</th>\n",
       "      <td>2</td>\n",
       "      <td>Port-au-Prince, Haiti</td>\n",
       "      <td>2010</td>\n",
       "      <td>316000</td>\n",
       "      <td>7</td>\n",
       "      <td>Death toll is still disputed. Here we present ...</td>\n",
       "    </tr>\n",
       "    <tr>\n",
       "      <th>2</th>\n",
       "      <td>3</td>\n",
       "      <td>Antakya, Turkey</td>\n",
       "      <td>115</td>\n",
       "      <td>260000</td>\n",
       "      <td>7.5</td>\n",
       "      <td>Antioch (ancient ruins which lie near the mode...</td>\n",
       "    </tr>\n",
       "    <tr>\n",
       "      <th>3</th>\n",
       "      <td>4</td>\n",
       "      <td>Antakya, Turkey</td>\n",
       "      <td>525</td>\n",
       "      <td>250000</td>\n",
       "      <td>7</td>\n",
       "      <td>Severe damage to the area of the Byzantine Emp...</td>\n",
       "    </tr>\n",
       "    <tr>\n",
       "      <th>4</th>\n",
       "      <td>5</td>\n",
       "      <td>Tangshan, China</td>\n",
       "      <td>1976</td>\n",
       "      <td>242769</td>\n",
       "      <td>7.5</td>\n",
       "      <td>Reported that the earthquake risk had been gre...</td>\n",
       "    </tr>\n",
       "    <tr>\n",
       "      <th>5</th>\n",
       "      <td>6</td>\n",
       "      <td>Gyzndzha, Azerbaijan</td>\n",
       "      <td>1139</td>\n",
       "      <td>230000</td>\n",
       "      <td>Unknown</td>\n",
       "      <td>Often termed the Ganja earthquake. Much less i...</td>\n",
       "    </tr>\n",
       "    <tr>\n",
       "      <th>6</th>\n",
       "      <td>7</td>\n",
       "      <td>Sumatra, Indonesia</td>\n",
       "      <td>2004</td>\n",
       "      <td>227899</td>\n",
       "      <td>9.1</td>\n",
       "      <td>Earthquake in Indian Ocean off the coast of Su...</td>\n",
       "    </tr>\n",
       "    <tr>\n",
       "      <th>7</th>\n",
       "      <td>8</td>\n",
       "      <td>Damghan, Iran</td>\n",
       "      <td>856</td>\n",
       "      <td>200000</td>\n",
       "      <td>7.9</td>\n",
       "      <td>Estimated that extent of the damage area was 2...</td>\n",
       "    </tr>\n",
       "    <tr>\n",
       "      <th>8</th>\n",
       "      <td>8</td>\n",
       "      <td>Gansu, China</td>\n",
       "      <td>1920</td>\n",
       "      <td>200000</td>\n",
       "      <td>8.3</td>\n",
       "      <td>Damage occurred across 7 provinces and regions...</td>\n",
       "    </tr>\n",
       "    <tr>\n",
       "      <th>9</th>\n",
       "      <td>9</td>\n",
       "      <td>Dvin, Armenia</td>\n",
       "      <td>893</td>\n",
       "      <td>150000</td>\n",
       "      <td>Unknown</td>\n",
       "      <td>City of Dvin was destroyed, with the collapse ...</td>\n",
       "    </tr>\n",
       "    <tr>\n",
       "      <th>10</th>\n",
       "      <td>10</td>\n",
       "      <td>Tokyo, Japan</td>\n",
       "      <td>1923</td>\n",
       "      <td>142807</td>\n",
       "      <td>7.9</td>\n",
       "      <td>More than half of brick buildings, and 10% of ...</td>\n",
       "    </tr>\n",
       "  </tbody>\n",
       "</table>\n",
       "</div>"
      ],
      "text/plain": [
       "    Ranking               Location  Year  Estimated death toll  \\\n",
       "0         1         Shaanxi, China  1556                830000   \n",
       "1         2  Port-au-Prince, Haiti  2010                316000   \n",
       "2         3        Antakya, Turkey   115                260000   \n",
       "3         4        Antakya, Turkey   525                250000   \n",
       "4         5        Tangshan, China  1976                242769   \n",
       "5         6   Gyzndzha, Azerbaijan  1139                230000   \n",
       "6         7     Sumatra, Indonesia  2004                227899   \n",
       "7         8          Damghan, Iran   856                200000   \n",
       "8         8           Gansu, China  1920                200000   \n",
       "9         9          Dvin, Armenia   893                150000   \n",
       "10       10           Tokyo, Japan  1923                142807   \n",
       "\n",
       "   Earthquake magnitude                             Additional information  \n",
       "0                     8  More than 97 counties in China were affected. ...  \n",
       "1                     7  Death toll is still disputed. Here we present ...  \n",
       "2                   7.5  Antioch (ancient ruins which lie near the mode...  \n",
       "3                     7  Severe damage to the area of the Byzantine Emp...  \n",
       "4                   7.5  Reported that the earthquake risk had been gre...  \n",
       "5               Unknown  Often termed the Ganja earthquake. Much less i...  \n",
       "6                   9.1  Earthquake in Indian Ocean off the coast of Su...  \n",
       "7                   7.9  Estimated that extent of the damage area was 2...  \n",
       "8                   8.3  Damage occurred across 7 provinces and regions...  \n",
       "9               Unknown  City of Dvin was destroyed, with the collapse ...  \n",
       "10                  7.9  More than half of brick buildings, and 10% of ...  "
      ]
     },
     "execution_count": 30,
     "metadata": {},
     "output_type": "execute_result"
    }
   ],
   "source": [
    "tables[0]"
   ]
  },
  {
   "cell_type": "markdown",
   "id": "99f3eba1-95d5-47d6-9791-8908eef48deb",
   "metadata": {},
   "source": [
    "### [tabula-py](https://nbviewer.org/github/chezou/tabula-py/blob/master/examples/tabula_example.ipynb): A PDF table scraper\n",
    "tabula-py is a tool to convert PDF tables to pandas DataFrame. tabula-py is a wrapper of tabula-java, which requires java on your machine."
   ]
  },
  {
   "cell_type": "code",
   "execution_count": 2,
   "id": "61977ba1-4bf2-4f16-a9e1-17d7d187190e",
   "metadata": {
    "jupyter": {
     "source_hidden": true
    }
   },
   "outputs": [
    {
     "ename": "ImportError",
     "evalue": "cannot import name 'read_pdf' from 'tabula' (c:\\Users\\nishi\\AppData\\Local\\Programs\\Python\\Python311\\Lib\\site-packages\\tabula\\__init__.py)",
     "output_type": "error",
     "traceback": [
      "\u001b[1;31m---------------------------------------------------------------------------\u001b[0m",
      "\u001b[1;31mImportError\u001b[0m                               Traceback (most recent call last)",
      "\u001b[1;32ma:\\4-1 Acads\\CS F441 - Selected Topics in CS (Data Visualisation)\\Assignments - Projects\\Data-Visualisation-Assignments\\Weekly Practice\\Week 6\\beautifulSoupExample.ipynb Cell 22\u001b[0m line \u001b[0;36m2\n\u001b[0;32m      <a href='vscode-notebook-cell:/a%3A/4-1%20Acads/CS%20F441%20-%20Selected%20Topics%20in%20CS%20%28Data%20Visualisation%29/Assignments%20-%20Projects/Data-Visualisation-Assignments/Weekly%20Practice/Week%206/beautifulSoupExample.ipynb#X30sZmlsZQ%3D%3D?line=0'>1</a>\u001b[0m \u001b[39m#!pip install tabula-py\u001b[39;00m\n\u001b[1;32m----> <a href='vscode-notebook-cell:/a%3A/4-1%20Acads/CS%20F441%20-%20Selected%20Topics%20in%20CS%20%28Data%20Visualisation%29/Assignments%20-%20Projects/Data-Visualisation-Assignments/Weekly%20Practice/Week%206/beautifulSoupExample.ipynb#X30sZmlsZQ%3D%3D?line=1'>2</a>\u001b[0m \u001b[39mfrom\u001b[39;00m \u001b[39mtabula\u001b[39;00m \u001b[39mimport\u001b[39;00m read_pdf\n\u001b[0;32m      <a href='vscode-notebook-cell:/a%3A/4-1%20Acads/CS%20F441%20-%20Selected%20Topics%20in%20CS%20%28Data%20Visualisation%29/Assignments%20-%20Projects/Data-Visualisation-Assignments/Weekly%20Practice/Week%206/beautifulSoupExample.ipynb#X30sZmlsZQ%3D%3D?line=2'>3</a>\u001b[0m url \u001b[39m=\u001b[39m \u001b[39m\"\u001b[39m\u001b[39mhttps://github.com/chezou/tabula-py/raw/master/tests/resources/data.pdf\u001b[39m\u001b[39m\"\u001b[39m\n\u001b[0;32m      <a href='vscode-notebook-cell:/a%3A/4-1%20Acads/CS%20F441%20-%20Selected%20Topics%20in%20CS%20%28Data%20Visualisation%29/Assignments%20-%20Projects/Data-Visualisation-Assignments/Weekly%20Practice/Week%206/beautifulSoupExample.ipynb#X30sZmlsZQ%3D%3D?line=3'>4</a>\u001b[0m tables \u001b[39m=\u001b[39m read_pdf(url, pages\u001b[39m=\u001b[39m\u001b[39m'\u001b[39m\u001b[39mall\u001b[39m\u001b[39m'\u001b[39m)\n",
      "\u001b[1;31mImportError\u001b[0m: cannot import name 'read_pdf' from 'tabula' (c:\\Users\\nishi\\AppData\\Local\\Programs\\Python\\Python311\\Lib\\site-packages\\tabula\\__init__.py)"
     ]
    }
   ],
   "source": [
    "#!pip install tabula-py\n",
    "from tabula import read_pdf\n",
    "url = \"https://github.com/chezou/tabula-py/raw/master/tests/resources/data.pdf\"\n",
    "tables = read_pdf(url, pages='all')\n",
    "len(tables)"
   ]
  },
  {
   "cell_type": "code",
   "execution_count": null,
   "id": "03d58629-7076-4f9e-bff2-ca988067e777",
   "metadata": {
    "jupyter": {
     "source_hidden": true
    }
   },
   "outputs": [],
   "source": [
    "tables[0]"
   ]
  },
  {
   "cell_type": "code",
   "execution_count": null,
   "id": "7ede7e39-403a-4473-a701-1d0c4ac3e8f8",
   "metadata": {
    "collapsed": true,
    "jupyter": {
     "outputs_hidden": true,
     "source_hidden": true
    }
   },
   "outputs": [],
   "source": [
    "tables[1]"
   ]
  }
 ],
 "metadata": {
  "kernelspec": {
   "display_name": "Python 3 (ipykernel)",
   "language": "python",
   "name": "python3"
  },
  "language_info": {
   "codemirror_mode": {
    "name": "ipython",
    "version": 3
   },
   "file_extension": ".py",
   "mimetype": "text/x-python",
   "name": "python",
   "nbconvert_exporter": "python",
   "pygments_lexer": "ipython3",
   "version": "3.11.4"
  }
 },
 "nbformat": 4,
 "nbformat_minor": 5
}
