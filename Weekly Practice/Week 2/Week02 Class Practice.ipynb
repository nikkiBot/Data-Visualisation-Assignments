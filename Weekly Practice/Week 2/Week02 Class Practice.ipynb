{
 "cells": [
  {
   "cell_type": "markdown",
   "id": "91310dc4",
   "metadata": {},
   "source": [
    "### Getting familiarized with Pandas"
   ]
  },
  {
   "cell_type": "code",
   "execution_count": null,
   "id": "04ced904",
   "metadata": {},
   "outputs": [],
   "source": [
    "import pandas as pd"
   ]
  },
  {
   "cell_type": "code",
   "execution_count": null,
   "id": "7d37344c",
   "metadata": {},
   "outputs": [],
   "source": [
    "data = {\n",
    "    'apples': [300, 200, 0, 100], \n",
    "    'oranges': [0, 300, 700, 200]\n",
    "}\n",
    "data"
   ]
  },
  {
   "cell_type": "code",
   "execution_count": null,
   "id": "2553120f",
   "metadata": {},
   "outputs": [],
   "source": [
    "df = pd.DataFrame(data)\n",
    "df"
   ]
  },
  {
   "cell_type": "code",
   "execution_count": null,
   "id": "e68bdc69",
   "metadata": {},
   "outputs": [],
   "source": [
    "df = pd.DataFrame(data, index = [\"Q1\", \"Q2\", \"Q3\", \"Q4\"])\n",
    "df"
   ]
  },
  {
   "cell_type": "code",
   "execution_count": null,
   "id": "60b1dac2",
   "metadata": {},
   "outputs": [],
   "source": [
    "df.info()"
   ]
  },
  {
   "cell_type": "code",
   "execution_count": null,
   "id": "6c7bf513",
   "metadata": {},
   "outputs": [],
   "source": [
    "df1 = df.reset_index()\n",
    "df1"
   ]
  },
  {
   "cell_type": "code",
   "execution_count": null,
   "id": "cf3f4f74",
   "metadata": {},
   "outputs": [],
   "source": [
    "df1.set_index(\"index\", inplace=True)\n",
    "df1"
   ]
  },
  {
   "cell_type": "code",
   "execution_count": null,
   "id": "aa73b850",
   "metadata": {},
   "outputs": [],
   "source": [
    "df1.index = [\"q1\", \"q2\", \"q3\", \"q4\"]\n",
    "df1"
   ]
  },
  {
   "cell_type": "code",
   "execution_count": null,
   "id": "89d1084d",
   "metadata": {},
   "outputs": [],
   "source": [
    "df1.loc[\"q1\":\"q3\"] # Data frame slicing"
   ]
  },
  {
   "cell_type": "code",
   "execution_count": null,
   "id": "43632aed",
   "metadata": {},
   "outputs": [],
   "source": [
    "df1.iloc[0:3]"
   ]
  },
  {
   "cell_type": "markdown",
   "id": "b64b3737",
   "metadata": {},
   "source": [
    "### Data Cleaning"
   ]
  },
  {
   "cell_type": "code",
   "execution_count": null,
   "id": "ca5b78ec",
   "metadata": {},
   "outputs": [],
   "source": [
    "data = {\n",
    "    'col1': [1, 2, 3, 'data 3'], \n",
    "    'col2': [1.1, 2.2, 'data -3.2', 4.4], \n",
    "    'col3': ['a', 'b', 'c', 'd']\n",
    "}\n",
    "df = pd.DataFrame({'col1': [1, 2, 3, 'data 3'], 'col2': [1.1, 2.2, 'data -3.2', 4.4], 'col3': ['a', 'b', 'c', 'd']})"
   ]
  },
  {
   "cell_type": "code",
   "execution_count": null,
   "id": "e4484c45",
   "metadata": {},
   "outputs": [],
   "source": [
    "# use the astype() method to convert the 'col1' column to integers\n",
    "print(df['col1'].astype(int, errors='ignore')) #  errors options: {‘raise’, ‘ignore’}, default 'raise'\n",
    "\n",
    "print(pd.to_numeric(df['col2'], errors='coerce')) # errors options: {‘ignore’, ‘raise’, ‘coerce’}, default ‘raise’\n",
    "\n",
    "try:\n",
    "    df['col1'] = df['col1'].astype(float, errors='raise')\n",
    "except: \n",
    "    print('Exception raised by astype')\n",
    "\n",
    "\n",
    "# display the updated DataFrame\n",
    "print(df.dtypes)\n",
    "df[\"col3\"]=df['col3'].astype(\"string\")\n",
    "print(df.dtypes)\n",
    "#print(df.convert_dtypes().dtypes)"
   ]
  },
  {
   "cell_type": "code",
   "execution_count": null,
   "id": "72d6dbec",
   "metadata": {},
   "outputs": [],
   "source": [
    "df1 = df.copy()\n",
    "print(df1)\n",
    "df1=df1.astype(\"string\")\n",
    "df1[\"col1\"]=df1[\"col1\"].str.extract(\"([-+]?\\d*\\.?\\d+)\")\n",
    "df1[\"col2\"]=df1[\"col2\"].str.extract(\"([-+]?\\d*\\.?\\d+)\")\n",
    "df1"
   ]
  },
  {
   "cell_type": "code",
   "execution_count": null,
   "id": "071e9bd7",
   "metadata": {},
   "outputs": [],
   "source": [
    "import re #Regex or regular expression library\n",
    "df1 = df.copy()\n",
    "print(df1)\n",
    "df1=df1.astype(\"string\")\n",
    "extractAfloat = lambda s:re.findall(\"([-+]?\\d*\\.?\\d+)\",s)[0]\n",
    "df1[\"col1\"]=df1[\"col1\"].apply(extractAfloat)\n",
    "df1[\"col2\"]=df1[\"col2\"].apply(extractAfloat)\n",
    "df1"
   ]
  },
  {
   "cell_type": "code",
   "execution_count": null,
   "id": "37668c06",
   "metadata": {},
   "outputs": [],
   "source": [
    "df = pd.read_csv(\"data.csv\")"
   ]
  },
  {
   "cell_type": "code",
   "execution_count": null,
   "id": "9fc084b5",
   "metadata": {},
   "outputs": [],
   "source": [
    "df.head()"
   ]
  },
  {
   "cell_type": "code",
   "execution_count": null,
   "id": "3a47ed35",
   "metadata": {},
   "outputs": [],
   "source": [
    "df.info()"
   ]
  },
  {
   "cell_type": "code",
   "execution_count": null,
   "id": "95933b0d",
   "metadata": {},
   "outputs": [],
   "source": [
    "df.describe()"
   ]
  },
  {
   "cell_type": "code",
   "execution_count": null,
   "id": "1be58173",
   "metadata": {},
   "outputs": [],
   "source": [
    "df1 = df.sort_values(\"Duration\")\n",
    "df1"
   ]
  },
  {
   "cell_type": "code",
   "execution_count": null,
   "id": "63846e04",
   "metadata": {},
   "outputs": [],
   "source": [
    "df1.head()"
   ]
  },
  {
   "cell_type": "code",
   "execution_count": null,
   "id": "ac274be6",
   "metadata": {},
   "outputs": [],
   "source": [
    "df1.reset_index()"
   ]
  },
  {
   "cell_type": "code",
   "execution_count": null,
   "id": "02c39eff",
   "metadata": {},
   "outputs": [],
   "source": [
    "df1.reset_index(drop=True)"
   ]
  },
  {
   "cell_type": "code",
   "execution_count": null,
   "id": "3346c57b",
   "metadata": {},
   "outputs": [],
   "source": [
    "df1"
   ]
  },
  {
   "cell_type": "code",
   "execution_count": null,
   "id": "b35de3a5",
   "metadata": {},
   "outputs": [],
   "source": [
    "df1.reset_index(drop=True, inplace=True)\n",
    "df1"
   ]
  },
  {
   "cell_type": "code",
   "execution_count": null,
   "id": "21b365ca",
   "metadata": {},
   "outputs": [],
   "source": [
    "df1[[\"Duration\", \"Pulse\"]]"
   ]
  },
  {
   "cell_type": "code",
   "execution_count": null,
   "id": "f8a7df9c",
   "metadata": {},
   "outputs": [],
   "source": [
    "df1[df1.Duration==20]"
   ]
  },
  {
   "cell_type": "code",
   "execution_count": null,
   "id": "2a9fabbf",
   "metadata": {},
   "outputs": [],
   "source": [
    "df1"
   ]
  },
  {
   "cell_type": "code",
   "execution_count": null,
   "id": "63ee3e57",
   "metadata": {},
   "outputs": [],
   "source": [
    "df1 = df1.reset_index()\n",
    "df1"
   ]
  },
  {
   "cell_type": "code",
   "execution_count": null,
   "id": "13b20858",
   "metadata": {},
   "outputs": [],
   "source": [
    "df1=df1.drop([\"level_0\",\"index\"], axis=1)"
   ]
  },
  {
   "cell_type": "code",
   "execution_count": null,
   "id": "784c26c2",
   "metadata": {},
   "outputs": [],
   "source": [
    "df1.head()"
   ]
  },
  {
   "cell_type": "code",
   "execution_count": null,
   "id": "81ba038a",
   "metadata": {},
   "outputs": [],
   "source": [
    "df1.rename(columns={\"Duration\": \"Seconds\"}, inplace=True)"
   ]
  },
  {
   "cell_type": "code",
   "execution_count": null,
   "id": "1e1950b3",
   "metadata": {},
   "outputs": [],
   "source": [
    "df1.head()"
   ]
  },
  {
   "cell_type": "code",
   "execution_count": null,
   "id": "c8dee7f8",
   "metadata": {},
   "outputs": [],
   "source": [
    "df1[\"Pulse\"]>100"
   ]
  },
  {
   "cell_type": "code",
   "execution_count": null,
   "id": "6279e9df",
   "metadata": {},
   "outputs": [],
   "source": [
    "df1[\"AtRisk\"] = df1[\"Pulse\"]>100\n",
    "df1.head()"
   ]
  },
  {
   "cell_type": "code",
   "execution_count": null,
   "id": "b075d43b",
   "metadata": {},
   "outputs": [],
   "source": [
    "df1[df1[\"Pulse\"]>100]"
   ]
  },
  {
   "cell_type": "code",
   "execution_count": null,
   "id": "1bd8117a",
   "metadata": {},
   "outputs": [],
   "source": [
    "df1[\"Seconds\"].unique()"
   ]
  },
  {
   "cell_type": "code",
   "execution_count": null,
   "id": "005ddb25",
   "metadata": {},
   "outputs": [],
   "source": [
    "df1.replace({\n",
    "    \"Seconds\":{\n",
    "        15: \"Short\",\n",
    "        300: \"Long\"\n",
    "    }\n",
    "})"
   ]
  },
  {
   "cell_type": "code",
   "execution_count": null,
   "id": "31515618",
   "metadata": {},
   "outputs": [],
   "source": [
    "df1.head()"
   ]
  },
  {
   "cell_type": "code",
   "execution_count": null,
   "id": "6cee31f1",
   "metadata": {},
   "outputs": [],
   "source": [
    "df1.info()"
   ]
  },
  {
   "cell_type": "code",
   "execution_count": null,
   "id": "3a6ef60e",
   "metadata": {},
   "outputs": [],
   "source": [
    "df1.isna()"
   ]
  },
  {
   "cell_type": "code",
   "execution_count": null,
   "id": "7b71db69",
   "metadata": {},
   "outputs": [],
   "source": [
    "df1.isna().any(axis=1) # Rows whose any column has a NA value"
   ]
  },
  {
   "cell_type": "code",
   "execution_count": null,
   "id": "93327f4a",
   "metadata": {},
   "outputs": [],
   "source": [
    "df1.isna().any(axis=0) #Columns whose any row has a non Zero value "
   ]
  },
  {
   "cell_type": "code",
   "execution_count": null,
   "id": "1caba108",
   "metadata": {},
   "outputs": [],
   "source": [
    "df1.isna().any() #Default: Columns whose any row has a non Zero value "
   ]
  },
  {
   "cell_type": "code",
   "execution_count": null,
   "id": "d20bc937",
   "metadata": {},
   "outputs": [],
   "source": [
    "df1.dropna()"
   ]
  },
  {
   "cell_type": "code",
   "execution_count": null,
   "id": "ccedde23",
   "metadata": {},
   "outputs": [],
   "source": [
    "df1.info()"
   ]
  },
  {
   "cell_type": "code",
   "execution_count": null,
   "id": "69a49d92",
   "metadata": {},
   "outputs": [],
   "source": [
    "df1.Calories.mode()[0]"
   ]
  },
  {
   "cell_type": "code",
   "execution_count": null,
   "id": "4f401664",
   "metadata": {},
   "outputs": [],
   "source": [
    "df1.Calories.median()"
   ]
  },
  {
   "cell_type": "code",
   "execution_count": null,
   "id": "617a407f",
   "metadata": {
    "scrolled": true
   },
   "outputs": [],
   "source": [
    "movie_df=pd.read_csv('imdb_movies.csv')"
   ]
  },
  {
   "cell_type": "code",
   "execution_count": null,
   "id": "bfd82d5f",
   "metadata": {},
   "outputs": [],
   "source": [
    "movie_df.info()"
   ]
  },
  {
   "cell_type": "code",
   "execution_count": null,
   "id": "405d6e66",
   "metadata": {},
   "outputs": [],
   "source": [
    "movie_df.head()"
   ]
  },
  {
   "cell_type": "code",
   "execution_count": null,
   "id": "258f117c",
   "metadata": {},
   "outputs": [],
   "source": [
    "movie_df.set_index(\"names\")"
   ]
  },
  {
   "cell_type": "code",
   "execution_count": null,
   "id": "4889e833",
   "metadata": {},
   "outputs": [],
   "source": [
    "movies_df = pd.read_csv(\"imdb_movies.csv\", index_col=\"names\")\n",
    "movies_df[\"date_x\"].astype(\"datetime64[ns]\")"
   ]
  },
  {
   "cell_type": "code",
   "execution_count": null,
   "id": "6f5c76f9",
   "metadata": {},
   "outputs": [],
   "source": [
    "movies_df = pd.read_csv(\"imdb_movies.csv\", index_col=\"names\",parse_dates=[\"date_x\"])\n",
    "movies_df.info()"
   ]
  },
  {
   "cell_type": "code",
   "execution_count": null,
   "id": "cd49c9a9",
   "metadata": {},
   "outputs": [],
   "source": [
    "movies_df[\"country\"].unique()"
   ]
  },
  {
   "cell_type": "code",
   "execution_count": null,
   "id": "a01cd598",
   "metadata": {},
   "outputs": [],
   "source": [
    "indian_movie_df = movies_df[movies_df[\"country\"]==\"IN\"]"
   ]
  },
  {
   "cell_type": "code",
   "execution_count": null,
   "id": "d88eef76",
   "metadata": {
    "scrolled": false
   },
   "outputs": [],
   "source": [
    "indian_movie_df"
   ]
  },
  {
   "cell_type": "code",
   "execution_count": null,
   "id": "7ffcd72f",
   "metadata": {},
   "outputs": [],
   "source": [
    "movie_df.head()"
   ]
  },
  {
   "cell_type": "code",
   "execution_count": null,
   "id": "aab9d029",
   "metadata": {},
   "outputs": [],
   "source": [
    "movie_df.isna().any(axis=0)"
   ]
  },
  {
   "cell_type": "code",
   "execution_count": null,
   "id": "1b1ec904",
   "metadata": {},
   "outputs": [],
   "source": [
    "movie_df.isna().any(axis=1).sum()"
   ]
  },
  {
   "cell_type": "code",
   "execution_count": null,
   "id": "97b563eb",
   "metadata": {},
   "outputs": [],
   "source": [
    "indian_movie_df.isna().any(axis=0)"
   ]
  },
  {
   "cell_type": "code",
   "execution_count": null,
   "id": "2d5b1924",
   "metadata": {},
   "outputs": [],
   "source": [
    "indian_movie_df.isna().any(axis=1)"
   ]
  },
  {
   "cell_type": "code",
   "execution_count": null,
   "id": "fec6e0d5",
   "metadata": {},
   "outputs": [],
   "source": [
    "indian_movie_df.isna().sum()"
   ]
  },
  {
   "cell_type": "code",
   "execution_count": null,
   "id": "04d183bc",
   "metadata": {},
   "outputs": [],
   "source": [
    "indian_movie_df.info()"
   ]
  },
  {
   "cell_type": "code",
   "execution_count": null,
   "id": "a6455de7",
   "metadata": {},
   "outputs": [],
   "source": [
    "indian_movie_df.dropna().info()"
   ]
  },
  {
   "cell_type": "code",
   "execution_count": null,
   "id": "f7ade277",
   "metadata": {},
   "outputs": [],
   "source": [
    "indian_movie_df.dropna(axis=1).info()"
   ]
  },
  {
   "cell_type": "code",
   "execution_count": null,
   "id": "1ce52719",
   "metadata": {},
   "outputs": [],
   "source": [
    "indian_movie_df.head()"
   ]
  },
  {
   "cell_type": "code",
   "execution_count": null,
   "id": "382e3152",
   "metadata": {},
   "outputs": [],
   "source": [
    "indian_movie_df.describe()"
   ]
  },
  {
   "cell_type": "code",
   "execution_count": null,
   "id": "bbe2bbb4",
   "metadata": {},
   "outputs": [],
   "source": [
    "indian_movie_df['genre'].value_counts() #value_counts can tell us the frequency of all values in a column:"
   ]
  },
  {
   "cell_type": "code",
   "execution_count": null,
   "id": "44783f2f",
   "metadata": {},
   "outputs": [],
   "source": [
    "indian_movie_df['score'].value_counts()"
   ]
  },
  {
   "cell_type": "code",
   "execution_count": null,
   "id": "d66d16e0",
   "metadata": {},
   "outputs": [],
   "source": [
    "indian_movie_df[\"year\"] = indian_movie_df[\"date_x\"].dt.year # year, month, week, day, date, weekday, day_name(), month_name()"
   ]
  },
  {
   "cell_type": "code",
   "execution_count": null,
   "id": "0f1d0507",
   "metadata": {},
   "outputs": [],
   "source": [
    "indian_movie_df[\"date_x\"].dt.day_name()"
   ]
  },
  {
   "cell_type": "code",
   "execution_count": null,
   "id": "daae2e19",
   "metadata": {},
   "outputs": [],
   "source": [
    "indian_movie_df[\"rating\"] = indian_movie_df[\"score\"].apply(lambda s : \"good\" if s>70 else \"bad\")"
   ]
  },
  {
   "cell_type": "code",
   "execution_count": null,
   "id": "6af5251b",
   "metadata": {},
   "outputs": [],
   "source": [
    "indian_movie_df"
   ]
  }
 ],
 "metadata": {
  "kernelspec": {
   "display_name": "Python 3 (ipykernel)",
   "language": "python",
   "name": "python3"
  },
  "language_info": {
   "codemirror_mode": {
    "name": "ipython",
    "version": 3
   },
   "file_extension": ".py",
   "mimetype": "text/x-python",
   "name": "python",
   "nbconvert_exporter": "python",
   "pygments_lexer": "ipython3",
   "version": "3.10.10"
  }
 },
 "nbformat": 4,
 "nbformat_minor": 5
}
