{
 "cells": [
  {
   "cell_type": "markdown",
   "id": "7f0767e9",
   "metadata": {},
   "source": [
    "## Getting Started with Python, Numpy and Pandas"
   ]
  },
  {
   "cell_type": "markdown",
   "id": "e252f697",
   "metadata": {},
   "source": [
    "Python is an interpretive language.  \n",
    "Python is a strongly-typed and dynamically-typed language.  \n",
    "*Strongly-typed*: Interpreter always “respects” the types of each variable.  \n",
    "*Dynamically-typed*: A variable is simply a value bound to a name."
   ]
  },
  {
   "cell_type": "markdown",
   "id": "3726157a",
   "metadata": {},
   "source": [
    "### Primitive Types\n",
    "- integer\n",
    "- float\n",
    "- bool\n",
    "- string"
   ]
  },
  {
   "cell_type": "code",
   "execution_count": null,
   "id": "69ade83c",
   "metadata": {},
   "outputs": [],
   "source": [
    "A = 5\n",
    "B = 5.2\n",
    "C = \"True\"\n",
    "D = \"A String\"\n",
    "E = '''\n",
    "A \n",
    "multi-line\n",
    "String\n",
    "'''\n",
    "print (A, B, C, D, E)"
   ]
  },
  {
   "cell_type": "markdown",
   "id": "18d82482",
   "metadata": {},
   "source": [
    "### Dynamically Typed"
   ]
  },
  {
   "cell_type": "code",
   "execution_count": null,
   "id": "a6453c2f",
   "metadata": {},
   "outputs": [],
   "source": [
    "x = 5\n",
    "print (\"type of variable x:\",type(x))\n",
    "print(\"x = \",x)\n",
    "\n",
    "x = \"BITS Pilani\"\n",
    "print(\"type of variable x:\",type(x))\n",
    "print(\"x = \",x)\n",
    "\n",
    "x = 5.2\n",
    "print(\"type of variable x:\",type(x))\n",
    "print(\"x = \",x)"
   ]
  },
  {
   "cell_type": "markdown",
   "id": "a0383491",
   "metadata": {},
   "source": [
    "### Strongly Typed"
   ]
  },
  {
   "cell_type": "code",
   "execution_count": null,
   "id": "76c12693",
   "metadata": {},
   "outputs": [],
   "source": [
    "a = 5.2\n",
    "x = \"A String \"\n",
    "a * x"
   ]
  },
  {
   "cell_type": "code",
   "execution_count": null,
   "id": "89de8fcd",
   "metadata": {},
   "outputs": [],
   "source": [
    "b = 5\n",
    "b+y"
   ]
  },
  {
   "cell_type": "markdown",
   "id": "764bd6f0",
   "metadata": {},
   "source": [
    "#### String Facts: Addition of strings"
   ]
  },
  {
   "cell_type": "code",
   "execution_count": null,
   "id": "2825df9f",
   "metadata": {},
   "outputs": [],
   "source": [
    "\"BITS-Pilani \"+\"Hyderabad Campus\" # Conctenation"
   ]
  },
  {
   "cell_type": "markdown",
   "id": "e3db5030",
   "metadata": {},
   "source": [
    "#### String Facts: <u>product of string with integer</u>"
   ]
  },
  {
   "cell_type": "code",
   "execution_count": null,
   "id": "27daf2a7",
   "metadata": {},
   "outputs": [],
   "source": [
    "b*x"
   ]
  },
  {
   "cell_type": "markdown",
   "id": "c1762f31",
   "metadata": {},
   "source": [
    "#### String Facts: <u>f-string</u> (formatted string). Allows expression evaluation inside the string."
   ]
  },
  {
   "cell_type": "code",
   "execution_count": null,
   "id": "d959b45b",
   "metadata": {},
   "outputs": [],
   "source": [
    "z = f'Value of b*x: {b*x}'\n",
    "print (z)"
   ]
  },
  {
   "cell_type": "markdown",
   "id": "1dc1b666",
   "metadata": {},
   "source": [
    "#### String Facts: <u>r-string</u> (raw string). Allows expression with escape sequences"
   ]
  },
  {
   "cell_type": "code",
   "execution_count": null,
   "id": "846f3b40",
   "metadata": {},
   "outputs": [],
   "source": [
    "z = 'The course name:\\tCS F441'\n",
    "print(z)\n",
    "z = r'The course name:\\tCS F441'\n",
    "print(z)"
   ]
  },
  {
   "cell_type": "markdown",
   "id": "6b3b7b01",
   "metadata": {},
   "source": [
    "#### Booleans and Boolean Factos"
   ]
  },
  {
   "cell_type": "code",
   "execution_count": null,
   "id": "5b2297db",
   "metadata": {},
   "outputs": [],
   "source": [
    "a = True\n",
    "print(a)\n",
    "b = False\n",
    "print(b)"
   ]
  },
  {
   "cell_type": "markdown",
   "id": "eca4ba04",
   "metadata": {},
   "source": [
    "#### <u>True is 1</u> and <u>False is 0</u> in float/integer arithmetic and when multiplied with String"
   ]
  },
  {
   "cell_type": "code",
   "execution_count": null,
   "id": "98ac6c89",
   "metadata": {},
   "outputs": [],
   "source": [
    "True*100"
   ]
  },
  {
   "cell_type": "code",
   "execution_count": null,
   "id": "a346e4b2",
   "metadata": {},
   "outputs": [],
   "source": [
    "False*100.2"
   ]
  },
  {
   "cell_type": "code",
   "execution_count": null,
   "id": "ae2f82ae",
   "metadata": {},
   "outputs": [],
   "source": [
    "True*\"String\""
   ]
  },
  {
   "cell_type": "code",
   "execution_count": null,
   "id": "dc8f0043",
   "metadata": {},
   "outputs": [],
   "source": [
    "False*\"String\""
   ]
  },
  {
   "cell_type": "markdown",
   "id": "e8e6e637",
   "metadata": {},
   "source": [
    "### Comments and Multiline Comments"
   ]
  },
  {
   "cell_type": "code",
   "execution_count": null,
   "id": "1c33195c",
   "metadata": {},
   "outputs": [],
   "source": [
    "# A comment\n",
    "# There is no multiline commentin Python\n",
    "# But Triple quotes may be used for multi-line comments.\n",
    "\n",
    "\"\"\"\n",
    "a = True\n",
    "print(a)\n",
    "b = False\n",
    "print(b)\n",
    "\"\"\""
   ]
  },
  {
   "cell_type": "markdown",
   "id": "32053e7c",
   "metadata": {},
   "source": [
    "### Type casting\n",
    "- int()\n",
    "- float()\n",
    "- str()\n",
    "- bool()"
   ]
  },
  {
   "cell_type": "markdown",
   "id": "f8413c1d",
   "metadata": {},
   "source": [
    "print(int(5.2))\n",
    "print(int(\"5\"))\n",
    "print(float(5))\n",
    "print(float(\"5.2\"))\n",
    "print(bool(0))\n",
    "print(bool(5.2))\n",
    "print(bool(\"A string\"))\n",
    "print(bool(\"\"))"
   ]
  },
  {
   "cell_type": "markdown",
   "id": "9ba07b0a",
   "metadata": {},
   "source": [
    "### Collection Types\n",
    "- Lists\n",
    "- Tuple\n",
    "- Dictionary\n",
    "- Set"
   ]
  },
  {
   "cell_type": "markdown",
   "id": "1007a910",
   "metadata": {},
   "source": [
    "#### Lists are mutable (changeable) arrays\n",
    "Ex: names = [‘Zach’, ‘Jay’]   # note the square bracket.  \n",
    "Indexing to access of individual \n"
   ]
  },
  {
   "cell_type": "code",
   "execution_count": null,
   "id": "8a4d48a2",
   "metadata": {},
   "outputs": [],
   "source": [
    "names = ['Jack', 'Jill']\n",
    "print(names[0])\n",
    "\n",
    "print(print (names))\n",
    "\n",
    "print(len(names))\n",
    "\n",
    "names[1] = \"John\"\n",
    "print(names)\n",
    "\n",
    "emptyList = [] #or list()\n",
    "print(len(emptyList))"
   ]
  },
  {
   "cell_type": "markdown",
   "id": "a0822a24",
   "metadata": {},
   "source": [
    "##### Extend list"
   ]
  },
  {
   "cell_type": "code",
   "execution_count": null,
   "id": "436aaaa0",
   "metadata": {},
   "outputs": [],
   "source": [
    "names = ['Jack', 'Jill']\n",
    "names.append('Rick')\n",
    "len(names)\n",
    "print (names)\n",
    "\n",
    "names.extend(['Kevin', 'Adrian'])\n",
    "print (names)"
   ]
  },
  {
   "cell_type": "code",
   "execution_count": null,
   "id": "36fbaec9",
   "metadata": {},
   "outputs": [],
   "source": [
    "eNames = ['Jack', 'Jill'] + ['Kevin', 'Adrian']\n",
    "print(eNames)"
   ]
  },
  {
   "cell_type": "markdown",
   "id": "0a6d9714",
   "metadata": {},
   "source": [
    "#### Tuples are an ordered collection, immutable (unchangeable) \n",
    "Element access is by indexing, like in list.\n"
   ]
  },
  {
   "cell_type": "code",
   "execution_count": 1,
   "id": "6eb4da5d",
   "metadata": {},
   "outputs": [
    {
     "name": "stdout",
     "output_type": "stream",
     "text": [
      "2.0 5.0\n",
      "3\n"
     ]
    }
   ],
   "source": [
    "coordinates = (2., 5., 1.)     # Note the parenthesis or round brackets.\n",
    "\n",
    "print(coordinates[0], coordinates[1])\n",
    "print(len(coordinates))"
   ]
  },
  {
   "cell_type": "code",
   "execution_count": 2,
   "id": "84041927",
   "metadata": {},
   "outputs": [
    {
     "name": "stdout",
     "output_type": "stream",
     "text": [
      "()\n",
      "(1.5,)\n"
     ]
    }
   ],
   "source": [
    "emptyTuple = () #tuple()\n",
    "print(emptyTuple)\n",
    "oneElemTuple = (1.5, )   #Comma matters!\n",
    "print(oneElemTuple)"
   ]
  },
  {
   "cell_type": "code",
   "execution_count": 3,
   "id": "65ccb7b7",
   "metadata": {},
   "outputs": [
    {
     "ename": "TypeError",
     "evalue": "'tuple' object does not support item assignment",
     "output_type": "error",
     "traceback": [
      "\u001b[1;31m---------------------------------------------------------------------------\u001b[0m",
      "\u001b[1;31mTypeError\u001b[0m                                 Traceback (most recent call last)",
      "Cell \u001b[1;32mIn[3], line 1\u001b[0m\n\u001b[1;32m----> 1\u001b[0m coordinates[\u001b[39m0\u001b[39;49m] \u001b[39m=\u001b[39m\u001b[39m3\u001b[39m\n",
      "\u001b[1;31mTypeError\u001b[0m: 'tuple' object does not support item assignment"
     ]
    }
   ],
   "source": [
    "coordinates[0] =3 # Will give error as tuple is immutable"
   ]
  },
  {
   "cell_type": "markdown",
   "id": "f7c3d882",
   "metadata": {},
   "source": [
    "#### Dictionary: an unordered list with key-value pairs.\n",
    "Elements access is using key as the index."
   ]
  },
  {
   "cell_type": "code",
   "execution_count": null,
   "id": "d816f789",
   "metadata": {},
   "outputs": [],
   "source": [
    "course = { \n",
    "    \"number\" :  \"CS F441\", \n",
    "    \"name\": \"Data Visualization\",\n",
    "    \"classSize\": 62\n",
    "}\n",
    "print (course)\n",
    "print (course[\"number\"])"
   ]
  },
  {
   "cell_type": "markdown",
   "id": "c05d8dba",
   "metadata": {},
   "source": [
    "##### Dictionary Methods\n",
    "- keys()\n",
    "- values()\n",
    "- items()"
   ]
  },
  {
   "cell_type": "code",
   "execution_count": null,
   "id": "56d755cd",
   "metadata": {},
   "outputs": [],
   "source": [
    "print(course.keys())\n",
    "\n",
    "print(course.values())\n",
    "\n",
    "print(course.items())"
   ]
  },
  {
   "cell_type": "markdown",
   "id": "fce9feec",
   "metadata": {},
   "source": [
    "#### Sets: An unordered, and unindexed collection."
   ]
  },
  {
   "cell_type": "code",
   "execution_count": null,
   "id": "a6aaa449",
   "metadata": {},
   "outputs": [],
   "source": [
    "thisset = {\"apple\", \"banana\", \"cherry\"}\n",
    "print(thisset)\n",
    "\n",
    "# No duplicate items: Set items are unique\n",
    "thisset = {\"apple\", \"banana\", \"cherry\", \"apple\"}\n",
    "print(thisset)"
   ]
  },
  {
   "cell_type": "markdown",
   "id": "a82494a0",
   "metadata": {},
   "source": [
    "# Remember \n",
    "\n",
    "Tuple -> ()\n",
    "\n",
    "List -> []\n",
    "\n",
    "Dictionary -> {}\n",
    "\n",
    "Set -> {}\n",
    "\n",
    " Tuple is immutable\n",
    "\n",
    " List is mutable\n",
    "\n",
    " Dictionary is mutable\n",
    "\n",
    " Set is mutable\n",
    "\n",
    " Tuple is ordered\n",
    "\n",
    " List is ordered\n",
    "\n",
    " Dictionary is unordered\n",
    "\n",
    " Set is unordered\n",
    "\n",
    " Tuple is indexed\n",
    "\n",
    " List is indexed\n",
    "\n",
    " Dictionary is indexed\n",
    " \n",
    " Set is not indexed"
   ]
  },
  {
   "cell_type": "markdown",
   "id": "733d0ff9",
   "metadata": {},
   "source": [
    "##### Set Membership"
   ]
  },
  {
   "cell_type": "code",
   "execution_count": null,
   "id": "ce4d7cca",
   "metadata": {},
   "outputs": [],
   "source": [
    "print(\"banana\" in thisset)\n",
    "\n",
    "print(\"pineapple\" in thisset)\n",
    "\n",
    "thisset.add(\"pineapple\")\n",
    "\n",
    "print(\"pineapple\" in thisset)\n",
    "\n",
    "#Allows union, intersection,difference, ...\n"
   ]
  },
  {
   "cell_type": "markdown",
   "id": "41e75777",
   "metadata": {},
   "source": [
    "### Additional Collections via External Packages\n",
    "- numpy\n",
    "- pandas\n",
    "\n",
    "Note: the packages are not natively available with python. Must be installed independently prior to importing.\n",
    "    \n",
    "pip install numpy  \n",
    "pip install pandas  \n",
    "\n",
    "They must be imported into your code\n",
    "- import numpy\n",
    "- import pandas\n",
    "\n",
    "Sometimes the package names may shortened for convenience of typing\n",
    "- import numpy as np\n",
    "- import pandas as pd"
   ]
  },
  {
   "cell_type": "markdown",
   "id": "3c88ec72",
   "metadata": {},
   "source": [
    "#### numpy: a Python package used for working with arrays.\n",
    "Difference between list and numpy.array:\n",
    "- numpy.array are non-extendable\n",
    "- elements are of the same type\n",
    "- Occupies continuous memory\n",
    "- efficient"
   ]
  },
  {
   "cell_type": "code",
   "execution_count": null,
   "id": "884d76fe",
   "metadata": {},
   "outputs": [],
   "source": [
    "import numpy as np\n",
    "A = [1, 5, 3, 4, 5]\n",
    "nA = np.array(A)\n",
    "print(nA)\n",
    "print(nA[0])"
   ]
  },
  {
   "cell_type": "code",
   "execution_count": null,
   "id": "cea94dc3",
   "metadata": {},
   "outputs": [],
   "source": [
    "A.append(10)\n",
    "print(A)"
   ]
  },
  {
   "cell_type": "code",
   "execution_count": null,
   "id": "c77d2c54",
   "metadata": {},
   "outputs": [],
   "source": [
    "nA.append(10)"
   ]
  },
  {
   "cell_type": "code",
   "execution_count": null,
   "id": "03b880d3",
   "metadata": {},
   "outputs": [],
   "source": [
    "A+5"
   ]
  },
  {
   "cell_type": "code",
   "execution_count": null,
   "id": "15fefdd2",
   "metadata": {},
   "outputs": [],
   "source": [
    "print(nA+5)"
   ]
  },
  {
   "cell_type": "code",
   "execution_count": null,
   "id": "66154c06",
   "metadata": {},
   "outputs": [],
   "source": [
    "print(nA)"
   ]
  },
  {
   "cell_type": "markdown",
   "id": "7a9a6f46",
   "metadata": {},
   "source": [
    "##### Numpy offers random module to work with numbers"
   ]
  },
  {
   "cell_type": "code",
   "execution_count": null,
   "id": "97e15b40",
   "metadata": {},
   "outputs": [],
   "source": [
    "from numpy import random\n",
    "print(random.randint(100)) # integer random number in the range [0, 100)\n",
    "\n",
    "print(random.randint(100, size=(5))) # integer random 1D array of size 5\n",
    "\n",
    "print (random.rand())   # float random number in the range [0, 1)\n",
    "\n",
    "print(random.rand(5))   # float random array of size 5"
   ]
  },
  {
   "cell_type": "code",
   "execution_count": null,
   "id": "6f30c136",
   "metadata": {},
   "outputs": [],
   "source": [
    "print(random.uniform(low=0,high=2,size=5)) # uniform distribution in [0,2)\n",
    "\n",
    "print(random.normal(loc=0,scale = 1, size = 5)) # normal distribution  loc is the mean and scale is the standard deviation\n",
    "\n",
    "print( random.choice([3, 5, 7, 9], p=[0.1, 0.3, 0.6, 0.0], size=5))\n",
    "\n",
    "print(random.permutation([1,2,3,4,5]))"
   ]
  },
  {
   "cell_type": "code",
   "execution_count": null,
   "id": "fa36a962",
   "metadata": {},
   "outputs": [],
   "source": [
    "random.uniform()"
   ]
  },
  {
   "cell_type": "markdown",
   "id": "1115da86",
   "metadata": {},
   "source": [
    "### Pandas: a Python library used for working with data sets.\n",
    "Pandas stands for Panel data (tabular data).  \n",
    "It has functions for analyzing, cleaning, exploring, and manipulating data.  \n",
    "It is used for a wide range of data analysis tasks, such as data cleaning, transformation, exploration, and more. \n",
    "\n",
    "Pandas provides data structures called DataFrame (a two-dimensional table-like data structure, like 2D array, or a table with rows and columns), and\n",
    "Series (a one-dimensional labeled array) that make it easier to work with and analyze data in Python."
   ]
  },
  {
   "cell_type": "code",
   "execution_count": null,
   "id": "3f44abae",
   "metadata": {},
   "outputs": [],
   "source": [
    "import pandas as pd\n",
    "\n",
    "student1 = {\n",
    " \"courses\": [\"F441\", \"F311\"],\n",
    " \"grades\": [\"A\", \"B+\"]\n",
    "}\n",
    "\n",
    "df = pd.DataFrame(student1)"
   ]
  },
  {
   "cell_type": "code",
   "execution_count": null,
   "id": "afcdb8b2",
   "metadata": {},
   "outputs": [],
   "source": [
    "print(student1)"
   ]
  },
  {
   "cell_type": "code",
   "execution_count": null,
   "id": "378496c5",
   "metadata": {},
   "outputs": [],
   "source": [
    "print(df)"
   ]
  },
  {
   "cell_type": "code",
   "execution_count": null,
   "id": "fdf51663",
   "metadata": {},
   "outputs": [],
   "source": [
    "df.info()"
   ]
  },
  {
   "cell_type": "code",
   "execution_count": null,
   "id": "79c89341",
   "metadata": {},
   "outputs": [],
   "source": [
    "df.columns"
   ]
  },
  {
   "cell_type": "code",
   "execution_count": null,
   "id": "03e30405",
   "metadata": {},
   "outputs": [],
   "source": [
    "df.index"
   ]
  },
  {
   "cell_type": "code",
   "execution_count": null,
   "id": "c0a2ee26",
   "metadata": {},
   "outputs": [],
   "source": [
    "df.index = [\"I\",\"II\"]"
   ]
  },
  {
   "cell_type": "code",
   "execution_count": null,
   "id": "27ae408f",
   "metadata": {},
   "outputs": [],
   "source": [
    "print(df)"
   ]
  },
  {
   "cell_type": "markdown",
   "id": "361606fe",
   "metadata": {},
   "source": [
    "##### Accessing Columns and Rows of DataFrame."
   ]
  },
  {
   "cell_type": "code",
   "execution_count": null,
   "id": "72a1e92f",
   "metadata": {},
   "outputs": [],
   "source": [
    "#column Access is similar to disctional access using key.\n",
    "print(df[\"courses\"])"
   ]
  },
  {
   "cell_type": "code",
   "execution_count": null,
   "id": "65e92299",
   "metadata": {},
   "outputs": [],
   "source": [
    "print(df[\"grades\"])"
   ]
  },
  {
   "cell_type": "markdown",
   "id": "319882e5",
   "metadata": {},
   "source": [
    "Pandas dataframe has two different function to access rows.\n",
    "- .loc is typically used for label indexing and can access multiple columns using column name, \n",
    "- .iloc is used for integer indexing both rows and columns."
   ]
  },
  {
   "cell_type": "code",
   "execution_count": null,
   "id": "4c707615",
   "metadata": {},
   "outputs": [],
   "source": [
    "# Row access\n",
    "print(df.loc[\"I\"])"
   ]
  },
  {
   "cell_type": "code",
   "execution_count": null,
   "id": "ca6352e7",
   "metadata": {},
   "outputs": [],
   "source": [
    "print(df.loc[\"I\",\"courses\"])"
   ]
  },
  {
   "cell_type": "code",
   "execution_count": null,
   "id": "52780f3f",
   "metadata": {},
   "outputs": [],
   "source": [
    "print(df.iloc[0,1])"
   ]
  },
  {
   "cell_type": "code",
   "execution_count": null,
   "id": "e298e224",
   "metadata": {},
   "outputs": [],
   "source": [
    "print(df.iloc[0][\"courses\"])"
   ]
  },
  {
   "cell_type": "markdown",
   "id": "59dab877",
   "metadata": {},
   "source": [
    "##### Reading tabular data\n",
    "In pandas, you can use the read_* functions to read various types of data formats into a DataFrame. Here are a few commonly used functions for reading data.\n",
    "- .read_csv()\n",
    "- .read_excel()\n",
    "- .read_json()\n",
    "- ..."
   ]
  },
  {
   "cell_type": "code",
   "execution_count": null,
   "id": "8ca5f018",
   "metadata": {},
   "outputs": [],
   "source": [
    "df = pd.read_csv(\"data.csv\")\n",
    "print(df.head(10))"
   ]
  },
  {
   "cell_type": "code",
   "execution_count": null,
   "id": "a1d10e2c",
   "metadata": {},
   "outputs": [],
   "source": [
    "df.info()"
   ]
  },
  {
   "cell_type": "code",
   "execution_count": null,
   "id": "5bfd3413",
   "metadata": {},
   "outputs": [],
   "source": [
    "df.describe()"
   ]
  },
  {
   "cell_type": "markdown",
   "id": "8160724f",
   "metadata": {},
   "source": [
    "### Flow Control\n",
    "- if-then-else\n",
    "- for loop\n",
    "- while loop"
   ]
  },
  {
   "cell_type": "markdown",
   "id": "37b48e8a",
   "metadata": {},
   "source": [
    "#### if-then-else statements: 3 forms\n",
    "- if statement\n",
    "- if...else statement\n",
    "- if...elif...else statement\n",
    "\n",
    "Statements can be code blocks.  \n",
    "Code blocks are created using indents.\n",
    "Indentation is done using spaces: say 2 or 4 spaces. But should be consistent throughout the file."
   ]
  },
  {
   "cell_type": "code",
   "execution_count": null,
   "id": "06352992",
   "metadata": {},
   "outputs": [],
   "source": [
    "number = 1"
   ]
  },
  {
   "cell_type": "code",
   "execution_count": null,
   "id": "86464ed2",
   "metadata": {},
   "outputs": [],
   "source": [
    "#\n",
    "# if statement\n",
    "#\n",
    "if number > 0:\n",
    "    print('Number is positive.')\n",
    "\n",
    "#\n",
    "# if...else statement\n",
    "#\n",
    "if number > 0:\n",
    "    print('Positive number')\n",
    "else:\n",
    "    print('Negative number')\n",
    "\n",
    "#\n",
    "# if...elif...else statement\n",
    "#\n",
    "if number > 0:\n",
    "    print(\"Positive number\")\n",
    "elif number == 0:\n",
    "    print('Zero')\n",
    "else:\n",
    "    print('Negative number')"
   ]
  },
  {
   "cell_type": "markdown",
   "id": "5ff0a21d",
   "metadata": {},
   "source": [
    "#### Shorthand if statement\n",
    "result = value_if_true if condition else value_if_false"
   ]
  },
  {
   "cell_type": "code",
   "execution_count": null,
   "id": "b75dc0f0",
   "metadata": {},
   "outputs": [],
   "source": [
    "number if (number % 2 == 0) else number*2"
   ]
  },
  {
   "cell_type": "markdown",
   "id": "c6e50969",
   "metadata": {},
   "source": [
    "### for loop is used to run a block of code for a certain number of times. \n",
    "It is used to iterate over any sequences such as range, list, tuple, string, etc.  \n",
    "Syntax:  \n",
    "for val in sequence:  \n",
    "    # statement(s)"
   ]
  },
  {
   "cell_type": "code",
   "execution_count": null,
   "id": "ce115f87",
   "metadata": {},
   "outputs": [],
   "source": [
    "for i in range(5):\n",
    "    print (i*i)\n",
    "#The range() function returns a sequence of numbers, starting from 0 by default, and increments by 1 (by default), and stops before a specified number.\n",
    "#syntax: \n",
    "#  range(start, stop, step)"
   ]
  },
  {
   "cell_type": "code",
   "execution_count": null,
   "id": "62722ccd",
   "metadata": {},
   "outputs": [],
   "source": [
    "aList = []\n",
    "for i in range(5):\n",
    "    aList.append(i*i)\n",
    "print(aList)"
   ]
  },
  {
   "cell_type": "code",
   "execution_count": null,
   "id": "184bb0c2",
   "metadata": {},
   "outputs": [],
   "source": [
    "#### Unpacking tuples"
   ]
  },
  {
   "cell_type": "code",
   "execution_count": null,
   "id": "57e2a1cf",
   "metadata": {},
   "outputs": [],
   "source": [
    "aList = [(1,10), (2,20), (3,30)]\n",
    "for x, y in aList:\n",
    "    print(x,y)"
   ]
  },
  {
   "cell_type": "markdown",
   "id": "5137968f",
   "metadata": {},
   "source": [
    "#### List Comprehension\n",
    "new_list = [expression for element in iterable]  \n",
    "new_list = [expression for element in iterable if condition]  \n"
   ]
  },
  {
   "cell_type": "code",
   "execution_count": null,
   "id": "4da3aa4c",
   "metadata": {},
   "outputs": [],
   "source": [
    "[i*i for i in range(5)]"
   ]
  },
  {
   "cell_type": "code",
   "execution_count": null,
   "id": "bf25829f",
   "metadata": {},
   "outputs": [],
   "source": [
    "[i*i for i in range(5) if i % 2 == 0]"
   ]
  },
  {
   "cell_type": "markdown",
   "id": "1a4b90b4",
   "metadata": {},
   "source": [
    "#### While loop\n",
    "while loop is used to run a block of code until a certain condition is met.  \n",
    "The syntax of while loop is  \n",
    "~~~\n",
    "while condition:   \n",
    "   body of while loop\n",
    "~~~\n"
   ]
  },
  {
   "cell_type": "code",
   "execution_count": null,
   "id": "2e52d076",
   "metadata": {},
   "outputs": [],
   "source": [
    "i = 0\n",
    "while i < 5:\n",
    "    print (i)\n",
    "    i += 1"
   ]
  },
  {
   "cell_type": "markdown",
   "id": "a517d4e4",
   "metadata": {},
   "source": [
    "### Functions:\n",
    "A function is a block of code which only runs when it is called.\n",
    "\n",
    "Function can be called with data, known as parameters (or arguments).\n",
    "A function can optionally return data as  result.\n",
    "\n",
    "Syntax:\n",
    "~~~\n",
    "def function_name(arguments):\n",
    "    # function body \n",
    "    return\n",
    "~~~"
   ]
  },
  {
   "cell_type": "code",
   "execution_count": null,
   "id": "399df6e3",
   "metadata": {},
   "outputs": [],
   "source": [
    "def square(num):\n",
    "    return num * num\n",
    "print(square(5))"
   ]
  },
  {
   "cell_type": "code",
   "execution_count": null,
   "id": "c5d4d54d",
   "metadata": {},
   "outputs": [],
   "source": [
    "for i in [1,2,3]:\n",
    "    print(f'Square of {i} = {square(i)}')"
   ]
  },
  {
   "cell_type": "markdown",
   "id": "335642ec",
   "metadata": {},
   "source": [
    "#### Lambda functions\n",
    "A lambda function is a small anonymous function.  \n",
    "A lambda function can take any number of arguments, but can only have one expression.  \n",
    "syntax:\n",
    "~~~\n",
    "lambda arguments : expression\n",
    "~~~"
   ]
  },
  {
   "cell_type": "code",
   "execution_count": null,
   "id": "1408f0c0",
   "metadata": {},
   "outputs": [],
   "source": [
    "x = lambda a : a + 10\n",
    "print(x(5))"
   ]
  },
  {
   "cell_type": "code",
   "execution_count": null,
   "id": "81d00215",
   "metadata": {},
   "outputs": [],
   "source": [
    "x = lambda a, b, c : a + b + c\n",
    "print(x(5, 6, 2))"
   ]
  }
 ],
 "metadata": {
  "kernelspec": {
   "display_name": "Python 3 (ipykernel)",
   "language": "python",
   "name": "python3"
  },
  "language_info": {
   "codemirror_mode": {
    "name": "ipython",
    "version": 3
   },
   "file_extension": ".py",
   "mimetype": "text/x-python",
   "name": "python",
   "nbconvert_exporter": "python",
   "pygments_lexer": "ipython3",
   "version": "3.11.4"
  }
 },
 "nbformat": 4,
 "nbformat_minor": 5
}
