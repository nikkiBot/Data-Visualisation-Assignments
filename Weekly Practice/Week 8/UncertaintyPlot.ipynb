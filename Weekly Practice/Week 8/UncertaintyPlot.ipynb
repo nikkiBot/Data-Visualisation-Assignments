{
 "cells": [
  {
   "cell_type": "code",
   "execution_count": null,
   "id": "6c37e88d",
   "metadata": {
    "jupyter": {
     "source_hidden": true
    }
   },
   "outputs": [],
   "source": [
    "import pandas as pd\n",
    "import plotly.express as px\n",
    "import math"
   ]
  },
  {
   "cell_type": "code",
   "execution_count": null,
   "id": "5503cf3c",
   "metadata": {
    "jupyter": {
     "source_hidden": true
    }
   },
   "outputs": [],
   "source": [
    "df0 = px.data.iris()"
   ]
  },
  {
   "cell_type": "code",
   "execution_count": null,
   "id": "799250d8",
   "metadata": {
    "jupyter": {
     "source_hidden": true
    }
   },
   "outputs": [],
   "source": [
    "df=df0.copy()\n",
    "N = len(df)\n",
    "df[\"e_sepal_length\"] = df[\"sepal_length\"].std()/math.sqrt(N)\n",
    "df[\"e_sepal_width\"] = df[\"sepal_width\"].std()/math.sqrt(N)"
   ]
  },
  {
   "cell_type": "code",
   "execution_count": null,
   "id": "62ca8d09",
   "metadata": {
    "jupyter": {
     "source_hidden": true
    }
   },
   "outputs": [],
   "source": [
    "px.scatter(df,x = \"sepal_length\", y = \"sepal_width\",  error_x=\"e_sepal_length\", error_y=\"e_sepal_width\")"
   ]
  },
  {
   "cell_type": "code",
   "execution_count": null,
   "id": "b8bae248",
   "metadata": {
    "jupyter": {
     "source_hidden": true
    }
   },
   "outputs": [],
   "source": [
    "df1 = df.copy()"
   ]
  },
  {
   "cell_type": "code",
   "execution_count": null,
   "id": "da87598c",
   "metadata": {
    "jupyter": {
     "source_hidden": true
    }
   },
   "outputs": [],
   "source": [
    "df_grp=df1.groupby(\"species\")"
   ]
  },
  {
   "cell_type": "code",
   "execution_count": null,
   "id": "43b6b5a8",
   "metadata": {
    "jupyter": {
     "source_hidden": true
    }
   },
   "outputs": [],
   "source": [
    "df_new = pd.DataFrame()\n",
    "for name,grp in df_grp:\n",
    "    print(name)\n",
    "    N = len(grp[\"sepal_length\"])\n",
    "    grp[\"e_sepal_length\"] = grp[\"sepal_length\"].std()/math.sqrt(N)\n",
    "    grp[\"e_sepal_width\"] = grp[\"sepal_width\"].std()/math.sqrt(N)\n",
    "    df_new=pd.concat([df_new, grp])\n",
    "    #print(df_new)"
   ]
  },
  {
   "cell_type": "code",
   "execution_count": null,
   "id": "9cc02382",
   "metadata": {
    "jupyter": {
     "source_hidden": true
    }
   },
   "outputs": [],
   "source": [
    "df_new.head()"
   ]
  },
  {
   "cell_type": "code",
   "execution_count": null,
   "id": "bfe5f6a7",
   "metadata": {
    "jupyter": {
     "source_hidden": true
    }
   },
   "outputs": [],
   "source": [
    "px.scatter(df_new,x = \"sepal_length\", y = \"sepal_width\",  color=\"species\", error_x=\"e_sepal_length\", error_y=\"e_sepal_width\", height=600, width=700)"
   ]
  },
  {
   "cell_type": "code",
   "execution_count": null,
   "id": "518866a2",
   "metadata": {
    "jupyter": {
     "source_hidden": true
    }
   },
   "outputs": [],
   "source": [
    "df_mean=df_grp.mean()"
   ]
  },
  {
   "cell_type": "code",
   "execution_count": null,
   "id": "1b1a1b27",
   "metadata": {
    "jupyter": {
     "source_hidden": true
    }
   },
   "outputs": [],
   "source": [
    "df_std=df_grp.std()"
   ]
  },
  {
   "cell_type": "code",
   "execution_count": null,
   "id": "40d68fd0",
   "metadata": {
    "jupyter": {
     "source_hidden": true
    }
   },
   "outputs": [],
   "source": [
    "df_mean[\"e_sepal_length\"] = df_std[\"sepal_length\"]\n",
    "df_mean[\"e_sepal_width\"] = df_std[\"sepal_width\"]\n",
    "px.bar(df_mean,x=df_mean.index, y = \"sepal_length\", error_y=\"e_sepal_length\", width=500)"
   ]
  },
  {
   "cell_type": "code",
   "execution_count": null,
   "id": "da061572",
   "metadata": {
    "jupyter": {
     "source_hidden": true
    }
   },
   "outputs": [],
   "source": [
    "df_grp.describe()"
   ]
  },
  {
   "cell_type": "code",
   "execution_count": null,
   "id": "786d6118",
   "metadata": {
    "jupyter": {
     "source_hidden": true
    }
   },
   "outputs": [],
   "source": []
  }
 ],
 "metadata": {
  "kernelspec": {
   "display_name": "Python 3 (ipykernel)",
   "language": "python",
   "name": "python3"
  },
  "language_info": {
   "codemirror_mode": {
    "name": "ipython",
    "version": 3
   },
   "file_extension": ".py",
   "mimetype": "text/x-python",
   "name": "python",
   "nbconvert_exporter": "python",
   "pygments_lexer": "ipython3",
   "version": "3.11.4"
  }
 },
 "nbformat": 4,
 "nbformat_minor": 5
}
