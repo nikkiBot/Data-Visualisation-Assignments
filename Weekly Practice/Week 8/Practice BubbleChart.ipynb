{
 "cells": [
  {
   "cell_type": "code",
   "execution_count": null,
   "id": "ea21059b-0146-4578-8a6d-d82623be6140",
   "metadata": {
    "jupyter": {
     "source_hidden": true
    }
   },
   "outputs": [],
   "source": [
    "import plotly.express as px\n",
    "import seaborn as sns\n",
    "import pandas as pd"
   ]
  },
  {
   "cell_type": "code",
   "execution_count": null,
   "id": "a21a6821-7581-40d9-af8e-6601a7850e55",
   "metadata": {
    "jupyter": {
     "source_hidden": true
    }
   },
   "outputs": [],
   "source": [
    "df = px.data.gapminder()\n",
    "df.head()"
   ]
  },
  {
   "cell_type": "code",
   "execution_count": null,
   "id": "063dd2cd-ecee-4656-a4c0-22cc957b4663",
   "metadata": {
    "jupyter": {
     "source_hidden": true
    }
   },
   "outputs": [],
   "source": [
    "df.query(\"year==2007\")"
   ]
  },
  {
   "cell_type": "code",
   "execution_count": null,
   "id": "94d12652-b664-469b-a8da-cb0e56f4ab6f",
   "metadata": {
    "jupyter": {
     "source_hidden": true
    }
   },
   "outputs": [],
   "source": [
    "df.query(\"(year==2007) | (year==1952)\")"
   ]
  },
  {
   "cell_type": "code",
   "execution_count": null,
   "id": "f21de289-1467-4a21-b835-3ad7d6b12f36",
   "metadata": {
    "jupyter": {
     "source_hidden": true
    }
   },
   "outputs": [],
   "source": []
  },
  {
   "cell_type": "code",
   "execution_count": null,
   "id": "8397035a-1878-4b3a-af63-90eb9dc09770",
   "metadata": {
    "jupyter": {
     "source_hidden": true
    }
   },
   "outputs": [],
   "source": [
    "px.scatter(df.query(\"year==2007\"), x=\"gdpPercap\", y=\"lifeExp\",size=\"pop\", color=\"continent\",hover_name=\"country\", log_x=True, size_max=60, height=600)"
   ]
  },
  {
   "cell_type": "code",
   "execution_count": null,
   "id": "5fc45c52-6d95-483c-aff2-9eb89d2b1b90",
   "metadata": {
    "jupyter": {
     "source_hidden": true
    }
   },
   "outputs": [],
   "source": [
    "px.scatter(df.query(\"(year==2007) | (year==1952)\"),x=\"gdpPercap\", y=\"lifeExp\",size=\"pop\", color=\"continent\",hover_name=\"country\", log_x=True, size_max=60, height=600,\n",
    "          facet_row = \"year\")"
   ]
  },
  {
   "cell_type": "code",
   "execution_count": null,
   "id": "566b06e7-883a-439d-a621-6935417e867e",
   "metadata": {
    "jupyter": {
     "source_hidden": true
    }
   },
   "outputs": [],
   "source": [
    "import matplotlib.pyplot as plt\n",
    "sns.set(rc={'figure.figsize':(12,5)})\n",
    "sns.scatterplot(df.query(\"year==2007\"), x=\"gdpPercap\", y=\"lifeExp\", size=\"pop\", hue=\"continent\", alpha = 0.5, sizes=(10, 2000))\n",
    "plt.xscale('log')\n",
    "#plt.legend(ncol=1,bbox_to_anchor=(.5, 0.5))"
   ]
  },
  {
   "cell_type": "code",
   "execution_count": null,
   "id": "6587314a-39ea-4c5e-a5ff-8a35bc7456d2",
   "metadata": {
    "jupyter": {
     "source_hidden": true
    }
   },
   "outputs": [],
   "source": []
  }
 ],
 "metadata": {
  "kernelspec": {
   "display_name": "Python 3 (ipykernel)",
   "language": "python",
   "name": "python3"
  },
  "language_info": {
   "codemirror_mode": {
    "name": "ipython",
    "version": 3
   },
   "file_extension": ".py",
   "mimetype": "text/x-python",
   "name": "python",
   "nbconvert_exporter": "python",
   "pygments_lexer": "ipython3",
   "version": "3.11.4"
  }
 },
 "nbformat": 4,
 "nbformat_minor": 5
}
