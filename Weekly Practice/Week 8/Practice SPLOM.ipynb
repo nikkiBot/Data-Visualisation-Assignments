{
 "cells": [
  {
   "cell_type": "code",
   "execution_count": null,
   "id": "8de9875a-2c8f-4db2-b167-a503fa29444b",
   "metadata": {
    "jupyter": {
     "source_hidden": true
    }
   },
   "outputs": [],
   "source": [
    "import plotly.express as px\n",
    "import seaborn as sns"
   ]
  },
  {
   "cell_type": "markdown",
   "id": "3d954ab5-1e28-45ca-92d6-b8e0802f07ac",
   "metadata": {},
   "source": [
    "### Scatter Plot Matrix (SPLOM)"
   ]
  },
  {
   "cell_type": "code",
   "execution_count": null,
   "id": "aee56d83-b8f5-4b24-bf8a-d0e65bca9361",
   "metadata": {
    "jupyter": {
     "source_hidden": true
    }
   },
   "outputs": [],
   "source": [
    "df = px.data.iris()\n",
    "df"
   ]
  },
  {
   "cell_type": "code",
   "execution_count": null,
   "id": "29dbf8a6-b3f7-4f6c-bc72-ebc6f2c8f3e0",
   "metadata": {
    "jupyter": {
     "source_hidden": true
    }
   },
   "outputs": [],
   "source": [
    "px.scatter_matrix(df,[\"sepal_length\", \"sepal_width\", \"petal_length\", \"petal_width\"], height=600)"
   ]
  },
  {
   "cell_type": "code",
   "execution_count": null,
   "id": "8bb6b2e6-3da7-4caf-b37d-660dba1bb459",
   "metadata": {
    "jupyter": {
     "source_hidden": true
    }
   },
   "outputs": [],
   "source": [
    "px.scatter_matrix(df,[\"sepal_length\", \"sepal_width\", \"petal_length\", \"petal_width\"],\n",
    "    labels={col:col.replace('_', ' ') for col in df.columns}, height=600).update_traces(\n",
    "    marker=dict(\n",
    "        size=5,line=dict(width=0.5,color='gray'),\n",
    "        color='black')\n",
    ")"
   ]
  },
  {
   "cell_type": "code",
   "execution_count": null,
   "id": "ac5159b7-b365-4bd8-aa4f-1a36b4487ebb",
   "metadata": {
    "jupyter": {
     "source_hidden": true
    }
   },
   "outputs": [],
   "source": [
    "px.scatter_matrix(df,[\"sepal_length\", \"sepal_width\", \"petal_length\", \"petal_width\"],\n",
    "    labels={col:col.replace('_', ' ') for col in df.columns}, height=600).update_traces(\n",
    "    marker=dict(\n",
    "        size=5,line=dict(width=0.5,color='gray'),\n",
    "        color='black'),\n",
    "    diagonal_visible=False\n",
    ")"
   ]
  },
  {
   "cell_type": "code",
   "execution_count": null,
   "id": "ad3f6af2-16ad-4af0-80d1-d2cacbd67d0a",
   "metadata": {
    "jupyter": {
     "source_hidden": true
    }
   },
   "outputs": [],
   "source": [
    "px.scatter_matrix(df,[\"sepal_length\", \"sepal_width\", \"petal_length\", \"petal_width\"],\n",
    "    labels={col:col.replace('_', ' ') for col in df.columns}, height=600).update_traces(\n",
    "    marker=dict(\n",
    "        size=5,line=dict(width=0.5,color='gray'),\n",
    "        color='black'),\n",
    "    diagonal_visible=False,\n",
    "    showupperhalf=False\n",
    ")"
   ]
  },
  {
   "cell_type": "code",
   "execution_count": null,
   "id": "e4268153-0ac7-45c5-b848-c72d4b16be56",
   "metadata": {
    "jupyter": {
     "source_hidden": true
    }
   },
   "outputs": [],
   "source": [
    " px.scatter_matrix(df,[\"sepal_length\", \"sepal_width\", \"petal_length\", \"petal_width\"],\n",
    "    labels={col:col.replace('_', ' ') for col in df.columns}, height=600,color=\"species\").update_traces(\n",
    "    marker=dict(\n",
    "        size=5,line=dict(width=0.5,color='gray')),\n",
    "    diagonal_visible=False,\n",
    "    showupperhalf=False\n",
    ")"
   ]
  },
  {
   "cell_type": "code",
   "execution_count": null,
   "id": "c9333488-c3ba-479d-a669-38c608f2048c",
   "metadata": {
    "jupyter": {
     "source_hidden": true
    }
   },
   "outputs": [],
   "source": [
    "import seaborn as sns\n",
    "sns.set_theme(style=\"ticks\")\n",
    "sns.pairplot(df,vars=[\"sepal_length\", \"sepal_width\", \"petal_length\", \"petal_width\"], hue=\"species\")"
   ]
  },
  {
   "cell_type": "code",
   "execution_count": null,
   "id": "b96ae641-ea47-4917-8686-0512986755b2",
   "metadata": {
    "jupyter": {
     "source_hidden": true
    }
   },
   "outputs": [],
   "source": [
    "sns.pairplot(df,vars=[\"sepal_length\", \"sepal_width\", \"petal_length\", \"petal_width\"], hue=\"species\", height=1.5)"
   ]
  },
  {
   "cell_type": "code",
   "execution_count": null,
   "id": "dbe653a8-4495-423d-b780-cacd149f343a",
   "metadata": {
    "jupyter": {
     "source_hidden": true
    }
   },
   "outputs": [],
   "source": [
    "sns.pairplot(df,vars=[\"sepal_length\", \"sepal_width\", \"petal_length\", \"petal_width\"], diag_kind=\"hist\", hue=\"species\") #{‘auto’, ‘hist’, ‘kde’, None}"
   ]
  },
  {
   "cell_type": "code",
   "execution_count": null,
   "id": "d76d4975-a301-4ca7-a2ca-225973f65f54",
   "metadata": {
    "jupyter": {
     "source_hidden": true
    }
   },
   "outputs": [],
   "source": [
    "import matplotlib.pyplot as plt\n",
    "def corrdot(*args, **kwargs):\n",
    "    corr_r = args[0].corr(args[1], 'pearson')\n",
    "    corr_text = f\"{corr_r:2.2f}\".replace(\"0.\", \".\")\n",
    "    ax = plt.gca()\n",
    "    font_size = 20\n",
    "    ax.annotate(corr_text, [1, 0],  xycoords=\"axes fraction\",\n",
    "                ha='right', va='bottom', fontsize=font_size) #ha={'right', 'center', 'left'}, va={'bottom', 'baseline', 'center', 'center_baseline', 'top'}\n",
    "sns.pairplot(df,vars=[\"sepal_length\", \"sepal_width\", \"petal_length\", \"petal_width\"]).map_upper(corrdot)"
   ]
  },
  {
   "cell_type": "code",
   "execution_count": null,
   "id": "b45c942d-1847-497b-b24c-d30894931c2e",
   "metadata": {
    "jupyter": {
     "source_hidden": true
    }
   },
   "outputs": [],
   "source": [
    "df[\"sepal_length\"].corr(df[\"sepal_width\"])"
   ]
  },
  {
   "cell_type": "code",
   "execution_count": null,
   "id": "5b3f57e4-5d43-4b26-b497-7ba8bbc29f5a",
   "metadata": {
    "jupyter": {
     "source_hidden": true
    }
   },
   "outputs": [],
   "source": [
    "df[[\"sepal_length\", \"sepal_width\", \"petal_length\", \"petal_width\"]].corr()"
   ]
  },
  {
   "cell_type": "code",
   "execution_count": null,
   "id": "50b7cedf-9ef0-4ed1-a9da-8b4a0694e3e0",
   "metadata": {
    "jupyter": {
     "source_hidden": true
    }
   },
   "outputs": [],
   "source": [
    "corr = df[[\"sepal_length\", \"sepal_width\", \"petal_length\", \"petal_width\"]].corr()\n",
    "sns.heatmap(corr, \n",
    "            xticklabels=corr.columns.values,\n",
    "            yticklabels=corr.columns.values, annot=True)"
   ]
  },
  {
   "cell_type": "code",
   "execution_count": null,
   "id": "011e454a-0264-49b6-a2b7-bc8739594edc",
   "metadata": {
    "jupyter": {
     "source_hidden": true
    }
   },
   "outputs": [],
   "source": [
    "px.imshow(corr, text_auto=True, height = 500, width=600)"
   ]
  },
  {
   "cell_type": "code",
   "execution_count": null,
   "id": "2a4e8535-95a5-4337-81a9-9c12d1351d6f",
   "metadata": {
    "jupyter": {
     "source_hidden": true
    }
   },
   "outputs": [],
   "source": []
  }
 ],
 "metadata": {
  "kernelspec": {
   "display_name": "Python 3 (ipykernel)",
   "language": "python",
   "name": "python3"
  },
  "language_info": {
   "codemirror_mode": {
    "name": "ipython",
    "version": 3
   },
   "file_extension": ".py",
   "mimetype": "text/x-python",
   "name": "python",
   "nbconvert_exporter": "python",
   "pygments_lexer": "ipython3",
   "version": "3.11.4"
  }
 },
 "nbformat": 4,
 "nbformat_minor": 5
}
