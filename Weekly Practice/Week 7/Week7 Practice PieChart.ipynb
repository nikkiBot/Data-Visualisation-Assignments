{
 "cells": [
  {
   "cell_type": "code",
   "execution_count": null,
   "id": "2ef6642a-2097-4e36-b745-c737cd5a0f69",
   "metadata": {
    "collapsed": true,
    "jupyter": {
     "outputs_hidden": true,
     "source_hidden": true
    }
   },
   "outputs": [],
   "source": [
    "import pandas as pd\n",
    "import plotly.express as px\n",
    "import matplotlib.pyplot as plt\n",
    "import seaborn as sns"
   ]
  },
  {
   "cell_type": "markdown",
   "id": "3d18e067-cafa-49a1-95e5-c672baff6a82",
   "metadata": {},
   "source": [
    "### Pie Chart of Religion Composition of India\n",
    "Data Source: https://censusindia.gov.in"
   ]
  },
  {
   "cell_type": "raw",
   "id": "ca5877e1-3d84-4fa6-9f49-b22812812cae",
   "metadata": {},
   "source": [
    "url = \"https://censusindia.gov.in/nada/index.php/catalog/11361/download/14474/DDW00C-01%20MDDS.XLS\"\n",
    "#!pip install xlrd\n",
    "df = pd.read_excel(url)\n",
    "df.head(6)"
   ]
  },
  {
   "cell_type": "code",
   "execution_count": null,
   "id": "b0c161e9-6589-4438-b09b-84505cb2cdc1",
   "metadata": {
    "collapsed": true,
    "jupyter": {
     "outputs_hidden": true,
     "source_hidden": true
    }
   },
   "outputs": [],
   "source": [
    "url = \"https://censusindia.gov.in/nada/index.php/catalog/11361/download/14474/DDW00C-01%20MDDS.XLS\"\n",
    "df = pd.read_excel(url)\n",
    "df.head(6)"
   ]
  },
  {
   "cell_type": "code",
   "execution_count": null,
   "id": "d48c3af1-908b-42f2-98ae-5139e79581e2",
   "metadata": {
    "collapsed": true,
    "jupyter": {
     "outputs_hidden": true,
     "source_hidden": true
    }
   },
   "outputs": [],
   "source": [
    "df=pd.read_excel(url,header = list(range(5)), index_col = list(range(7)))\n",
    "#df=pd.read_csv(url,header = [2,3], index_col = [5,6])\n",
    "df.head(6)"
   ]
  },
  {
   "cell_type": "code",
   "execution_count": null,
   "id": "4075fa2f-3184-4e6f-82c7-6cb560f0f34f",
   "metadata": {
    "collapsed": true,
    "jupyter": {
     "outputs_hidden": true,
     "source_hidden": true
    }
   },
   "outputs": [],
   "source": [
    "df=pd.read_excel(url,header = [2,3], index_col = [5,6])\n",
    "#df=pd.read_csv(url,header = [2,3], index_col = [5,6])\n",
    "df.head(6)"
   ]
  },
  {
   "cell_type": "code",
   "execution_count": null,
   "id": "3a148db7-107a-463e-b990-4791cd0fd05a",
   "metadata": {
    "collapsed": true,
    "jupyter": {
     "outputs_hidden": true,
     "source_hidden": true
    }
   },
   "outputs": [],
   "source": [
    "df.loc[(\"INDIA\",\"Total\")]"
   ]
  },
  {
   "cell_type": "code",
   "execution_count": null,
   "id": "64e70352-66aa-4a74-9c5d-c6b4c843b6e3",
   "metadata": {
    "collapsed": true,
    "jupyter": {
     "outputs_hidden": true,
     "source_hidden": true
    }
   },
   "outputs": [],
   "source": []
  },
  {
   "cell_type": "code",
   "execution_count": null,
   "id": "92ecfab5-21b1-457c-aa9a-470186ebc258",
   "metadata": {
    "collapsed": true,
    "jupyter": {
     "outputs_hidden": true,
     "source_hidden": true
    }
   },
   "outputs": [],
   "source": [
    "df.columns.get_level_values(0).unique()"
   ]
  },
  {
   "cell_type": "code",
   "execution_count": null,
   "id": "f20436d1-99ae-4f8a-9254-a986dec46390",
   "metadata": {
    "collapsed": true,
    "jupyter": {
     "outputs_hidden": true,
     "source_hidden": true
    }
   },
   "outputs": [],
   "source": [
    "religionColumns = df.columns.get_level_values(0).unique()[3:]\n",
    "religionColumns"
   ]
  },
  {
   "cell_type": "code",
   "execution_count": null,
   "id": "1faaf269-cfa4-45de-a8c0-ca22160075dd",
   "metadata": {
    "collapsed": true,
    "jupyter": {
     "outputs_hidden": true,
     "source_hidden": true
    }
   },
   "outputs": [],
   "source": [
    "df.loc[(\"INDIA\",\"Total\")][religionColumns]"
   ]
  },
  {
   "cell_type": "code",
   "execution_count": null,
   "id": "05ec6f28-c229-4217-9ae9-889e6ee53673",
   "metadata": {
    "collapsed": true,
    "jupyter": {
     "outputs_hidden": true,
     "source_hidden": true
    }
   },
   "outputs": [],
   "source": [
    "df.loc[(\"INDIA\",\"Total\"),(religionColumns,\"Persons\")]"
   ]
  },
  {
   "cell_type": "code",
   "execution_count": null,
   "id": "1d0d21bf-fc36-4dd7-8ae9-153bba8125cd",
   "metadata": {
    "collapsed": true,
    "jupyter": {
     "outputs_hidden": true,
     "source_hidden": true
    }
   },
   "outputs": [],
   "source": [
    "df1 = df.loc[(\"INDIA\",\"Total\"),(religionColumns,\"Persons\")]\n",
    "df1.columns = religionColumns\n",
    "df1"
   ]
  },
  {
   "cell_type": "code",
   "execution_count": null,
   "id": "e8c88faa-7390-4ad1-ac7c-3a9e4c7c4ea3",
   "metadata": {
    "collapsed": true,
    "jupyter": {
     "outputs_hidden": true,
     "source_hidden": true
    }
   },
   "outputs": [],
   "source": [
    "df1.columns.name"
   ]
  },
  {
   "cell_type": "code",
   "execution_count": null,
   "id": "6ee66274-d4a0-4251-b2db-18e3e5954ff4",
   "metadata": {
    "collapsed": true,
    "jupyter": {
     "outputs_hidden": true,
     "source_hidden": true
    }
   },
   "outputs": [],
   "source": [
    "df1.columns.name = \"religion\"\n",
    "df1"
   ]
  },
  {
   "cell_type": "code",
   "execution_count": null,
   "id": "b9af8f24-262e-4261-a35e-95fe4af50e75",
   "metadata": {
    "collapsed": true,
    "jupyter": {
     "outputs_hidden": true,
     "source_hidden": true
    }
   },
   "outputs": [],
   "source": [
    "df1.index"
   ]
  },
  {
   "cell_type": "code",
   "execution_count": null,
   "id": "86c3e605-9beb-416b-90a0-407ac77d58d8",
   "metadata": {
    "collapsed": true,
    "jupyter": {
     "outputs_hidden": true,
     "source_hidden": true
    }
   },
   "outputs": [],
   "source": [
    "df1.index = [\"population\"]\n",
    "df1"
   ]
  },
  {
   "cell_type": "code",
   "execution_count": null,
   "id": "f47fb7a9-5b79-4696-a74b-5674d6d7a8a6",
   "metadata": {
    "collapsed": true,
    "jupyter": {
     "outputs_hidden": true,
     "source_hidden": true
    }
   },
   "outputs": [],
   "source": [
    "df1.T"
   ]
  },
  {
   "cell_type": "code",
   "execution_count": null,
   "id": "b7806720-da87-4a1c-9898-152945c1373c",
   "metadata": {
    "collapsed": true,
    "jupyter": {
     "outputs_hidden": true,
     "source_hidden": true
    }
   },
   "outputs": [],
   "source": [
    "df2 = df1.T.reset_index()\n",
    "df2"
   ]
  },
  {
   "cell_type": "code",
   "execution_count": null,
   "id": "1339e22a-190e-472c-872a-070634060440",
   "metadata": {
    "collapsed": true,
    "jupyter": {
     "outputs_hidden": true,
     "source_hidden": true
    }
   },
   "outputs": [],
   "source": [
    "df3 = df2.copy()\n",
    "px.pie(df3, values='population', names='religion', height = 500, title='Religions composition of India')"
   ]
  },
  {
   "cell_type": "code",
   "execution_count": null,
   "id": "43b52dc5-059c-48cc-b687-839ecac20904",
   "metadata": {
    "collapsed": true,
    "jupyter": {
     "outputs_hidden": true,
     "source_hidden": true
    }
   },
   "outputs": [],
   "source": [
    "df3"
   ]
  },
  {
   "cell_type": "code",
   "execution_count": null,
   "id": "6ef43b5d-3cd8-4d6c-af9c-c3246fee44e9",
   "metadata": {
    "collapsed": true,
    "jupyter": {
     "outputs_hidden": true,
     "source_hidden": true
    }
   },
   "outputs": [],
   "source": [
    "buddhist_jain = df3.iloc[[4,5]].sum()\n",
    "buddhist_jain"
   ]
  },
  {
   "cell_type": "code",
   "execution_count": null,
   "id": "919ad223-54e6-4e5e-bbf7-6af826519f5c",
   "metadata": {
    "collapsed": true,
    "jupyter": {
     "outputs_hidden": true,
     "source_hidden": true
    }
   },
   "outputs": [],
   "source": [
    "others = df3.iloc[[6,7]].sum()\n",
    "others"
   ]
  },
  {
   "cell_type": "code",
   "execution_count": null,
   "id": "31b28867-26c3-4c14-ae2e-20e4c5aa4607",
   "metadata": {
    "collapsed": true,
    "jupyter": {
     "outputs_hidden": true,
     "source_hidden": true
    }
   },
   "outputs": [],
   "source": [
    "others[0] = \"Others\""
   ]
  },
  {
   "cell_type": "code",
   "execution_count": null,
   "id": "fbe26da5-1d6b-460d-a3f2-675420be0901",
   "metadata": {
    "collapsed": true,
    "jupyter": {
     "outputs_hidden": true,
     "source_hidden": true
    }
   },
   "outputs": [],
   "source": [
    "df3=df3.drop([4,5,6,7],axis=0)\n",
    "df3"
   ]
  },
  {
   "cell_type": "code",
   "execution_count": null,
   "id": "b991fcd8-90e6-45e0-95e9-b1e91781ecbc",
   "metadata": {
    "collapsed": true,
    "jupyter": {
     "outputs_hidden": true,
     "source_hidden": true
    }
   },
   "outputs": [],
   "source": [
    "df3.loc[4]=buddhist_jain\n",
    "df3.loc[5] = others\n",
    "df3"
   ]
  },
  {
   "cell_type": "code",
   "execution_count": null,
   "id": "b18de4f5-59d1-4068-af43-36d303c560c9",
   "metadata": {
    "collapsed": true,
    "jupyter": {
     "outputs_hidden": true,
     "source_hidden": true
    }
   },
   "outputs": [],
   "source": [
    "px.pie(df3, values='population', names='religion', title='Religions composition of India', height=600, width = 600)"
   ]
  },
  {
   "cell_type": "code",
   "execution_count": null,
   "id": "d67afe9c-2800-432c-a49f-bd69d6a6dd1f",
   "metadata": {
    "collapsed": true,
    "jupyter": {
     "outputs_hidden": true,
     "source_hidden": true
    }
   },
   "outputs": [],
   "source": [
    "px.pie(df3, values='population', names='religion', title='Religions composition of India', height=600, width = 600, hole=0.5).update_layout(\n",
    "    legend={\"x\": 0.5,\"y\": 0.5, \"xanchor\" : \"center\"})"
   ]
  },
  {
   "cell_type": "code",
   "execution_count": null,
   "id": "06fcfb16-550e-43c9-9233-f34570669bf5",
   "metadata": {
    "collapsed": true,
    "jupyter": {
     "outputs_hidden": true,
     "source_hidden": true
    }
   },
   "outputs": [],
   "source": [
    "px.pie(df3, values='population', names='religion', title='Religions composition of India', height=600, width = 600, hole=0.5).update_layout(\n",
    "    legend={\"x\": 0.5,\"y\": 0.5, \"xanchor\" : \"center\"}).update_traces(pull=0.1)"
   ]
  },
  {
   "cell_type": "code",
   "execution_count": null,
   "id": "8606d5a4-6c12-4311-a840-4d61ac254834",
   "metadata": {
    "collapsed": true,
    "jupyter": {
     "outputs_hidden": true,
     "source_hidden": true
    }
   },
   "outputs": [],
   "source": [
    "px.pie(df3, values='population', names='religion', title='Religions composition of India', height=600, width = 600, hole=0.6).update_layout(\n",
    "    legend={\"x\": 0.5,\"y\": 0.5, \"xanchor\" : \"center\"}).update_traces(pull=[0,0.1])"
   ]
  },
  {
   "cell_type": "code",
   "execution_count": null,
   "id": "83d4986c-a212-4ffc-b2a9-7b2e4551f708",
   "metadata": {
    "collapsed": true,
    "jupyter": {
     "outputs_hidden": true,
     "source_hidden": true
    }
   },
   "outputs": [],
   "source": [
    "import matplotlib.pyplot as plt\n",
    "plt.rcParams['figure.figsize'] = [10, 7]"
   ]
  },
  {
   "cell_type": "code",
   "execution_count": null,
   "id": "b8248677-e92f-44d4-829f-e43130c06214",
   "metadata": {
    "collapsed": true,
    "jupyter": {
     "outputs_hidden": true,
     "source_hidden": true
    }
   },
   "outputs": [],
   "source": [
    "plt.pie(df3[\"population\"], counterclock = False, startangle = 90, autopct = '%1.0f%%', pctdistance=1.1,wedgeprops=dict(width=0.5))\n",
    "plt.legend(df3[\"religion\"], \n",
    "           loc=\"center left\",\n",
    "          bbox_to_anchor=(1, 0, 0.5, 1))\n",
    "plt.show()"
   ]
  },
  {
   "cell_type": "code",
   "execution_count": null,
   "id": "77d2590e-25e2-414b-9f54-4f47f7028c68",
   "metadata": {
    "collapsed": true,
    "jupyter": {
     "outputs_hidden": true,
     "source_hidden": true
    }
   },
   "outputs": [],
   "source": [
    "df3"
   ]
  },
  {
   "cell_type": "code",
   "execution_count": null,
   "id": "64634d14-9619-4af7-9767-ed2e9e60ba00",
   "metadata": {
    "collapsed": true,
    "jupyter": {
     "outputs_hidden": true,
     "source_hidden": true
    }
   },
   "outputs": [],
   "source": [
    "plt.pie(df3[\"population\"], counterclock = False, startangle = 90, autopct = '%1.0f%%', pctdistance=1.1,\n",
    "        wedgeprops=dict(width=0.3), \n",
    "        explode = [0,0.1,0,0,0,0])\n",
    "plt.legend(df3[\"religion\"], \n",
    "           loc=\"center left\",\n",
    "          bbox_to_anchor=(1, 0, 0.5, 1))\n",
    "plt.show()"
   ]
  },
  {
   "cell_type": "markdown",
   "id": "6f9411aa-0e2d-4118-8023-6628db21efb7",
   "metadata": {},
   "source": [
    "### Waffle chart using pywaffle"
   ]
  },
  {
   "cell_type": "code",
   "execution_count": null,
   "id": "accd2f11-8b14-4e53-8f30-ab9d48616a13",
   "metadata": {
    "collapsed": true,
    "jupyter": {
     "outputs_hidden": true,
     "source_hidden": true
    }
   },
   "outputs": [],
   "source": [
    "#!pip install pywaffle"
   ]
  },
  {
   "cell_type": "code",
   "execution_count": null,
   "id": "fec459e3-bada-4bbf-a670-8b15b815f031",
   "metadata": {
    "collapsed": true,
    "jupyter": {
     "outputs_hidden": true,
     "source_hidden": true
    }
   },
   "outputs": [],
   "source": [
    "# python program to generate Waffle Chart\n",
    "\n",
    "from pywaffle import Waffle\n"
   ]
  },
  {
   "cell_type": "code",
   "execution_count": null,
   "id": "b57d4406-6c43-44a4-963d-d620877010e5",
   "metadata": {
    "collapsed": true,
    "jupyter": {
     "outputs_hidden": true,
     "source_hidden": true
    }
   },
   "outputs": [],
   "source": [
    "values = 100*df3[\"population\"]/df3[\"population\"].sum()"
   ]
  },
  {
   "cell_type": "code",
   "execution_count": null,
   "id": "b1ae9afc-8f81-4272-b4de-c0ac97479715",
   "metadata": {
    "collapsed": true,
    "jupyter": {
     "outputs_hidden": true,
     "source_hidden": true
    }
   },
   "outputs": [],
   "source": [
    "labels = list(df3[\"religion\"])"
   ]
  },
  {
   "cell_type": "code",
   "execution_count": null,
   "id": "06886872-16b2-43a9-bd97-7c324f41c83e",
   "metadata": {
    "collapsed": true,
    "jupyter": {
     "outputs_hidden": true,
     "source_hidden": true
    }
   },
   "outputs": [],
   "source": [
    "fig=plt.figure(\tFigureClass = Waffle, values = values, labels = labels, rows = 10)"
   ]
  },
  {
   "cell_type": "code",
   "execution_count": null,
   "id": "42ed0a8f-4b92-4724-9661-85226026da40",
   "metadata": {
    "collapsed": true,
    "jupyter": {
     "outputs_hidden": true,
     "source_hidden": true
    }
   },
   "outputs": [],
   "source": [
    "plt.figure(\n",
    "\tFigureClass = Waffle,\n",
    "\trows = 10,\n",
    "    columns = 10,\n",
    "\tvalues = values,\n",
    "\tlabels = labels,\n",
    "    characters = ['H','M','C','S',\"B\",'O'],\n",
    "    legend={'loc': 'upper left', 'bbox_to_anchor': (1, 1)}\n",
    ")\n",
    "plt.show()"
   ]
  }
 ],
 "metadata": {
  "kernelspec": {
   "display_name": "Python 3 (ipykernel)",
   "language": "python",
   "name": "python3"
  },
  "language_info": {
   "codemirror_mode": {
    "name": "ipython",
    "version": 3
   },
   "file_extension": ".py",
   "mimetype": "text/x-python",
   "name": "python",
   "nbconvert_exporter": "python",
   "pygments_lexer": "ipython3",
   "version": "3.11.4"
  }
 },
 "nbformat": 4,
 "nbformat_minor": 5
}
