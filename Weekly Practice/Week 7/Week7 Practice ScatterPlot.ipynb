{
 "cells": [
  {
   "cell_type": "code",
   "execution_count": null,
   "id": "8de9875a-2c8f-4db2-b167-a503fa29444b",
   "metadata": {
    "collapsed": true,
    "jupyter": {
     "outputs_hidden": true,
     "source_hidden": true
    }
   },
   "outputs": [],
   "source": [
    "import plotly.express as px\n",
    "import seaborn as sns"
   ]
  },
  {
   "cell_type": "markdown",
   "id": "7d801423-88a6-481b-8fe1-0e0cae4c227b",
   "metadata": {},
   "source": [
    "### Correlation and Scatter Plot"
   ]
  },
  {
   "cell_type": "code",
   "execution_count": null,
   "id": "d3a68cc6-bbcf-4aeb-ac1a-9864df9c6d2c",
   "metadata": {
    "collapsed": true,
    "jupyter": {
     "outputs_hidden": true,
     "source_hidden": true
    }
   },
   "outputs": [],
   "source": [
    "df = px.data.iris()\n",
    "df"
   ]
  },
  {
   "cell_type": "code",
   "execution_count": null,
   "id": "5e961aef-9374-4593-b132-e0b428211b88",
   "metadata": {
    "collapsed": true,
    "jupyter": {
     "outputs_hidden": true,
     "source_hidden": true
    }
   },
   "outputs": [],
   "source": [
    "df[\"sepal_length\"].describe()"
   ]
  },
  {
   "cell_type": "code",
   "execution_count": null,
   "id": "1d02b9e1-ef48-43ec-bf6b-d206d7f97205",
   "metadata": {
    "collapsed": true,
    "jupyter": {
     "outputs_hidden": true,
     "source_hidden": true
    }
   },
   "outputs": [],
   "source": [
    "df[\"sepal_length\"].var()"
   ]
  },
  {
   "cell_type": "code",
   "execution_count": null,
   "id": "d7e28a43-15ad-4e47-9fc9-05aa9e371dba",
   "metadata": {
    "collapsed": true,
    "jupyter": {
     "outputs_hidden": true,
     "source_hidden": true
    }
   },
   "outputs": [],
   "source": [
    "df[\"sepal_length\"].std()"
   ]
  },
  {
   "cell_type": "code",
   "execution_count": null,
   "id": "9db605c9-0dd6-47f6-8b3e-25204de238ae",
   "metadata": {
    "collapsed": true,
    "jupyter": {
     "outputs_hidden": true,
     "source_hidden": true
    }
   },
   "outputs": [],
   "source": [
    "df[\"sepal_length\"].std()*df[\"sepal_length\"].std()"
   ]
  },
  {
   "cell_type": "code",
   "execution_count": null,
   "id": "5f647dd3-dd6e-4762-b4cc-940dc40c494b",
   "metadata": {
    "collapsed": true,
    "jupyter": {
     "outputs_hidden": true,
     "source_hidden": true
    }
   },
   "outputs": [],
   "source": [
    "df.groupby(\"species\").mean()"
   ]
  },
  {
   "cell_type": "code",
   "execution_count": null,
   "id": "7a3284f6-a605-4273-b445-d19a156cdcda",
   "metadata": {
    "collapsed": true,
    "jupyter": {
     "outputs_hidden": true,
     "source_hidden": true
    }
   },
   "outputs": [],
   "source": [
    "by_species = df.groupby(\"species\")"
   ]
  },
  {
   "cell_type": "code",
   "execution_count": null,
   "id": "212c5f58-72b9-4364-bb01-5ee9c9525e60",
   "metadata": {
    "collapsed": true,
    "jupyter": {
     "outputs_hidden": true,
     "source_hidden": true
    }
   },
   "outputs": [],
   "source": [
    "by_species.groups.keys()"
   ]
  },
  {
   "cell_type": "code",
   "execution_count": null,
   "id": "fa42c4d7-7851-4ee4-8c39-3fcde74f2ae4",
   "metadata": {
    "collapsed": true,
    "jupyter": {
     "outputs_hidden": true,
     "source_hidden": true
    }
   },
   "outputs": [],
   "source": [
    "list(by_species.groups.keys())"
   ]
  },
  {
   "cell_type": "code",
   "execution_count": null,
   "id": "8e7f9644-23df-4b59-84ae-6cd856b165c1",
   "metadata": {
    "collapsed": true,
    "jupyter": {
     "outputs_hidden": true,
     "source_hidden": true
    }
   },
   "outputs": [],
   "source": [
    "by_species.get_group(\"versicolor\")"
   ]
  },
  {
   "cell_type": "code",
   "execution_count": null,
   "id": "e5347469-211a-4a1f-aaf1-bd4616cd39de",
   "metadata": {
    "collapsed": true,
    "jupyter": {
     "outputs_hidden": true,
     "source_hidden": true
    }
   },
   "outputs": [],
   "source": [
    "px.scatter(df,\"sepal_length\",\"sepal_width\", height=500, width=600)"
   ]
  },
  {
   "cell_type": "code",
   "execution_count": null,
   "id": "04c897c7-147b-4e13-8ed3-f83d79a559da",
   "metadata": {
    "collapsed": true,
    "jupyter": {
     "outputs_hidden": true,
     "source_hidden": true
    }
   },
   "outputs": [],
   "source": [
    "px.scatter(df,\"sepal_length\",\"sepal_width\", color=\"species\", height=500, width=600)"
   ]
  },
  {
   "cell_type": "code",
   "execution_count": null,
   "id": "1aa7e7de-5981-49ec-86bb-cc029ecce0a3",
   "metadata": {
    "collapsed": true,
    "jupyter": {
     "outputs_hidden": true,
     "source_hidden": true
    }
   },
   "outputs": [],
   "source": [
    "# Trendline\n",
    "#pip install statsmodels\n",
    "#see: https://plotly.com/python/linear-fits/\n",
    "\n",
    "px.scatter(df,\"sepal_length\",\"sepal_width\", height=500, width=600, trendline = \"ols\") #, trendline=\"ols\", \"lowess\""
   ]
  },
  {
   "cell_type": "code",
   "execution_count": null,
   "id": "9e269985-e593-4dfe-8843-cbb0e7f2ab5d",
   "metadata": {
    "collapsed": true,
    "jupyter": {
     "outputs_hidden": true,
     "source_hidden": true
    }
   },
   "outputs": [],
   "source": [
    "px.scatter(df,\"sepal_length\",\"sepal_width\", color=\"species\", height=500, width=600, trendline=\"ols\")"
   ]
  },
  {
   "cell_type": "raw",
   "id": "f4a17393-82cb-4fb0-a3b2-1dc1511e7006",
   "metadata": {},
   "source": [
    "fig=px.scatter(df,\"sepal_length\",\"sepal_width\", color=\"species\", height=500, width=600, trendline=\"ols\")\n",
    "fig.show()\n",
    "results = px.get_trendline_results(fig)\n",
    "results"
   ]
  },
  {
   "cell_type": "raw",
   "id": "bdad0b71-f93c-4076-8502-627e95c3507b",
   "metadata": {},
   "source": [
    "results.loc[1,\"px_fit_results\"].summary()"
   ]
  },
  {
   "cell_type": "code",
   "execution_count": null,
   "id": "1ee020a5-a865-4c1e-b885-f16c43bc5d9d",
   "metadata": {
    "collapsed": true,
    "jupyter": {
     "outputs_hidden": true,
     "source_hidden": true
    }
   },
   "outputs": [],
   "source": [
    "px.scatter(df,\"sepal_length\",\"sepal_width\", color=\"species\", height=500, width=600, trendline=\"ols\",trendline_scope=\"overall\")"
   ]
  },
  {
   "cell_type": "code",
   "execution_count": null,
   "id": "efced6b6-1c93-4fbb-a311-b0015d5d8b44",
   "metadata": {
    "collapsed": true,
    "jupyter": {
     "outputs_hidden": true,
     "source_hidden": true
    }
   },
   "outputs": [],
   "source": [
    "px.scatter(df,\"sepal_length\",\"sepal_width\", height=500, width=600, trendline = \"lowess\") #, trendline='lowess', 'rolling', 'ewm', 'expanding', 'ols'"
   ]
  },
  {
   "cell_type": "code",
   "execution_count": null,
   "id": "4707bd15-4d3b-4020-9267-4038a531cc53",
   "metadata": {
    "collapsed": true,
    "jupyter": {
     "outputs_hidden": true,
     "source_hidden": true
    }
   },
   "outputs": [],
   "source": [
    "px.scatter(df,\"sepal_length\",\"sepal_width\", color=\"species\",height=500, width=600, trendline = \"lowess\") #, trendline=\"ols\", \"lowess\""
   ]
  },
  {
   "cell_type": "code",
   "execution_count": null,
   "id": "15303499-bf20-4e98-aabf-0fcb6810f199",
   "metadata": {
    "collapsed": true,
    "jupyter": {
     "outputs_hidden": true,
     "source_hidden": true
    }
   },
   "outputs": [],
   "source": [
    "px.scatter(df,\"sepal_length\",\"sepal_width\", color=\"species\",height=500, width=600, trendline = \"lowess\", trendline_options=dict(frac=1.))"
   ]
  },
  {
   "cell_type": "code",
   "execution_count": null,
   "id": "d90b7269-6a62-4d7a-b846-c3782e5d0cf1",
   "metadata": {
    "collapsed": true,
    "jupyter": {
     "outputs_hidden": true,
     "source_hidden": true
    }
   },
   "outputs": [],
   "source": [
    "px.scatter(df,\"sepal_length\",\"sepal_width\", facet_col=\"species\", height=500, width=1000, trendline = \"lowess\",trendline_options=dict(frac=1.))"
   ]
  },
  {
   "cell_type": "code",
   "execution_count": null,
   "id": "356fe1ac-e03f-4cdf-b7aa-73b613e75ccb",
   "metadata": {
    "collapsed": true,
    "jupyter": {
     "outputs_hidden": true,
     "source_hidden": true
    }
   },
   "outputs": [],
   "source": [
    "px.scatter(df,\"sepal_length\",\"sepal_width\", color=\"species\", facet_col=\"species\", height=500, width=1000, trendline = \"lowess\",trendline_options=dict(frac=1.))"
   ]
  },
  {
   "cell_type": "code",
   "execution_count": null,
   "id": "2472b742-4aa2-458d-940b-322215078a16",
   "metadata": {
    "collapsed": true,
    "jupyter": {
     "outputs_hidden": true,
     "source_hidden": true
    }
   },
   "outputs": [],
   "source": [
    "sns.scatterplot(df,x=\"sepal_length\",y=\"sepal_width\")"
   ]
  },
  {
   "cell_type": "code",
   "execution_count": null,
   "id": "28724359-8601-4a06-8365-914689c911ab",
   "metadata": {
    "collapsed": true,
    "jupyter": {
     "outputs_hidden": true,
     "source_hidden": true
    }
   },
   "outputs": [],
   "source": [
    "sns.scatterplot(df,x=\"sepal_length\",y=\"sepal_width\", hue=\"species\")"
   ]
  },
  {
   "cell_type": "code",
   "execution_count": null,
   "id": "fdf6376a-47b0-4a56-b332-9b8bee1e9c9e",
   "metadata": {
    "collapsed": true,
    "jupyter": {
     "outputs_hidden": true,
     "source_hidden": true
    }
   },
   "outputs": [],
   "source": [
    "sns.regplot(df,x=\"sepal_length\",y=\"sepal_width\")"
   ]
  },
  {
   "cell_type": "code",
   "execution_count": null,
   "id": "31195a41-d90d-4977-a5fd-216ebeea9a06",
   "metadata": {
    "collapsed": true,
    "jupyter": {
     "outputs_hidden": true,
     "source_hidden": true
    }
   },
   "outputs": [],
   "source": [
    "sns.regplot(df,x=\"sepal_length\",y=\"sepal_width\", lowess=True)"
   ]
  },
  {
   "cell_type": "code",
   "execution_count": null,
   "id": "ee5f4f89-ee3e-4c35-bfe4-7a66282393a3",
   "metadata": {
    "collapsed": true,
    "jupyter": {
     "outputs_hidden": true,
     "source_hidden": true
    }
   },
   "outputs": [],
   "source": [
    "sns.lmplot(df,x=\"sepal_length\",y=\"sepal_width\",hue = \"species\", col = \"species\")"
   ]
  },
  {
   "cell_type": "code",
   "execution_count": null,
   "id": "58fec5d6-df38-4431-a573-fde3388a5a3d",
   "metadata": {
    "collapsed": true,
    "jupyter": {
     "outputs_hidden": true,
     "source_hidden": true
    }
   },
   "outputs": [],
   "source": [
    "sns.lmplot(df,x=\"sepal_length\",y=\"sepal_width\",hue = \"species\", col = \"species\", lowess = True)"
   ]
  },
  {
   "cell_type": "code",
   "execution_count": null,
   "id": "2a4e8535-95a5-4337-81a9-9c12d1351d6f",
   "metadata": {
    "collapsed": true,
    "jupyter": {
     "outputs_hidden": true,
     "source_hidden": true
    }
   },
   "outputs": [],
   "source": []
  }
 ],
 "metadata": {
  "kernelspec": {
   "display_name": "Python 3 (ipykernel)",
   "language": "python",
   "name": "python3"
  },
  "language_info": {
   "codemirror_mode": {
    "name": "ipython",
    "version": 3
   },
   "file_extension": ".py",
   "mimetype": "text/x-python",
   "name": "python",
   "nbconvert_exporter": "python",
   "pygments_lexer": "ipython3",
   "version": "3.11.4"
  }
 },
 "nbformat": 4,
 "nbformat_minor": 5
}
