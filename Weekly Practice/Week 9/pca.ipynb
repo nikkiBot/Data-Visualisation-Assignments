{
 "cells": [
  {
   "cell_type": "markdown",
   "id": "6b00df9b-6a50-49c8-bdc7-82610f13422d",
   "metadata": {},
   "source": [
    "## Principal Component Analsys and Dimension Reduction"
   ]
  },
  {
   "cell_type": "code",
   "execution_count": null,
   "id": "11163227-4b8a-4ac6-a495-67b71af9c135",
   "metadata": {
    "collapsed": true,
    "jupyter": {
     "outputs_hidden": true,
     "source_hidden": true
    }
   },
   "outputs": [],
   "source": [
    "import pandas as pd\n",
    "import numpy as np\n",
    "import numpy.linalg as LA\n",
    "from sklearn.decomposition import PCA\n",
    "from sklearn.cluster import KMeans\n",
    "import plotly.express as px"
   ]
  },
  {
   "cell_type": "code",
   "execution_count": null,
   "id": "618224cf-8248-40de-b7ad-50b8c059b231",
   "metadata": {
    "collapsed": true,
    "jupyter": {
     "outputs_hidden": true,
     "source_hidden": true
    }
   },
   "outputs": [],
   "source": [
    "df0 = px.data.iris()"
   ]
  },
  {
   "cell_type": "code",
   "execution_count": null,
   "id": "cf93736a-8a11-497d-bea7-cbbebbce7c3e",
   "metadata": {
    "collapsed": true,
    "jupyter": {
     "outputs_hidden": true,
     "source_hidden": true
    }
   },
   "outputs": [],
   "source": [
    "columns = [\"sepal_length\",\t\"sepal_width\",\t\"petal_length\",\t\"petal_width\"]\n",
    "df = df0[columns]\n",
    "df"
   ]
  },
  {
   "cell_type": "code",
   "execution_count": null,
   "id": "25291090-3040-40a9-92e1-b84f405aca9b",
   "metadata": {
    "collapsed": true,
    "jupyter": {
     "outputs_hidden": true,
     "source_hidden": true
    }
   },
   "outputs": [],
   "source": [
    "df1 = df.copy()\n",
    "df_standardized_manual = (df1 - df1.mean()) / df1.std()\n",
    "df_standardized_manual.cov()"
   ]
  },
  {
   "cell_type": "code",
   "execution_count": null,
   "id": "d3ee98d8-d3cf-4cd6-b57e-5aabdf68f3ac",
   "metadata": {
    "collapsed": true,
    "jupyter": {
     "outputs_hidden": true,
     "source_hidden": true
    }
   },
   "outputs": [],
   "source": [
    "df1 = df.copy()\n",
    "df_standardized_manual = (df1 - df1.mean()) / df1.std(ddof=0)\n",
    "df_standardized_manual.cov()"
   ]
  },
  {
   "cell_type": "code",
   "execution_count": null,
   "id": "f73bc6f5-01d9-4455-a60e-b92fa3cfee2c",
   "metadata": {
    "collapsed": true,
    "jupyter": {
     "outputs_hidden": true,
     "source_hidden": true
    }
   },
   "outputs": [],
   "source": [
    "\n",
    "eigenvalues, eigenvectors = LA.eig(df_standardized_manual.cov())"
   ]
  },
  {
   "cell_type": "code",
   "execution_count": null,
   "id": "0a239798-6dff-4763-8e73-f117e5039a1f",
   "metadata": {
    "collapsed": true,
    "jupyter": {
     "outputs_hidden": true,
     "source_hidden": true
    }
   },
   "outputs": [],
   "source": [
    "eigenvalues"
   ]
  },
  {
   "cell_type": "code",
   "execution_count": null,
   "id": "e5efd291-8237-45d1-bb7c-3dc2265d8365",
   "metadata": {
    "collapsed": true,
    "jupyter": {
     "outputs_hidden": true,
     "source_hidden": true
    }
   },
   "outputs": [],
   "source": [
    "eigenvectors"
   ]
  },
  {
   "cell_type": "code",
   "execution_count": null,
   "id": "18a34121-a2f5-46cf-bfe0-ad84dc017d3e",
   "metadata": {
    "collapsed": true,
    "jupyter": {
     "outputs_hidden": true,
     "source_hidden": true
    }
   },
   "outputs": [],
   "source": [
    "df_pca=pd.DataFrame(np.matmul(df_standardized_manual, eigenvectors))\n",
    "df_pca_2D = df_pca[[0,1]]\n",
    "df_pca_2D.columns = [\"x\", \"y\"]\n",
    "df_pca_2D"
   ]
  },
  {
   "cell_type": "code",
   "execution_count": null,
   "id": "7fe7afea-1f03-4e11-bacf-63f664227a66",
   "metadata": {
    "collapsed": true,
    "jupyter": {
     "outputs_hidden": true,
     "source_hidden": true
    }
   },
   "outputs": [],
   "source": [
    "px.scatter(df_pca_2D, x=\"x\", y =\"y\",title = \"PCA Results of IRIS dataset\",\n",
    "          labels={\n",
    "                     \"x\": f\"Principal Component 1: {eigenvalues[0]/np.sum(eigenvalues)*100:.1f}%\",\n",
    "                     \"y\": f\"Principal Component 2: {eigenvalues[1]/np.sum(eigenvalues)*100:.1f}%\"                   \n",
    "                 },height=500)"
   ]
  },
  {
   "cell_type": "code",
   "execution_count": null,
   "id": "d178a4bc-7818-42ea-afd3-69ad9cf21ad7",
   "metadata": {
    "collapsed": true,
    "jupyter": {
     "outputs_hidden": true,
     "source_hidden": true
    }
   },
   "outputs": [],
   "source": [
    "kmeans = KMeans(n_clusters = 3, random_state = 0, n_init='auto')\n",
    "kmeans.fit(df_pca_2D)"
   ]
  },
  {
   "cell_type": "code",
   "execution_count": null,
   "id": "61f2a1ce-2c9d-499d-b295-e671bc14b5b9",
   "metadata": {
    "collapsed": true,
    "jupyter": {
     "outputs_hidden": true,
     "source_hidden": true
    }
   },
   "outputs": [],
   "source": [
    "px.scatter(df_pca_2D, x=\"x\", y =\"y\",title = \"PCA Results of IRIS dataset\", color= kmeans.labels_.astype(str),\n",
    "          labels={\n",
    "                     \"x\": f\"Principal Component 1: {eigenvalues[0]/np.sum(eigenvalues)*100:.1f}%\",\n",
    "                     \"y\": f\"Principal Component 2: {eigenvalues[1]/np.sum(eigenvalues)*100:.1f}%\",\n",
    "                     \"color\": \"Species of Iris\"\n",
    "                 },height=500)"
   ]
  },
  {
   "cell_type": "code",
   "execution_count": null,
   "id": "3abdda87-acfd-4de6-8e11-9910953b4ccb",
   "metadata": {
    "collapsed": true,
    "jupyter": {
     "outputs_hidden": true,
     "source_hidden": true
    }
   },
   "outputs": [],
   "source": [
    "from sklearn.preprocessing import StandardScaler\n",
    "scaler = StandardScaler()\n",
    "df_standardized = scaler.fit_transform(df)"
   ]
  },
  {
   "cell_type": "code",
   "execution_count": null,
   "id": "82a30864-af19-4910-bd35-57bed40d5308",
   "metadata": {
    "collapsed": true,
    "jupyter": {
     "outputs_hidden": true,
     "source_hidden": true
    }
   },
   "outputs": [],
   "source": [
    "pca = PCA(n_components=4)\n",
    "principal_components = pca.fit_transform(df_standardized)"
   ]
  },
  {
   "cell_type": "code",
   "execution_count": null,
   "id": "72bf0d92-60d4-4404-ad11-a192ecd357d7",
   "metadata": {
    "collapsed": true,
    "jupyter": {
     "outputs_hidden": true,
     "source_hidden": true
    }
   },
   "outputs": [],
   "source": [
    "df_pca = pd.DataFrame(principal_components)\n",
    "df_pca"
   ]
  },
  {
   "cell_type": "code",
   "execution_count": null,
   "id": "7b3f21d4-ad53-485a-bb8b-3ab8703dbc77",
   "metadata": {
    "collapsed": true,
    "jupyter": {
     "outputs_hidden": true,
     "source_hidden": true
    }
   },
   "outputs": [],
   "source": [
    "df_pca.cov()"
   ]
  },
  {
   "cell_type": "code",
   "execution_count": null,
   "id": "291b22a8-6f8a-4541-8045-5dd8e5057d08",
   "metadata": {
    "collapsed": true,
    "jupyter": {
     "outputs_hidden": true,
     "source_hidden": true
    }
   },
   "outputs": [],
   "source": [
    "df_pca_2D = df_pca[[0,1]]\n",
    "df_pca_2D.columns = [\"x\", \"y\"]\n",
    "df_pca_2D"
   ]
  },
  {
   "cell_type": "code",
   "execution_count": null,
   "id": "d067d28e-1d6e-46ce-b9a9-1f48ee99c7d1",
   "metadata": {
    "collapsed": true,
    "jupyter": {
     "outputs_hidden": true,
     "source_hidden": true
    }
   },
   "outputs": [],
   "source": [
    "px.scatter(df_pca_2D, x=\"x\", y =\"y\",title = \"PCA Results of IRIS dataset\",\n",
    "          labels={\n",
    "                     \"x\": f\"Principal Component 1: {pca.explained_variance_ratio_[0]*100:.1f}%\",\n",
    "                     \"y\": f\"Principal Component 2: {pca.explained_variance_ratio_[1]*100:.1f}%\"\n",
    "                     \n",
    "                 },height=500)"
   ]
  },
  {
   "cell_type": "code",
   "execution_count": null,
   "id": "3d5e705e-3b9c-4d33-99ee-4c4b218d497e",
   "metadata": {
    "collapsed": true,
    "jupyter": {
     "outputs_hidden": true,
     "source_hidden": true
    }
   },
   "outputs": [],
   "source": [
    "pca.explained_variance_ratio_"
   ]
  },
  {
   "cell_type": "code",
   "execution_count": null,
   "id": "9333a49c-7dba-414a-85e5-520fd8e24497",
   "metadata": {
    "collapsed": true,
    "jupyter": {
     "outputs_hidden": true,
     "source_hidden": true
    }
   },
   "outputs": [],
   "source": [
    "pca.explained_variance_ "
   ]
  },
  {
   "cell_type": "code",
   "execution_count": null,
   "id": "5944266d-21c0-4664-8624-5a2b5736b75f",
   "metadata": {
    "collapsed": true,
    "jupyter": {
     "outputs_hidden": true,
     "source_hidden": true
    }
   },
   "outputs": [],
   "source": [
    "pca.explained_variance_ /pca.explained_variance_.sum()"
   ]
  },
  {
   "cell_type": "code",
   "execution_count": null,
   "id": "16f54f10-a330-4b15-8203-3e6addb5b224",
   "metadata": {
    "collapsed": true,
    "jupyter": {
     "outputs_hidden": true,
     "source_hidden": true
    }
   },
   "outputs": [],
   "source": [
    "eigenvalues = pca.explained_variance_\n",
    "components = pca.components_"
   ]
  },
  {
   "cell_type": "code",
   "execution_count": null,
   "id": "0465d1a7-2f37-4451-b820-fbc356906707",
   "metadata": {
    "collapsed": true,
    "jupyter": {
     "outputs_hidden": true,
     "source_hidden": true
    }
   },
   "outputs": [],
   "source": [
    "eigenvalues"
   ]
  },
  {
   "cell_type": "code",
   "execution_count": null,
   "id": "428146db-1fd5-43be-a2fa-60a63fb30655",
   "metadata": {
    "collapsed": true,
    "jupyter": {
     "outputs_hidden": true,
     "source_hidden": true
    }
   },
   "outputs": [],
   "source": [
    "components"
   ]
  },
  {
   "cell_type": "code",
   "execution_count": null,
   "id": "68fd9492-9250-4518-b8a0-9ddec5f459ce",
   "metadata": {
    "collapsed": true,
    "jupyter": {
     "outputs_hidden": true,
     "source_hidden": true
    }
   },
   "outputs": [],
   "source": [
    "np.transpose(components)"
   ]
  },
  {
   "cell_type": "code",
   "execution_count": null,
   "id": "8cbb3947-0659-4ee3-8b44-1c63c8dc0973",
   "metadata": {
    "collapsed": true,
    "jupyter": {
     "outputs_hidden": true,
     "source_hidden": true
    }
   },
   "outputs": [],
   "source": [
    "pd.DataFrame(np.matmul(df_scaled, np.transpose(components)))"
   ]
  },
  {
   "cell_type": "code",
   "execution_count": null,
   "id": "89fe3dbb-b55e-41d4-9ea1-81dd85b1ab0b",
   "metadata": {
    "collapsed": true,
    "jupyter": {
     "outputs_hidden": true,
     "source_hidden": true
    }
   },
   "outputs": [],
   "source": [
    "pd.DataFrame(np.matmul(df_scaled, np.transpose(components[0:2,:])))"
   ]
  }
 ],
 "metadata": {
  "kernelspec": {
   "display_name": "Python 3 (ipykernel)",
   "language": "python",
   "name": "python3"
  },
  "language_info": {
   "codemirror_mode": {
    "name": "ipython",
    "version": 3
   },
   "file_extension": ".py",
   "mimetype": "text/x-python",
   "name": "python",
   "nbconvert_exporter": "python",
   "pygments_lexer": "ipython3",
   "version": "3.11.4"
  }
 },
 "nbformat": 4,
 "nbformat_minor": 5
}
