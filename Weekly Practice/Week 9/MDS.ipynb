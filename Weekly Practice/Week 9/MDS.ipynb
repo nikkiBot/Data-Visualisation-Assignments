{
 "cells": [
  {
   "cell_type": "code",
   "execution_count": 6,
   "id": "2f7662a0",
   "metadata": {},
   "outputs": [],
   "source": [
    "import pandas as pd\n",
    "import numpy as np\n",
    "from sklearn.manifold import MDS\n",
    "\n",
    "#perform multi-dimensional scaling\n",
    "mds = MDS(random_state=0, dissimilarity='precomputed', normalized_stress=\"auto\")"
   ]
  },
  {
   "cell_type": "markdown",
   "id": "bbd75381",
   "metadata": {},
   "source": [
    "# MDS Algorithm\n",
    "\n",
    "1. Compute the distance matrix D\n",
    "2. Compute the matrix B = -0.5 * (D^2)\n",
    "3. Apply double centering to B\n",
    "4. Compute the eigenvalues and eigenvectors of B\n",
    "5. Choose the k largest eigenvalues and their corresponding eigenvectors\n",
    "6. Construct the matrix X from the eigenvectors\n",
    "7. Return X"
   ]
  },
  {
   "cell_type": "code",
   "execution_count": 7,
   "id": "851c66f6",
   "metadata": {},
   "outputs": [
    {
     "data": {
      "text/html": [
       "<div>\n",
       "<style scoped>\n",
       "    .dataframe tbody tr th:only-of-type {\n",
       "        vertical-align: middle;\n",
       "    }\n",
       "\n",
       "    .dataframe tbody tr th {\n",
       "        vertical-align: top;\n",
       "    }\n",
       "\n",
       "    .dataframe thead th {\n",
       "        text-align: right;\n",
       "    }\n",
       "</style>\n",
       "<table border=\"1\" class=\"dataframe\">\n",
       "  <thead>\n",
       "    <tr style=\"text-align: right;\">\n",
       "      <th></th>\n",
       "      <th>London</th>\n",
       "      <th>Berlin</th>\n",
       "      <th>Oslo</th>\n",
       "      <th>Moscow</th>\n",
       "      <th>Paris</th>\n",
       "      <th>Rome</th>\n",
       "      <th>Beijing</th>\n",
       "      <th>Istanbul</th>\n",
       "      <th>Gibraltar</th>\n",
       "      <th>Reykjavik</th>\n",
       "    </tr>\n",
       "  </thead>\n",
       "  <tbody>\n",
       "    <tr>\n",
       "      <th>London</th>\n",
       "      <td>0</td>\n",
       "      <td>570</td>\n",
       "      <td>710</td>\n",
       "      <td>1550</td>\n",
       "      <td>210</td>\n",
       "      <td>890</td>\n",
       "      <td>5050</td>\n",
       "      <td>1550</td>\n",
       "      <td>1090</td>\n",
       "      <td>1170</td>\n",
       "    </tr>\n",
       "    <tr>\n",
       "      <th>Berlin</th>\n",
       "      <td>570</td>\n",
       "      <td>0</td>\n",
       "      <td>520</td>\n",
       "      <td>1000</td>\n",
       "      <td>540</td>\n",
       "      <td>730</td>\n",
       "      <td>4570</td>\n",
       "      <td>1080</td>\n",
       "      <td>1450</td>\n",
       "      <td>1480</td>\n",
       "    </tr>\n",
       "    <tr>\n",
       "      <th>Oslo</th>\n",
       "      <td>710</td>\n",
       "      <td>520</td>\n",
       "      <td>0</td>\n",
       "      <td>1020</td>\n",
       "      <td>830</td>\n",
       "      <td>1240</td>\n",
       "      <td>4360</td>\n",
       "      <td>1520</td>\n",
       "      <td>1790</td>\n",
       "      <td>1080</td>\n",
       "    </tr>\n",
       "    <tr>\n",
       "      <th>Moscow</th>\n",
       "      <td>1550</td>\n",
       "      <td>1000</td>\n",
       "      <td>1020</td>\n",
       "      <td>0</td>\n",
       "      <td>1540</td>\n",
       "      <td>1470</td>\n",
       "      <td>3600</td>\n",
       "      <td>1090</td>\n",
       "      <td>2410</td>\n",
       "      <td>2060</td>\n",
       "    </tr>\n",
       "    <tr>\n",
       "      <th>Paris</th>\n",
       "      <td>210</td>\n",
       "      <td>540</td>\n",
       "      <td>830</td>\n",
       "      <td>1540</td>\n",
       "      <td>0</td>\n",
       "      <td>680</td>\n",
       "      <td>5100</td>\n",
       "      <td>1040</td>\n",
       "      <td>960</td>\n",
       "      <td>1380</td>\n",
       "    </tr>\n",
       "    <tr>\n",
       "      <th>Rome</th>\n",
       "      <td>890</td>\n",
       "      <td>730</td>\n",
       "      <td>1240</td>\n",
       "      <td>1470</td>\n",
       "      <td>680</td>\n",
       "      <td>0</td>\n",
       "      <td>5050</td>\n",
       "      <td>850</td>\n",
       "      <td>1030</td>\n",
       "      <td>2040</td>\n",
       "    </tr>\n",
       "    <tr>\n",
       "      <th>Beijing</th>\n",
       "      <td>5050</td>\n",
       "      <td>4570</td>\n",
       "      <td>4360</td>\n",
       "      <td>3600</td>\n",
       "      <td>5100</td>\n",
       "      <td>5050</td>\n",
       "      <td>0</td>\n",
       "      <td>4380</td>\n",
       "      <td>6010</td>\n",
       "      <td>4900</td>\n",
       "    </tr>\n",
       "    <tr>\n",
       "      <th>Istanbul</th>\n",
       "      <td>1550</td>\n",
       "      <td>1080</td>\n",
       "      <td>1520</td>\n",
       "      <td>1090</td>\n",
       "      <td>1040</td>\n",
       "      <td>850</td>\n",
       "      <td>4380</td>\n",
       "      <td>0</td>\n",
       "      <td>1870</td>\n",
       "      <td>2560</td>\n",
       "    </tr>\n",
       "    <tr>\n",
       "      <th>Gibraltar</th>\n",
       "      <td>1090</td>\n",
       "      <td>1450</td>\n",
       "      <td>1790</td>\n",
       "      <td>2410</td>\n",
       "      <td>960</td>\n",
       "      <td>1030</td>\n",
       "      <td>6010</td>\n",
       "      <td>1870</td>\n",
       "      <td>0</td>\n",
       "      <td>2050</td>\n",
       "    </tr>\n",
       "    <tr>\n",
       "      <th>Reykjavik</th>\n",
       "      <td>1170</td>\n",
       "      <td>1480</td>\n",
       "      <td>1080</td>\n",
       "      <td>2060</td>\n",
       "      <td>1380</td>\n",
       "      <td>2040</td>\n",
       "      <td>4900</td>\n",
       "      <td>2560</td>\n",
       "      <td>2050</td>\n",
       "      <td>0</td>\n",
       "    </tr>\n",
       "  </tbody>\n",
       "</table>\n",
       "</div>"
      ],
      "text/plain": [
       "           London  Berlin  Oslo  Moscow  Paris  Rome  Beijing  Istanbul  \\\n",
       "London          0     570   710    1550    210   890     5050      1550   \n",
       "Berlin        570       0   520    1000    540   730     4570      1080   \n",
       "Oslo          710     520     0    1020    830  1240     4360      1520   \n",
       "Moscow       1550    1000  1020       0   1540  1470     3600      1090   \n",
       "Paris         210     540   830    1540      0   680     5100      1040   \n",
       "Rome          890     730  1240    1470    680     0     5050       850   \n",
       "Beijing      5050    4570  4360    3600   5100  5050        0      4380   \n",
       "Istanbul     1550    1080  1520    1090   1040   850     4380         0   \n",
       "Gibraltar    1090    1450  1790    2410    960  1030     6010      1870   \n",
       "Reykjavik    1170    1480  1080    2060   1380  2040     4900      2560   \n",
       "\n",
       "           Gibraltar  Reykjavik  \n",
       "London          1090       1170  \n",
       "Berlin          1450       1480  \n",
       "Oslo            1790       1080  \n",
       "Moscow          2410       2060  \n",
       "Paris            960       1380  \n",
       "Rome            1030       2040  \n",
       "Beijing         6010       4900  \n",
       "Istanbul        1870       2560  \n",
       "Gibraltar          0       2050  \n",
       "Reykjavik       2050          0  "
      ]
     },
     "execution_count": 7,
     "metadata": {},
     "output_type": "execute_result"
    }
   ],
   "source": [
    "data = np.array([\n",
    "    [0, 570, 710, 1550, 210, 890, 5050, 1550, 1090, 1170],\n",
    "    [570,0,520, 1000, 540, 730, 4570, 1080, 1450, 1480],\n",
    "    [710, 520, 0, 1020, 830, 1240, 4360, 1520, 1790, 1080],\n",
    "    [1550,1000,1020, 0, 1540, 1470, 3600, 1090, 2410, 2060],\n",
    "    [210,540,830,1540, 0, 680, 5100, 1040, 960, 1380],\n",
    "    [890,730,1240,1470,680, 0, 5050, 850, 1030, 2040],\n",
    "    [5050, 4570, 4360, 3600, 5100, 5050, 0, 4380, 6010, 4900],\n",
    "    [1550, 1080, 1520, 1090, 1040, 850, 4380, 0, 1870, 2560],\n",
    "    [1090, 1450, 1790, 2410, 960, 1030, 6010, 1870, 0, 2050],\n",
    "    [1170, 1480, 1080, 2060, 1380, 2040, 4900, 2560, 2050, 0]\n",
    "])\n",
    "df = pd.DataFrame(data)\n",
    "cities = [\"London\", \"Berlin\", \"Oslo\", \"Moscow\", \"Paris\", \"Rome\", \"Beijing\", \"Istanbul\", \"Gibraltar\", \"Reykjavik\"]\n",
    "df.index = cities\n",
    "df.columns = cities\n",
    "df"
   ]
  },
  {
   "cell_type": "code",
   "execution_count": 10,
   "id": "9be9a228",
   "metadata": {},
   "outputs": [
    {
     "data": {
      "text/plain": [
       "array([[  238.78595987,  -787.77592661],\n",
       "       [  -40.05306339,  -286.86861619],\n",
       "       [  438.79006279,   -95.51606666],\n",
       "       [ -224.92894556,   699.22061076],\n",
       "       [  -30.75465147,  -784.47945943],\n",
       "       [ -647.18479938,  -723.46637742],\n",
       "       [  223.45931712,  4255.24234373],\n",
       "       [-1041.51105416,    -5.40496647],\n",
       "       [ -311.80660026, -1714.41989195],\n",
       "       [ 1395.20377444,  -556.53164976]])"
      ]
     },
     "execution_count": 10,
     "metadata": {},
     "output_type": "execute_result"
    }
   ],
   "source": [
    "fit_data = mds.fit_transform(df) # fit data into 2D space\n",
    "fit_data"
   ]
  },
  {
   "cell_type": "code",
   "execution_count": 11,
   "id": "e53641cd",
   "metadata": {},
   "outputs": [
    {
     "data": {
      "text/html": [
       "<div>\n",
       "<style scoped>\n",
       "    .dataframe tbody tr th:only-of-type {\n",
       "        vertical-align: middle;\n",
       "    }\n",
       "\n",
       "    .dataframe tbody tr th {\n",
       "        vertical-align: top;\n",
       "    }\n",
       "\n",
       "    .dataframe thead th {\n",
       "        text-align: right;\n",
       "    }\n",
       "</style>\n",
       "<table border=\"1\" class=\"dataframe\">\n",
       "  <thead>\n",
       "    <tr style=\"text-align: right;\">\n",
       "      <th></th>\n",
       "      <th>x</th>\n",
       "      <th>y</th>\n",
       "      <th>cities</th>\n",
       "    </tr>\n",
       "  </thead>\n",
       "  <tbody>\n",
       "    <tr>\n",
       "      <th>0</th>\n",
       "      <td>238.785960</td>\n",
       "      <td>-787.775927</td>\n",
       "      <td>London</td>\n",
       "    </tr>\n",
       "    <tr>\n",
       "      <th>1</th>\n",
       "      <td>-40.053063</td>\n",
       "      <td>-286.868616</td>\n",
       "      <td>Berlin</td>\n",
       "    </tr>\n",
       "    <tr>\n",
       "      <th>2</th>\n",
       "      <td>438.790063</td>\n",
       "      <td>-95.516067</td>\n",
       "      <td>Oslo</td>\n",
       "    </tr>\n",
       "    <tr>\n",
       "      <th>3</th>\n",
       "      <td>-224.928946</td>\n",
       "      <td>699.220611</td>\n",
       "      <td>Moscow</td>\n",
       "    </tr>\n",
       "    <tr>\n",
       "      <th>4</th>\n",
       "      <td>-30.754651</td>\n",
       "      <td>-784.479459</td>\n",
       "      <td>Paris</td>\n",
       "    </tr>\n",
       "    <tr>\n",
       "      <th>5</th>\n",
       "      <td>-647.184799</td>\n",
       "      <td>-723.466377</td>\n",
       "      <td>Rome</td>\n",
       "    </tr>\n",
       "    <tr>\n",
       "      <th>6</th>\n",
       "      <td>223.459317</td>\n",
       "      <td>4255.242344</td>\n",
       "      <td>Beijing</td>\n",
       "    </tr>\n",
       "    <tr>\n",
       "      <th>7</th>\n",
       "      <td>-1041.511054</td>\n",
       "      <td>-5.404966</td>\n",
       "      <td>Istanbul</td>\n",
       "    </tr>\n",
       "    <tr>\n",
       "      <th>8</th>\n",
       "      <td>-311.806600</td>\n",
       "      <td>-1714.419892</td>\n",
       "      <td>Gibraltar</td>\n",
       "    </tr>\n",
       "    <tr>\n",
       "      <th>9</th>\n",
       "      <td>1395.203774</td>\n",
       "      <td>-556.531650</td>\n",
       "      <td>Reykjavik</td>\n",
       "    </tr>\n",
       "  </tbody>\n",
       "</table>\n",
       "</div>"
      ],
      "text/plain": [
       "             x            y     cities\n",
       "0   238.785960  -787.775927     London\n",
       "1   -40.053063  -286.868616     Berlin\n",
       "2   438.790063   -95.516067       Oslo\n",
       "3  -224.928946   699.220611     Moscow\n",
       "4   -30.754651  -784.479459      Paris\n",
       "5  -647.184799  -723.466377       Rome\n",
       "6   223.459317  4255.242344    Beijing\n",
       "7 -1041.511054    -5.404966   Istanbul\n",
       "8  -311.806600 -1714.419892  Gibraltar\n",
       "9  1395.203774  -556.531650  Reykjavik"
      ]
     },
     "execution_count": 11,
     "metadata": {},
     "output_type": "execute_result"
    }
   ],
   "source": [
    "fit_df = pd.DataFrame(fit_data)\n",
    "fit_df.columns = [\"x\", \"y\"]\n",
    "fit_df[\"cities\"] = cities\n",
    "fit_df"
   ]
  },
  {
   "cell_type": "code",
   "execution_count": 13,
   "id": "d72310dd",
   "metadata": {},
   "outputs": [
    {
     "data": {
      "text/plain": [
       "x          238.78596\n",
       "y        -787.775927\n",
       "cities        London\n",
       "Name: 0, dtype: object"
      ]
     },
     "execution_count": 13,
     "metadata": {},
     "output_type": "execute_result"
    }
   ],
   "source": [
    "fit_df.iloc[0]"
   ]
  },
  {
   "cell_type": "code",
   "execution_count": 14,
   "id": "000ba97c",
   "metadata": {},
   "outputs": [],
   "source": [
    "import plotly.express as px"
   ]
  },
  {
   "cell_type": "code",
   "execution_count": 15,
   "id": "994bbede",
   "metadata": {},
   "outputs": [
    {
     "data": {
      "application/vnd.plotly.v1+json": {
       "config": {
        "plotlyServerURL": "https://plot.ly"
       },
       "data": [
        {
         "hovertemplate": "<b>%{hovertext}</b><br><br>x=%{x}<br>y=%{y}<br>cities=%{text}<extra></extra>",
         "hovertext": [
          "London",
          "Berlin",
          "Oslo",
          "Moscow",
          "Paris",
          "Rome",
          "Beijing",
          "Istanbul",
          "Gibraltar",
          "Reykjavik"
         ],
         "legendgroup": "",
         "marker": {
          "color": "#636efa",
          "symbol": "circle"
         },
         "mode": "markers+text",
         "name": "",
         "orientation": "v",
         "showlegend": false,
         "text": [
          "London",
          "Berlin",
          "Oslo",
          "Moscow",
          "Paris",
          "Rome",
          "Beijing",
          "Istanbul",
          "Gibraltar",
          "Reykjavik"
         ],
         "type": "scatter",
         "x": [
          238.78595986978158,
          -40.053063386151564,
          438.7900627904928,
          -224.92894556127482,
          -30.754651474058313,
          -647.1847993792485,
          223.45931712035613,
          -1041.5110541588401,
          -311.80660026244874,
          1395.2037744413913
         ],
         "xaxis": "x",
         "y": [
          -787.775926612002,
          -286.86861618586664,
          -95.51606665582653,
          699.2206107566835,
          -784.4794594297657,
          -723.4663774190263,
          4255.2423437347625,
          -5.404966474596634,
          -1714.4198919515425,
          -556.5316497628199
         ],
         "yaxis": "y"
        }
       ],
       "layout": {
        "legend": {
         "tracegroupgap": 0
        },
        "margin": {
         "t": 60
        },
        "template": {
         "data": {
          "bar": [
           {
            "error_x": {
             "color": "#2a3f5f"
            },
            "error_y": {
             "color": "#2a3f5f"
            },
            "marker": {
             "line": {
              "color": "#E5ECF6",
              "width": 0.5
             },
             "pattern": {
              "fillmode": "overlay",
              "size": 10,
              "solidity": 0.2
             }
            },
            "type": "bar"
           }
          ],
          "barpolar": [
           {
            "marker": {
             "line": {
              "color": "#E5ECF6",
              "width": 0.5
             },
             "pattern": {
              "fillmode": "overlay",
              "size": 10,
              "solidity": 0.2
             }
            },
            "type": "barpolar"
           }
          ],
          "carpet": [
           {
            "aaxis": {
             "endlinecolor": "#2a3f5f",
             "gridcolor": "white",
             "linecolor": "white",
             "minorgridcolor": "white",
             "startlinecolor": "#2a3f5f"
            },
            "baxis": {
             "endlinecolor": "#2a3f5f",
             "gridcolor": "white",
             "linecolor": "white",
             "minorgridcolor": "white",
             "startlinecolor": "#2a3f5f"
            },
            "type": "carpet"
           }
          ],
          "choropleth": [
           {
            "colorbar": {
             "outlinewidth": 0,
             "ticks": ""
            },
            "type": "choropleth"
           }
          ],
          "contour": [
           {
            "colorbar": {
             "outlinewidth": 0,
             "ticks": ""
            },
            "colorscale": [
             [
              0,
              "#0d0887"
             ],
             [
              0.1111111111111111,
              "#46039f"
             ],
             [
              0.2222222222222222,
              "#7201a8"
             ],
             [
              0.3333333333333333,
              "#9c179e"
             ],
             [
              0.4444444444444444,
              "#bd3786"
             ],
             [
              0.5555555555555556,
              "#d8576b"
             ],
             [
              0.6666666666666666,
              "#ed7953"
             ],
             [
              0.7777777777777778,
              "#fb9f3a"
             ],
             [
              0.8888888888888888,
              "#fdca26"
             ],
             [
              1,
              "#f0f921"
             ]
            ],
            "type": "contour"
           }
          ],
          "contourcarpet": [
           {
            "colorbar": {
             "outlinewidth": 0,
             "ticks": ""
            },
            "type": "contourcarpet"
           }
          ],
          "heatmap": [
           {
            "colorbar": {
             "outlinewidth": 0,
             "ticks": ""
            },
            "colorscale": [
             [
              0,
              "#0d0887"
             ],
             [
              0.1111111111111111,
              "#46039f"
             ],
             [
              0.2222222222222222,
              "#7201a8"
             ],
             [
              0.3333333333333333,
              "#9c179e"
             ],
             [
              0.4444444444444444,
              "#bd3786"
             ],
             [
              0.5555555555555556,
              "#d8576b"
             ],
             [
              0.6666666666666666,
              "#ed7953"
             ],
             [
              0.7777777777777778,
              "#fb9f3a"
             ],
             [
              0.8888888888888888,
              "#fdca26"
             ],
             [
              1,
              "#f0f921"
             ]
            ],
            "type": "heatmap"
           }
          ],
          "heatmapgl": [
           {
            "colorbar": {
             "outlinewidth": 0,
             "ticks": ""
            },
            "colorscale": [
             [
              0,
              "#0d0887"
             ],
             [
              0.1111111111111111,
              "#46039f"
             ],
             [
              0.2222222222222222,
              "#7201a8"
             ],
             [
              0.3333333333333333,
              "#9c179e"
             ],
             [
              0.4444444444444444,
              "#bd3786"
             ],
             [
              0.5555555555555556,
              "#d8576b"
             ],
             [
              0.6666666666666666,
              "#ed7953"
             ],
             [
              0.7777777777777778,
              "#fb9f3a"
             ],
             [
              0.8888888888888888,
              "#fdca26"
             ],
             [
              1,
              "#f0f921"
             ]
            ],
            "type": "heatmapgl"
           }
          ],
          "histogram": [
           {
            "marker": {
             "pattern": {
              "fillmode": "overlay",
              "size": 10,
              "solidity": 0.2
             }
            },
            "type": "histogram"
           }
          ],
          "histogram2d": [
           {
            "colorbar": {
             "outlinewidth": 0,
             "ticks": ""
            },
            "colorscale": [
             [
              0,
              "#0d0887"
             ],
             [
              0.1111111111111111,
              "#46039f"
             ],
             [
              0.2222222222222222,
              "#7201a8"
             ],
             [
              0.3333333333333333,
              "#9c179e"
             ],
             [
              0.4444444444444444,
              "#bd3786"
             ],
             [
              0.5555555555555556,
              "#d8576b"
             ],
             [
              0.6666666666666666,
              "#ed7953"
             ],
             [
              0.7777777777777778,
              "#fb9f3a"
             ],
             [
              0.8888888888888888,
              "#fdca26"
             ],
             [
              1,
              "#f0f921"
             ]
            ],
            "type": "histogram2d"
           }
          ],
          "histogram2dcontour": [
           {
            "colorbar": {
             "outlinewidth": 0,
             "ticks": ""
            },
            "colorscale": [
             [
              0,
              "#0d0887"
             ],
             [
              0.1111111111111111,
              "#46039f"
             ],
             [
              0.2222222222222222,
              "#7201a8"
             ],
             [
              0.3333333333333333,
              "#9c179e"
             ],
             [
              0.4444444444444444,
              "#bd3786"
             ],
             [
              0.5555555555555556,
              "#d8576b"
             ],
             [
              0.6666666666666666,
              "#ed7953"
             ],
             [
              0.7777777777777778,
              "#fb9f3a"
             ],
             [
              0.8888888888888888,
              "#fdca26"
             ],
             [
              1,
              "#f0f921"
             ]
            ],
            "type": "histogram2dcontour"
           }
          ],
          "mesh3d": [
           {
            "colorbar": {
             "outlinewidth": 0,
             "ticks": ""
            },
            "type": "mesh3d"
           }
          ],
          "parcoords": [
           {
            "line": {
             "colorbar": {
              "outlinewidth": 0,
              "ticks": ""
             }
            },
            "type": "parcoords"
           }
          ],
          "pie": [
           {
            "automargin": true,
            "type": "pie"
           }
          ],
          "scatter": [
           {
            "fillpattern": {
             "fillmode": "overlay",
             "size": 10,
             "solidity": 0.2
            },
            "type": "scatter"
           }
          ],
          "scatter3d": [
           {
            "line": {
             "colorbar": {
              "outlinewidth": 0,
              "ticks": ""
             }
            },
            "marker": {
             "colorbar": {
              "outlinewidth": 0,
              "ticks": ""
             }
            },
            "type": "scatter3d"
           }
          ],
          "scattercarpet": [
           {
            "marker": {
             "colorbar": {
              "outlinewidth": 0,
              "ticks": ""
             }
            },
            "type": "scattercarpet"
           }
          ],
          "scattergeo": [
           {
            "marker": {
             "colorbar": {
              "outlinewidth": 0,
              "ticks": ""
             }
            },
            "type": "scattergeo"
           }
          ],
          "scattergl": [
           {
            "marker": {
             "colorbar": {
              "outlinewidth": 0,
              "ticks": ""
             }
            },
            "type": "scattergl"
           }
          ],
          "scattermapbox": [
           {
            "marker": {
             "colorbar": {
              "outlinewidth": 0,
              "ticks": ""
             }
            },
            "type": "scattermapbox"
           }
          ],
          "scatterpolar": [
           {
            "marker": {
             "colorbar": {
              "outlinewidth": 0,
              "ticks": ""
             }
            },
            "type": "scatterpolar"
           }
          ],
          "scatterpolargl": [
           {
            "marker": {
             "colorbar": {
              "outlinewidth": 0,
              "ticks": ""
             }
            },
            "type": "scatterpolargl"
           }
          ],
          "scatterternary": [
           {
            "marker": {
             "colorbar": {
              "outlinewidth": 0,
              "ticks": ""
             }
            },
            "type": "scatterternary"
           }
          ],
          "surface": [
           {
            "colorbar": {
             "outlinewidth": 0,
             "ticks": ""
            },
            "colorscale": [
             [
              0,
              "#0d0887"
             ],
             [
              0.1111111111111111,
              "#46039f"
             ],
             [
              0.2222222222222222,
              "#7201a8"
             ],
             [
              0.3333333333333333,
              "#9c179e"
             ],
             [
              0.4444444444444444,
              "#bd3786"
             ],
             [
              0.5555555555555556,
              "#d8576b"
             ],
             [
              0.6666666666666666,
              "#ed7953"
             ],
             [
              0.7777777777777778,
              "#fb9f3a"
             ],
             [
              0.8888888888888888,
              "#fdca26"
             ],
             [
              1,
              "#f0f921"
             ]
            ],
            "type": "surface"
           }
          ],
          "table": [
           {
            "cells": {
             "fill": {
              "color": "#EBF0F8"
             },
             "line": {
              "color": "white"
             }
            },
            "header": {
             "fill": {
              "color": "#C8D4E3"
             },
             "line": {
              "color": "white"
             }
            },
            "type": "table"
           }
          ]
         },
         "layout": {
          "annotationdefaults": {
           "arrowcolor": "#2a3f5f",
           "arrowhead": 0,
           "arrowwidth": 1
          },
          "autotypenumbers": "strict",
          "coloraxis": {
           "colorbar": {
            "outlinewidth": 0,
            "ticks": ""
           }
          },
          "colorscale": {
           "diverging": [
            [
             0,
             "#8e0152"
            ],
            [
             0.1,
             "#c51b7d"
            ],
            [
             0.2,
             "#de77ae"
            ],
            [
             0.3,
             "#f1b6da"
            ],
            [
             0.4,
             "#fde0ef"
            ],
            [
             0.5,
             "#f7f7f7"
            ],
            [
             0.6,
             "#e6f5d0"
            ],
            [
             0.7,
             "#b8e186"
            ],
            [
             0.8,
             "#7fbc41"
            ],
            [
             0.9,
             "#4d9221"
            ],
            [
             1,
             "#276419"
            ]
           ],
           "sequential": [
            [
             0,
             "#0d0887"
            ],
            [
             0.1111111111111111,
             "#46039f"
            ],
            [
             0.2222222222222222,
             "#7201a8"
            ],
            [
             0.3333333333333333,
             "#9c179e"
            ],
            [
             0.4444444444444444,
             "#bd3786"
            ],
            [
             0.5555555555555556,
             "#d8576b"
            ],
            [
             0.6666666666666666,
             "#ed7953"
            ],
            [
             0.7777777777777778,
             "#fb9f3a"
            ],
            [
             0.8888888888888888,
             "#fdca26"
            ],
            [
             1,
             "#f0f921"
            ]
           ],
           "sequentialminus": [
            [
             0,
             "#0d0887"
            ],
            [
             0.1111111111111111,
             "#46039f"
            ],
            [
             0.2222222222222222,
             "#7201a8"
            ],
            [
             0.3333333333333333,
             "#9c179e"
            ],
            [
             0.4444444444444444,
             "#bd3786"
            ],
            [
             0.5555555555555556,
             "#d8576b"
            ],
            [
             0.6666666666666666,
             "#ed7953"
            ],
            [
             0.7777777777777778,
             "#fb9f3a"
            ],
            [
             0.8888888888888888,
             "#fdca26"
            ],
            [
             1,
             "#f0f921"
            ]
           ]
          },
          "colorway": [
           "#636efa",
           "#EF553B",
           "#00cc96",
           "#ab63fa",
           "#FFA15A",
           "#19d3f3",
           "#FF6692",
           "#B6E880",
           "#FF97FF",
           "#FECB52"
          ],
          "font": {
           "color": "#2a3f5f"
          },
          "geo": {
           "bgcolor": "white",
           "lakecolor": "white",
           "landcolor": "#E5ECF6",
           "showlakes": true,
           "showland": true,
           "subunitcolor": "white"
          },
          "hoverlabel": {
           "align": "left"
          },
          "hovermode": "closest",
          "mapbox": {
           "style": "light"
          },
          "paper_bgcolor": "white",
          "plot_bgcolor": "#E5ECF6",
          "polar": {
           "angularaxis": {
            "gridcolor": "white",
            "linecolor": "white",
            "ticks": ""
           },
           "bgcolor": "#E5ECF6",
           "radialaxis": {
            "gridcolor": "white",
            "linecolor": "white",
            "ticks": ""
           }
          },
          "scene": {
           "xaxis": {
            "backgroundcolor": "#E5ECF6",
            "gridcolor": "white",
            "gridwidth": 2,
            "linecolor": "white",
            "showbackground": true,
            "ticks": "",
            "zerolinecolor": "white"
           },
           "yaxis": {
            "backgroundcolor": "#E5ECF6",
            "gridcolor": "white",
            "gridwidth": 2,
            "linecolor": "white",
            "showbackground": true,
            "ticks": "",
            "zerolinecolor": "white"
           },
           "zaxis": {
            "backgroundcolor": "#E5ECF6",
            "gridcolor": "white",
            "gridwidth": 2,
            "linecolor": "white",
            "showbackground": true,
            "ticks": "",
            "zerolinecolor": "white"
           }
          },
          "shapedefaults": {
           "line": {
            "color": "#2a3f5f"
           }
          },
          "ternary": {
           "aaxis": {
            "gridcolor": "white",
            "linecolor": "white",
            "ticks": ""
           },
           "baxis": {
            "gridcolor": "white",
            "linecolor": "white",
            "ticks": ""
           },
           "bgcolor": "#E5ECF6",
           "caxis": {
            "gridcolor": "white",
            "linecolor": "white",
            "ticks": ""
           }
          },
          "title": {
           "x": 0.05
          },
          "xaxis": {
           "automargin": true,
           "gridcolor": "white",
           "linecolor": "white",
           "ticks": "",
           "title": {
            "standoff": 15
           },
           "zerolinecolor": "white",
           "zerolinewidth": 2
          },
          "yaxis": {
           "automargin": true,
           "gridcolor": "white",
           "linecolor": "white",
           "ticks": "",
           "title": {
            "standoff": 15
           },
           "zerolinecolor": "white",
           "zerolinewidth": 2
          }
         }
        },
        "xaxis": {
         "anchor": "y",
         "domain": [
          0,
          1
         ],
         "title": {
          "text": "x"
         }
        },
        "yaxis": {
         "anchor": "x",
         "domain": [
          0,
          1
         ],
         "title": {
          "text": "y"
         }
        }
       }
      }
     },
     "metadata": {},
     "output_type": "display_data"
    }
   ],
   "source": [
    "px.scatter(fit_df, x=\"x\", y=\"y\", text = \"cities\", hover_name=\"cities\")"
   ]
  },
  {
   "cell_type": "code",
   "execution_count": null,
   "id": "7fa318d0",
   "metadata": {
    "jupyter": {
     "source_hidden": true
    }
   },
   "outputs": [],
   "source": [
    "# - MDS algorithm is used to reduce the dimensionality of the data, by finding a lower-dimensional representation of the data that preserves the distances between the data points as well as possible."
   ]
  }
 ],
 "metadata": {
  "kernelspec": {
   "display_name": "Python 3 (ipykernel)",
   "language": "python",
   "name": "python3"
  },
  "language_info": {
   "codemirror_mode": {
    "name": "ipython",
    "version": 3
   },
   "file_extension": ".py",
   "mimetype": "text/x-python",
   "name": "python",
   "nbconvert_exporter": "python",
   "pygments_lexer": "ipython3",
   "version": "3.11.4"
  }
 },
 "nbformat": 4,
 "nbformat_minor": 5
}
