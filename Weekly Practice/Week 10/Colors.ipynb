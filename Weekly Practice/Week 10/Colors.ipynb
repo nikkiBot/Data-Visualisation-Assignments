{
 "cells": [
  {
   "cell_type": "markdown",
   "id": "d052af27",
   "metadata": {},
   "source": [
    "# Colors"
   ]
  },
  {
   "cell_type": "markdown",
   "id": "95896231",
   "metadata": {},
   "source": [
    "- qualitative palettes: for representing categorical data\n",
    "- sequential palettes: for representing numeric data\n",
    "- diverging palettes: for representing numeric data that vary from a reference value\n",
    "\n",
    "References: \n",
    "- Plotly: https://plotly.com/python-api-reference/generated/plotly.colors.html\n",
    "- Seabon: https://seaborn.pydata.org/tutorial/color_palettes.htmls.htmlhtml"
   ]
  },
  {
   "cell_type": "code",
   "execution_count": null,
   "id": "3ddfee29",
   "metadata": {
    "jupyter": {
     "source_hidden": true
    }
   },
   "outputs": [],
   "source": [
    "import pandas as pd\n",
    "import plotly.express as px\n",
    "df = px.data.tips()\n",
    "#print(df.info())\n",
    "df.head()"
   ]
  },
  {
   "cell_type": "code",
   "execution_count": null,
   "id": "106eb0f4-05e0-438e-851c-9cc2b5c18450",
   "metadata": {
    "jupyter": {
     "source_hidden": true
    }
   },
   "outputs": [],
   "source": [
    "'''\n",
    "dir(px.colors.sequential)\n",
    "dir(px.colors.qualitative)\n",
    "dir(px.colors.diverging)\n",
    "Templates configuration\n",
    "-----------------------\n",
    "    Default template: 'plotly'\n",
    "    Available templates:\n",
    "        ['ggplot2', 'seaborn', 'simple_white', 'plotly',\n",
    "         'plotly_white', 'plotly_dark', 'presentation', 'xgridoff',\n",
    "         'ygridoff', 'gridon', 'none']\n",
    "'''"
   ]
  },
  {
   "cell_type": "code",
   "execution_count": null,
   "id": "6eb2d3a8",
   "metadata": {
    "jupyter": {
     "source_hidden": true
    }
   },
   "outputs": [],
   "source": []
  },
  {
   "cell_type": "code",
   "execution_count": null,
   "id": "fc14d4aa-2fd8-441d-82bf-49bee9cdf986",
   "metadata": {
    "jupyter": {
     "source_hidden": true
    }
   },
   "outputs": [],
   "source": []
  },
  {
   "cell_type": "code",
   "execution_count": null,
   "id": "02ba673f-f335-483b-9be5-a22919135c42",
   "metadata": {
    "jupyter": {
     "source_hidden": true
    }
   },
   "outputs": [],
   "source": [
    "df = px.data.tips()\n",
    "df.head()"
   ]
  },
  {
   "cell_type": "code",
   "execution_count": null,
   "id": "045a2c9a-7e8e-4122-b5a5-e6ee2c350baa",
   "metadata": {
    "jupyter": {
     "source_hidden": true
    }
   },
   "outputs": [],
   "source": [
    "px.strip(df, y=\"total_bill\", x=\"day\", color=\"day\", width = 600, height = 500)"
   ]
  },
  {
   "cell_type": "markdown",
   "id": "031d0f0f-a453-418a-95f9-36e043143d8b",
   "metadata": {},
   "source": [
    "### Setting Qualitative Colors"
   ]
  },
  {
   "cell_type": "code",
   "execution_count": null,
   "id": "02e4d0a9-e4b5-4e25-a397-73aa16b99a9e",
   "metadata": {
    "jupyter": {
     "source_hidden": true
    }
   },
   "outputs": [],
   "source": [
    "plotly.colors.qualitative.swatches()"
   ]
  },
  {
   "cell_type": "code",
   "execution_count": null,
   "id": "9829ba57-bd3b-4f41-baac-82ca385ea860",
   "metadata": {
    "jupyter": {
     "source_hidden": true
    }
   },
   "outputs": [],
   "source": [
    "px.strip(df, y=\"total_bill\", x=\"day\", color=\"day\", width = 600, height = 500,color_discrete_sequence= px.colors.qualitative.Dark2)"
   ]
  },
  {
   "cell_type": "code",
   "execution_count": null,
   "id": "74bdd027-e345-4153-bc34-6b5373d723da",
   "metadata": {
    "jupyter": {
     "source_hidden": true
    }
   },
   "outputs": [],
   "source": [
    "import seaborn as sns\n",
    "sns.color_palette(\"dark\")"
   ]
  },
  {
   "cell_type": "code",
   "execution_count": null,
   "id": "72d6df63-fbdd-40c3-9d18-8159c9fda437",
   "metadata": {
    "jupyter": {
     "source_hidden": true
    }
   },
   "outputs": [],
   "source": [
    "sns.catplot(x=\"day\", y=\"total_bill\", data=df,  hue = \"day\", palette=sns.color_palette(\"dark\"))"
   ]
  },
  {
   "cell_type": "code",
   "execution_count": null,
   "id": "87f1e481-22e2-4a49-a15c-845b0191fa8e",
   "metadata": {
    "jupyter": {
     "source_hidden": true
    }
   },
   "outputs": [],
   "source": [
    "L = list(sns.color_palette(\"dark\"))\n",
    "sns.catplot(x=\"day\", y=\"total_bill\", data=df,  hue = \"day\", palette=L[0:4])"
   ]
  },
  {
   "cell_type": "code",
   "execution_count": null,
   "id": "6ef2fa82",
   "metadata": {
    "jupyter": {
     "source_hidden": true
    }
   },
   "outputs": [],
   "source": [
    "fig = px.scatter(df, x=\"total_bill\", y=\"tip\", color=\"smoker\",\n",
    "                 title=\"String 'smoker' values mean discrete colors\",\n",
    "                 color_discrete_sequence= px.colors.qualitative.Antique,\n",
    "                 width = 800, height = 500\n",
    "                )\n",
    "\n",
    "fig.show()"
   ]
  },
  {
   "cell_type": "code",
   "execution_count": null,
   "id": "ecc1a97d-cffb-4701-8e85-8934a2d86d86",
   "metadata": {
    "jupyter": {
     "source_hidden": true
    }
   },
   "outputs": [],
   "source": [
    "df = px.data.iris()\n",
    "fig = px.scatter(df, x='sepal_length', y='sepal_width',\n",
    "              color='species', color_discrete_map={'setosa': 'red', \n",
    "                                                   'versicolor': 'blue', 'virginica': 'green'},\n",
    "                width=600, height=500)\n",
    "fig.show()"
   ]
  },
  {
   "cell_type": "markdown",
   "id": "165dda7c-e6bd-4a99-9d37-e935cea71334",
   "metadata": {},
   "source": [
    "### Choosing Sequantial palette"
   ]
  },
  {
   "cell_type": "code",
   "execution_count": null,
   "id": "abe1fcc9-bc3e-44f4-b0c8-a17ca9fda41c",
   "metadata": {
    "jupyter": {
     "source_hidden": true
    }
   },
   "outputs": [],
   "source": [
    "df = px.data.tips()\n",
    "px.scatter(df, x=\"total_bill\", y=\"tip\", color=\"total_bill\",\n",
    "          width=600, height=500)"
   ]
  },
  {
   "cell_type": "code",
   "execution_count": null,
   "id": "27761b25-163e-4451-a5b0-45923eb62660",
   "metadata": {
    "jupyter": {
     "source_hidden": true
    }
   },
   "outputs": [],
   "source": [
    "plotly.colors.sequential.swatches(template=None)"
   ]
  },
  {
   "cell_type": "code",
   "execution_count": null,
   "id": "4fabffb0",
   "metadata": {
    "jupyter": {
     "source_hidden": true
    }
   },
   "outputs": [],
   "source": [
    "df = px.data.tips()\n",
    "fig = px.scatter(df, x=\"total_bill\", y=\"tip\", color=\"total_bill\",\n",
    "                 title=\"String 'smoker' values mean continous colors\",\n",
    "                 color_continuous_scale=px.colors.sequential.BuGn,\n",
    "                 width = 600, height = 500\n",
    "                )\n",
    "fig.show()"
   ]
  },
  {
   "cell_type": "markdown",
   "id": "cfd6bf3a-e029-4ac2-a6c8-6bf7c96e5c62",
   "metadata": {},
   "source": [
    "### Choosing Diverging Color palette"
   ]
  },
  {
   "cell_type": "code",
   "execution_count": null,
   "id": "ec647dd5-6e13-418b-9651-601bbb6435d1",
   "metadata": {
    "jupyter": {
     "source_hidden": true
    }
   },
   "outputs": [],
   "source": [
    "mpg_df = pd.read_csv(\"https://raw.githubusercontent.com/plotly/datasets/master/mpg.csv\")"
   ]
  },
  {
   "cell_type": "code",
   "execution_count": null,
   "id": "e7b966d7-1f93-4271-87cb-d6a263b5a9af",
   "metadata": {
    "jupyter": {
     "source_hidden": true
    }
   },
   "outputs": [],
   "source": [
    "corr_df = mpg_df.corr()"
   ]
  },
  {
   "cell_type": "code",
   "execution_count": null,
   "id": "9d0b155e-d252-46ee-b0c9-36fc4ddec480",
   "metadata": {
    "jupyter": {
     "source_hidden": true
    }
   },
   "outputs": [],
   "source": [
    "corr_df"
   ]
  },
  {
   "cell_type": "code",
   "execution_count": null,
   "id": "2bccc3f9-924c-48a4-90bf-30117cc3420a",
   "metadata": {
    "jupyter": {
     "source_hidden": true
    }
   },
   "outputs": [],
   "source": [
    "px.imshow(corr_df, height = 600)"
   ]
  },
  {
   "cell_type": "code",
   "execution_count": null,
   "id": "d9696641-3e44-454d-8d13-4bcc3b05967a",
   "metadata": {
    "jupyter": {
     "source_hidden": true
    }
   },
   "outputs": [],
   "source": [
    "plotly.colors.diverging.swatches(template=None)"
   ]
  },
  {
   "cell_type": "code",
   "execution_count": null,
   "id": "22f100f6-2cbb-443f-86cf-559a52168ec2",
   "metadata": {
    "jupyter": {
     "source_hidden": true
    }
   },
   "outputs": [],
   "source": [
    "px.imshow(corr_df, \n",
    "          color_continuous_scale=px.colors.diverging.Picnic_r,           \n",
    "          color_continuous_midpoint=0,\n",
    "          height = 500, width = 600\n",
    "         )"
   ]
  },
  {
   "cell_type": "code",
   "execution_count": null,
   "id": "9d1c62f2-ac47-4474-831a-a993ef0d9d6b",
   "metadata": {
    "jupyter": {
     "source_hidden": true
    }
   },
   "outputs": [],
   "source": []
  }
 ],
 "metadata": {
  "kernelspec": {
   "display_name": "Python 3 (ipykernel)",
   "language": "python",
   "name": "python3"
  },
  "language_info": {
   "codemirror_mode": {
    "name": "ipython",
    "version": 3
   },
   "file_extension": ".py",
   "mimetype": "text/x-python",
   "name": "python",
   "nbconvert_exporter": "python",
   "pygments_lexer": "ipython3",
   "version": "3.11.4"
  }
 },
 "nbformat": 4,
 "nbformat_minor": 5
}
