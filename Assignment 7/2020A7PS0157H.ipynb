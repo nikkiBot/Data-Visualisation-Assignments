{
 "cells": [
  {
   "cell_type": "code",
   "execution_count": 14,
   "metadata": {},
   "outputs": [],
   "source": [
    "import numpy as np\n",
    "import pandas as pd\n",
    "import matplotlib.pyplot as plt\n",
    "import seaborn as sns\n",
    "import math\n",
    "import random\n",
    "import os \n",
    "import sys\n",
    "import warnings\n",
    "import requests\n",
    "# from requests.adapters import HTTPAdapter\n",
    "# from requests.packages.urllib3.util.retry import Retry\n",
    "import plotly.express as px\n",
    "from datetime import datetime\n",
    "from sklearn.manifold import MDS\n",
    "import numpy.linalg as LA\n",
    "# from sklearn.decomposition import PCA\n",
    "# from sklearn.cluster import KMeans"
   ]
  },
  {
   "cell_type": "markdown",
   "metadata": {},
   "source": [
    "## Data Preparation:"
   ]
  },
  {
   "cell_type": "code",
   "execution_count": 15,
   "metadata": {},
   "outputs": [
    {
     "data": {
      "text/html": [
       "<div>\n",
       "<style scoped>\n",
       "    .dataframe tbody tr th:only-of-type {\n",
       "        vertical-align: middle;\n",
       "    }\n",
       "\n",
       "    .dataframe tbody tr th {\n",
       "        vertical-align: top;\n",
       "    }\n",
       "\n",
       "    .dataframe thead th {\n",
       "        text-align: right;\n",
       "    }\n",
       "</style>\n",
       "<table border=\"1\" class=\"dataframe\">\n",
       "  <thead>\n",
       "    <tr style=\"text-align: right;\">\n",
       "      <th></th>\n",
       "      <th>City</th>\n",
       "      <th>Latitude</th>\n",
       "      <th>Longitude</th>\n",
       "      <th>admin_name</th>\n",
       "      <th>population</th>\n",
       "    </tr>\n",
       "  </thead>\n",
       "  <tbody>\n",
       "    <tr>\n",
       "      <th>0</th>\n",
       "      <td>Delhi</td>\n",
       "      <td>28.6100</td>\n",
       "      <td>77.2300</td>\n",
       "      <td>Delhi</td>\n",
       "      <td>32226000</td>\n",
       "    </tr>\n",
       "    <tr>\n",
       "      <th>1</th>\n",
       "      <td>Mumbai</td>\n",
       "      <td>19.0761</td>\n",
       "      <td>72.8775</td>\n",
       "      <td>Mahārāshtra</td>\n",
       "      <td>24973000</td>\n",
       "    </tr>\n",
       "    <tr>\n",
       "      <th>2</th>\n",
       "      <td>Kolkāta</td>\n",
       "      <td>22.5675</td>\n",
       "      <td>88.3700</td>\n",
       "      <td>West Bengal</td>\n",
       "      <td>18502000</td>\n",
       "    </tr>\n",
       "    <tr>\n",
       "      <th>3</th>\n",
       "      <td>Bangalore</td>\n",
       "      <td>12.9789</td>\n",
       "      <td>77.5917</td>\n",
       "      <td>Karnātaka</td>\n",
       "      <td>15386000</td>\n",
       "    </tr>\n",
       "    <tr>\n",
       "      <th>4</th>\n",
       "      <td>Chennai</td>\n",
       "      <td>13.0825</td>\n",
       "      <td>80.2750</td>\n",
       "      <td>Tamil Nādu</td>\n",
       "      <td>12395000</td>\n",
       "    </tr>\n",
       "    <tr>\n",
       "      <th>...</th>\n",
       "      <td>...</td>\n",
       "      <td>...</td>\n",
       "      <td>...</td>\n",
       "      <td>...</td>\n",
       "      <td>...</td>\n",
       "    </tr>\n",
       "    <tr>\n",
       "      <th>145</th>\n",
       "      <td>Bendravādi</td>\n",
       "      <td>12.3636</td>\n",
       "      <td>76.9137</td>\n",
       "      <td>Karnātaka</td>\n",
       "      <td>2684</td>\n",
       "    </tr>\n",
       "    <tr>\n",
       "      <th>146</th>\n",
       "      <td>Kodagihalli</td>\n",
       "      <td>12.9771</td>\n",
       "      <td>77.4651</td>\n",
       "      <td>Karnātaka</td>\n",
       "      <td>2585</td>\n",
       "    </tr>\n",
       "    <tr>\n",
       "      <th>147</th>\n",
       "      <td>Harna Buzurg</td>\n",
       "      <td>25.0981</td>\n",
       "      <td>87.0148</td>\n",
       "      <td>Bihār</td>\n",
       "      <td>2579</td>\n",
       "    </tr>\n",
       "    <tr>\n",
       "      <th>148</th>\n",
       "      <td>Mailanhalli</td>\n",
       "      <td>13.1863</td>\n",
       "      <td>77.6963</td>\n",
       "      <td>Karnātaka</td>\n",
       "      <td>2543</td>\n",
       "    </tr>\n",
       "    <tr>\n",
       "      <th>149</th>\n",
       "      <td>Sultānpur</td>\n",
       "      <td>25.5248</td>\n",
       "      <td>85.2507</td>\n",
       "      <td>Bihār</td>\n",
       "      <td>2473</td>\n",
       "    </tr>\n",
       "  </tbody>\n",
       "</table>\n",
       "<p>150 rows × 5 columns</p>\n",
       "</div>"
      ],
      "text/plain": [
       "             City  Latitude  Longitude   admin_name  population\n",
       "0           Delhi   28.6100    77.2300        Delhi    32226000\n",
       "1          Mumbai   19.0761    72.8775  Mahārāshtra    24973000\n",
       "2         Kolkāta   22.5675    88.3700  West Bengal    18502000\n",
       "3       Bangalore   12.9789    77.5917    Karnātaka    15386000\n",
       "4         Chennai   13.0825    80.2750   Tamil Nādu    12395000\n",
       "..            ...       ...        ...          ...         ...\n",
       "145    Bendravādi   12.3636    76.9137    Karnātaka        2684\n",
       "146   Kodagihalli   12.9771    77.4651    Karnātaka        2585\n",
       "147  Harna Buzurg   25.0981    87.0148        Bihār        2579\n",
       "148   Mailanhalli   13.1863    77.6963    Karnātaka        2543\n",
       "149     Sultānpur   25.5248    85.2507        Bihār        2473\n",
       "\n",
       "[150 rows x 5 columns]"
      ]
     },
     "execution_count": 15,
     "metadata": {},
     "output_type": "execute_result"
    }
   ],
   "source": [
    "# Read latitude-longitude of a few (150) Indian cities from the database \"in.csv\"\n",
    "\n",
    "df = pd.read_csv(\"in.csv\")\n",
    "df = df.reset_index(drop=True)\n",
    "df = df.drop(columns=['country', 'iso2', 'capital', 'population_proper'])\n",
    "df = df.rename(columns={\"city\": \"City\", \"lat\": \"Latitude\", \"lng\": \"Longitude\"})\n",
    "# df.head()\n",
    "df\n"
   ]
  },
  {
   "cell_type": "code",
   "execution_count": 16,
   "metadata": {},
   "outputs": [
    {
     "data": {
      "text/plain": [
       "array([[   0.        , 1144.95153567, 1303.04795267, ..., 1046.93018092,\n",
       "        1708.40620445,  865.67109989],\n",
       "       [1144.95153567,    0.        , 1657.3905591 , ..., 1602.73177095,\n",
       "         830.76988684, 1460.13749669],\n",
       "       [1303.04795267, 1657.3905591 ,    0.        , ...,  312.43400526,\n",
       "        1534.13907742,  455.97696347],\n",
       "       ...,\n",
       "       [1046.93018092, 1602.73177095,  312.43400526, ...,    0.        ,\n",
       "        1641.58724484,  183.81419177],\n",
       "       [1708.40620445,  830.76988684, 1534.13907742, ..., 1641.58724484,\n",
       "           0.        , 1578.65243791],\n",
       "       [ 865.67109989, 1460.13749669,  455.97696347, ...,  183.81419177,\n",
       "        1578.65243791,    0.        ]])"
      ]
     },
     "execution_count": 16,
     "metadata": {},
     "output_type": "execute_result"
    }
   ],
   "source": [
    "from geopy import distance\n",
    "\n",
    "# Distance Matrix\n",
    "Dist = np.zeros((150,150))\n",
    "for i in range(150):\n",
    "    for j in range(150):\n",
    "        Dist[i][j] = distance.distance((df['Latitude'][i],df['Longitude'][i]),(df['Latitude'][j],df['Longitude'][j])).km\n",
    "Dist"
   ]
  },
  {
   "cell_type": "code",
   "execution_count": 17,
   "metadata": {},
   "outputs": [
    {
     "data": {
      "text/html": [
       "<div>\n",
       "<style scoped>\n",
       "    .dataframe tbody tr th:only-of-type {\n",
       "        vertical-align: middle;\n",
       "    }\n",
       "\n",
       "    .dataframe tbody tr th {\n",
       "        vertical-align: top;\n",
       "    }\n",
       "\n",
       "    .dataframe thead th {\n",
       "        text-align: right;\n",
       "    }\n",
       "</style>\n",
       "<table border=\"1\" class=\"dataframe\">\n",
       "  <thead>\n",
       "    <tr style=\"text-align: right;\">\n",
       "      <th></th>\n",
       "      <th>City</th>\n",
       "      <th>Latitude</th>\n",
       "      <th>Longitude</th>\n",
       "      <th>admin_name</th>\n",
       "      <th>population</th>\n",
       "      <th>Zone</th>\n",
       "    </tr>\n",
       "  </thead>\n",
       "  <tbody>\n",
       "    <tr>\n",
       "      <th>0</th>\n",
       "      <td>Delhi</td>\n",
       "      <td>28.6100</td>\n",
       "      <td>77.2300</td>\n",
       "      <td>Delhi</td>\n",
       "      <td>32226000</td>\n",
       "      <td>North</td>\n",
       "    </tr>\n",
       "    <tr>\n",
       "      <th>1</th>\n",
       "      <td>Mumbai</td>\n",
       "      <td>19.0761</td>\n",
       "      <td>72.8775</td>\n",
       "      <td>Mahārāshtra</td>\n",
       "      <td>24973000</td>\n",
       "      <td>West</td>\n",
       "    </tr>\n",
       "    <tr>\n",
       "      <th>2</th>\n",
       "      <td>Kolkāta</td>\n",
       "      <td>22.5675</td>\n",
       "      <td>88.3700</td>\n",
       "      <td>West Bengal</td>\n",
       "      <td>18502000</td>\n",
       "      <td>East</td>\n",
       "    </tr>\n",
       "    <tr>\n",
       "      <th>3</th>\n",
       "      <td>Bangalore</td>\n",
       "      <td>12.9789</td>\n",
       "      <td>77.5917</td>\n",
       "      <td>Karnātaka</td>\n",
       "      <td>15386000</td>\n",
       "      <td>South</td>\n",
       "    </tr>\n",
       "    <tr>\n",
       "      <th>4</th>\n",
       "      <td>Chennai</td>\n",
       "      <td>13.0825</td>\n",
       "      <td>80.2750</td>\n",
       "      <td>Tamil Nādu</td>\n",
       "      <td>12395000</td>\n",
       "      <td>South</td>\n",
       "    </tr>\n",
       "    <tr>\n",
       "      <th>...</th>\n",
       "      <td>...</td>\n",
       "      <td>...</td>\n",
       "      <td>...</td>\n",
       "      <td>...</td>\n",
       "      <td>...</td>\n",
       "      <td>...</td>\n",
       "    </tr>\n",
       "    <tr>\n",
       "      <th>145</th>\n",
       "      <td>Bendravādi</td>\n",
       "      <td>12.3636</td>\n",
       "      <td>76.9137</td>\n",
       "      <td>Karnātaka</td>\n",
       "      <td>2684</td>\n",
       "      <td>South</td>\n",
       "    </tr>\n",
       "    <tr>\n",
       "      <th>146</th>\n",
       "      <td>Kodagihalli</td>\n",
       "      <td>12.9771</td>\n",
       "      <td>77.4651</td>\n",
       "      <td>Karnātaka</td>\n",
       "      <td>2585</td>\n",
       "      <td>South</td>\n",
       "    </tr>\n",
       "    <tr>\n",
       "      <th>147</th>\n",
       "      <td>Harna Buzurg</td>\n",
       "      <td>25.0981</td>\n",
       "      <td>87.0148</td>\n",
       "      <td>Bihār</td>\n",
       "      <td>2579</td>\n",
       "      <td>East</td>\n",
       "    </tr>\n",
       "    <tr>\n",
       "      <th>148</th>\n",
       "      <td>Mailanhalli</td>\n",
       "      <td>13.1863</td>\n",
       "      <td>77.6963</td>\n",
       "      <td>Karnātaka</td>\n",
       "      <td>2543</td>\n",
       "      <td>South</td>\n",
       "    </tr>\n",
       "    <tr>\n",
       "      <th>149</th>\n",
       "      <td>Sultānpur</td>\n",
       "      <td>25.5248</td>\n",
       "      <td>85.2507</td>\n",
       "      <td>Bihār</td>\n",
       "      <td>2473</td>\n",
       "      <td>East</td>\n",
       "    </tr>\n",
       "  </tbody>\n",
       "</table>\n",
       "<p>150 rows × 6 columns</p>\n",
       "</div>"
      ],
      "text/plain": [
       "             City  Latitude  Longitude   admin_name  population   Zone\n",
       "0           Delhi   28.6100    77.2300        Delhi    32226000  North\n",
       "1          Mumbai   19.0761    72.8775  Mahārāshtra    24973000   West\n",
       "2         Kolkāta   22.5675    88.3700  West Bengal    18502000   East\n",
       "3       Bangalore   12.9789    77.5917    Karnātaka    15386000  South\n",
       "4         Chennai   13.0825    80.2750   Tamil Nādu    12395000  South\n",
       "..            ...       ...        ...          ...         ...    ...\n",
       "145    Bendravādi   12.3636    76.9137    Karnātaka        2684  South\n",
       "146   Kodagihalli   12.9771    77.4651    Karnātaka        2585  South\n",
       "147  Harna Buzurg   25.0981    87.0148        Bihār        2579   East\n",
       "148   Mailanhalli   13.1863    77.6963    Karnātaka        2543  South\n",
       "149     Sultānpur   25.5248    85.2507        Bihār        2473   East\n",
       "\n",
       "[150 rows x 6 columns]"
      ]
     },
     "execution_count": 17,
     "metadata": {},
     "output_type": "execute_result"
    }
   ],
   "source": [
    "# Assigning zones\n",
    "\n",
    "zones = {    \"North\": ['Delhi', 'Himāchal Pradesh', 'Punjab', 'Uttar Pradesh',  'Haryāna', 'Jammu and Kashmīr', 'Chandīgarh'],\n",
    "    \"East\": ['Bihār', 'Odisha', 'Jhārkhand', 'West Bengal'],\n",
    "    \"West\": ['Rājasthān' , 'Gujarāt', 'Goa', 'Mahārāshtra'],\n",
    "    \"South\": ['Andhra Pradesh', 'Telangāna', 'Karnātaka', 'Kerala', 'Tamil Nādu', 'Puducherry'],\n",
    "    \"Central\": ['Madhya Pradesh', 'Chhattīsgarh'],\n",
    "    \"North East\": ['Assam']\n",
    "}\n",
    "\n",
    "df['Zone'] = df['admin_name'].map(lambda x: [k for k,v in zones.items() if x in v][0])\n",
    "df\n"
   ]
  },
  {
   "cell_type": "markdown",
   "metadata": {},
   "source": [
    "## MDS Implementation:"
   ]
  },
  {
   "cell_type": "code",
   "execution_count": 18,
   "metadata": {},
   "outputs": [
    {
     "name": "stderr",
     "output_type": "stream",
     "text": [
      "c:\\Users\\nishi\\AppData\\Local\\Programs\\Python\\Python311\\Lib\\site-packages\\sklearn\\manifold\\_mds.py:298: FutureWarning: The default value of `normalized_stress` will change to `'auto'` in version 1.4. To suppress this warning, manually set the value of `normalized_stress`.\n",
      "  warnings.warn(\n"
     ]
    },
    {
     "data": {
      "text/plain": [
       "array([[ -848.63359039,   371.12169091],\n",
       "       [  183.85670482,   870.17939916],\n",
       "       [ -177.63364635,  -746.0630776 ],\n",
       "       [  881.9036325 ,   396.89524137],\n",
       "       [  877.83367317,   105.05183402],\n",
       "       [  397.81094898,   286.44030401],\n",
       "       [  251.53124692,   770.96183211],\n",
       "       [ -256.08976243,   872.08582404],\n",
       "       [  -48.38427732,   860.2872392 ],\n",
       "       [ -486.93005644,   -78.57867529],\n",
       "       [ -644.39863727,     9.32873556],\n",
       "       [ -665.65100345,   521.28542962],\n",
       "       [ -601.06956939,    71.67583244],\n",
       "       [ -454.45163917,  -151.18225419],\n",
       "       [  -17.06185335,   212.77954802],\n",
       "       [ -854.55603378,   352.23081783],\n",
       "       [ -171.10030549,   814.13555359],\n",
       "       [  370.18868391,  -225.51605028],\n",
       "       [ -202.49055742,   540.09358624],\n",
       "       [  171.06435666,   859.43905437],\n",
       "       [ -254.87521743,   376.8379456 ],\n",
       "       [  240.33304285,   775.93429578],\n",
       "       [ -505.99623989,  -405.6213715 ],\n",
       "       [ -115.96067696,  -106.81993529],\n",
       "       [-1109.89000884,   490.74300095],\n",
       "       [ -687.59684038,   299.56336049],\n",
       "       [ -687.59684225,   299.56335743],\n",
       "       [ 1221.24428847,   347.77665775],\n",
       "       [ -196.62626699,  -521.22084827],\n",
       "       [   87.21335131,   769.77983264],\n",
       "       [ -826.97681587,   365.18291729],\n",
       "       [  108.9913352 ,   609.80993906],\n",
       "       [ -188.63661517,  1061.90779936],\n",
       "       [ -887.80374895,   322.46237104],\n",
       "       [ -238.3385205 ,   119.50791122],\n",
       "       [  168.10873372,   842.3280455 ],\n",
       "       [  139.71831467,   875.58261596],\n",
       "       [ -849.5237115 ,   395.63454763],\n",
       "       [ -473.53112635,  -195.94168624],\n",
       "       [-1467.34952881,   568.68339719],\n",
       "       [ -308.86388478,  -543.9777299 ],\n",
       "       [-1195.02853244,   581.8324595 ],\n",
       "       [ -764.86341523,   290.77578452],\n",
       "       [ -595.46603417, -1067.16734612],\n",
       "       [ -178.88033667,  -741.85087688],\n",
       "       [ -258.06918829,  -432.69503637],\n",
       "       [ -581.03370052,   287.64301493],\n",
       "       [-1087.38385968,   403.58793044],\n",
       "       [  498.85555103,    59.65996809],\n",
       "       [ -612.964968  ,   801.96696607],\n",
       "       [  -23.33007273,   -52.28971131],\n",
       "       [ -475.19142753,   528.2419015 ],\n",
       "       [ -841.7471714 ,   369.3294975 ],\n",
       "       [  159.98473087,   871.59688943],\n",
       "       [  874.08281931,   118.04463324],\n",
       "       [ -182.45105654,  -748.97765546],\n",
       "       [ -211.31645979,  -748.99867467],\n",
       "       [  386.53642309,   293.88703607],\n",
       "       [ -570.41099896,  -484.57843431],\n",
       "       [  874.15552258,   405.21320866],\n",
       "       [ -564.28067856,  -433.75825233],\n",
       "       [ 1001.02493088,   162.13761666],\n",
       "       [ -849.14534587,   373.16057235],\n",
       "       [  869.32781037,   102.16957181],\n",
       "       [ 1005.57252074,   157.52677928],\n",
       "       [  872.29741774,   396.54424991],\n",
       "       [  890.27453123,   118.9889375 ],\n",
       "       [  391.77473957,   285.03780587],\n",
       "       [-1124.85167064,   364.23690103],\n",
       "       [  134.66653349,  -490.72254806],\n",
       "       [ -197.76850538,  -742.29324055],\n",
       "       [ -215.58329188,  -747.48667061],\n",
       "       [ -210.84664996,  -744.65011802],\n",
       "       [ -859.00536748,   386.469316  ],\n",
       "       [ -270.40655552,  -756.09124362],\n",
       "       [ -199.47267807,  -746.09042947],\n",
       "       [ -862.76236253,   376.99772812],\n",
       "       [ -857.37644807,   386.75795497],\n",
       "       [  868.46877823,   395.97844957],\n",
       "       [ -196.76300781,  -745.40478726],\n",
       "       [ -183.62926618,  -750.99029761],\n",
       "       [ -222.369749  ,  -747.58660509],\n",
       "       [  870.4950488 ,   109.64774728],\n",
       "       [ -167.59776398,  -727.06768927],\n",
       "       [  879.59405538,   104.18355698],\n",
       "       [   57.10880332,  -550.78421877],\n",
       "       [ -304.91782528,  -517.26005338],\n",
       "       [  868.52304557,   105.77244164],\n",
       "       [ -184.49689682,  -743.77414073],\n",
       "       [ 1124.68599904,   277.31107687],\n",
       "       [  880.18097246,   408.19835935],\n",
       "       [  890.94930012,   113.61783173],\n",
       "       [ -506.69495118,  -413.99689307],\n",
       "       [ -182.00455711,  -735.64517017],\n",
       "       [  -54.29527061,  -601.43376016],\n",
       "       [  875.7467567 ,   401.24015309],\n",
       "       [  869.14465191,   106.80621934],\n",
       "       [ -499.36122328,  -424.22355709],\n",
       "       [ -156.47407176,  -771.1636894 ],\n",
       "       [  865.1796    ,   388.02749596],\n",
       "       [ -504.70016206,  -411.46740841],\n",
       "       [  863.82596305,   393.25699189],\n",
       "       [  863.80231214,   408.66019105],\n",
       "       [  997.30966246,   153.73574768],\n",
       "       [ 1133.42455639,   280.7525645 ],\n",
       "       [ -500.50780221,  -422.27512835],\n",
       "       [ -289.86599035,  -536.20100851],\n",
       "       [ -494.59349084,  -416.05968967],\n",
       "       [  872.20030155,   410.45752935],\n",
       "       [  861.07200675,   392.26908159],\n",
       "       [ -499.85586394,  -418.45714571],\n",
       "       [ -149.87248121,  -734.22672654],\n",
       "       [  870.29253283,   414.93008678],\n",
       "       [ -297.82093073,  -622.36634253],\n",
       "       [ -501.21105049,  -417.13896854],\n",
       "       [ -456.05488704,  -600.04393428],\n",
       "       [  878.75547826,   421.26913062],\n",
       "       [ -452.91494197,  -608.98571671],\n",
       "       [  873.34868475,   409.5148916 ],\n",
       "       [  879.38690708,   414.06831833],\n",
       "       [  893.57335436,   116.20425846],\n",
       "       [ -180.11813518,  -753.56632254],\n",
       "       [ -455.81805111,  -607.61085635],\n",
       "       [ -178.21806   ,  -757.81242101],\n",
       "       [  878.02576642,   391.72993873],\n",
       "       [  862.47073921,   393.4433751 ],\n",
       "       [ -187.81836535,  -762.17740202],\n",
       "       [  878.70371364,   394.33907334],\n",
       "       [ -503.88366553,  -419.72764129],\n",
       "       [ -500.03870378,  -419.65000038],\n",
       "       [ -218.6942758 ,  -744.62291214],\n",
       "       [ -228.87886263,  -753.14021816],\n",
       "       [  861.550957  ,   389.79519481],\n",
       "       [ -496.93784155,  -421.27877522],\n",
       "       [ -492.9830881 ,  -418.15694902],\n",
       "       [  867.63369941,   416.08476435],\n",
       "       [ -455.79482255,  -598.9829128 ],\n",
       "       [ -503.00761363,  -409.96694768],\n",
       "       [  879.03125627,   409.85806156],\n",
       "       [ -457.54847827,  -598.61037039],\n",
       "       [ -500.60862064,  -420.00244223],\n",
       "       [  867.10019332,   405.91544754],\n",
       "       [  877.90019502,   415.54272644],\n",
       "       [ -454.396156  ,  -602.38978813],\n",
       "       [ -165.7499714 ,  -730.98355403],\n",
       "       [  947.28068982,   472.93864175],\n",
       "       [  881.64663647,   410.65943499],\n",
       "       [ -454.10960407,  -599.43424752],\n",
       "       [  859.36975261,   384.82459668],\n",
       "       [ -497.8739622 ,  -420.89146125]])"
      ]
     },
     "execution_count": 18,
     "metadata": {},
     "output_type": "execute_result"
    }
   ],
   "source": [
    "# MDS\n",
    "'''\n",
    "random state 0 means that the algorithm will be deterministic, i.e. it will produce the same results each time.\n",
    "dissimilarity = precomputed means that we will directly give the distance matrix as input to the algorithm\n",
    "n_components = 2 means that we want the output to be a 2D array\n",
    "'''\n",
    "mds = MDS(random_state=0, dissimilarity='precomputed', n_components=2)\n",
    "fit_data=mds.fit_transform(Dist)\n",
    "fit_data # should contain an array of 2D points"
   ]
  },
  {
   "cell_type": "markdown",
   "metadata": {},
   "source": [
    "## Visualization:"
   ]
  },
  {
   "cell_type": "code",
   "execution_count": 19,
   "metadata": {},
   "outputs": [
    {
     "data": {
      "text/html": [
       "<div>\n",
       "<style scoped>\n",
       "    .dataframe tbody tr th:only-of-type {\n",
       "        vertical-align: middle;\n",
       "    }\n",
       "\n",
       "    .dataframe tbody tr th {\n",
       "        vertical-align: top;\n",
       "    }\n",
       "\n",
       "    .dataframe thead th {\n",
       "        text-align: right;\n",
       "    }\n",
       "</style>\n",
       "<table border=\"1\" class=\"dataframe\">\n",
       "  <thead>\n",
       "    <tr style=\"text-align: right;\">\n",
       "      <th></th>\n",
       "      <th>x</th>\n",
       "      <th>y</th>\n",
       "      <th>City</th>\n",
       "      <th>Population</th>\n",
       "      <th>Zone</th>\n",
       "    </tr>\n",
       "  </thead>\n",
       "  <tbody>\n",
       "    <tr>\n",
       "      <th>0</th>\n",
       "      <td>-848.633590</td>\n",
       "      <td>371.121691</td>\n",
       "      <td>Delhi</td>\n",
       "      <td>32226000</td>\n",
       "      <td>North</td>\n",
       "    </tr>\n",
       "    <tr>\n",
       "      <th>1</th>\n",
       "      <td>183.856705</td>\n",
       "      <td>870.179399</td>\n",
       "      <td>Mumbai</td>\n",
       "      <td>24973000</td>\n",
       "      <td>West</td>\n",
       "    </tr>\n",
       "    <tr>\n",
       "      <th>2</th>\n",
       "      <td>-177.633646</td>\n",
       "      <td>-746.063078</td>\n",
       "      <td>Kolkāta</td>\n",
       "      <td>18502000</td>\n",
       "      <td>East</td>\n",
       "    </tr>\n",
       "    <tr>\n",
       "      <th>3</th>\n",
       "      <td>881.903633</td>\n",
       "      <td>396.895241</td>\n",
       "      <td>Bangalore</td>\n",
       "      <td>15386000</td>\n",
       "      <td>South</td>\n",
       "    </tr>\n",
       "    <tr>\n",
       "      <th>4</th>\n",
       "      <td>877.833673</td>\n",
       "      <td>105.051834</td>\n",
       "      <td>Chennai</td>\n",
       "      <td>12395000</td>\n",
       "      <td>South</td>\n",
       "    </tr>\n",
       "    <tr>\n",
       "      <th>...</th>\n",
       "      <td>...</td>\n",
       "      <td>...</td>\n",
       "      <td>...</td>\n",
       "      <td>...</td>\n",
       "      <td>...</td>\n",
       "    </tr>\n",
       "    <tr>\n",
       "      <th>145</th>\n",
       "      <td>947.280690</td>\n",
       "      <td>472.938642</td>\n",
       "      <td>Bendravādi</td>\n",
       "      <td>2684</td>\n",
       "      <td>South</td>\n",
       "    </tr>\n",
       "    <tr>\n",
       "      <th>146</th>\n",
       "      <td>881.646636</td>\n",
       "      <td>410.659435</td>\n",
       "      <td>Kodagihalli</td>\n",
       "      <td>2585</td>\n",
       "      <td>South</td>\n",
       "    </tr>\n",
       "    <tr>\n",
       "      <th>147</th>\n",
       "      <td>-454.109604</td>\n",
       "      <td>-599.434248</td>\n",
       "      <td>Harna Buzurg</td>\n",
       "      <td>2579</td>\n",
       "      <td>East</td>\n",
       "    </tr>\n",
       "    <tr>\n",
       "      <th>148</th>\n",
       "      <td>859.369753</td>\n",
       "      <td>384.824597</td>\n",
       "      <td>Mailanhalli</td>\n",
       "      <td>2543</td>\n",
       "      <td>South</td>\n",
       "    </tr>\n",
       "    <tr>\n",
       "      <th>149</th>\n",
       "      <td>-497.873962</td>\n",
       "      <td>-420.891461</td>\n",
       "      <td>Sultānpur</td>\n",
       "      <td>2473</td>\n",
       "      <td>East</td>\n",
       "    </tr>\n",
       "  </tbody>\n",
       "</table>\n",
       "<p>150 rows × 5 columns</p>\n",
       "</div>"
      ],
      "text/plain": [
       "              x           y          City  Population   Zone\n",
       "0   -848.633590  371.121691         Delhi    32226000  North\n",
       "1    183.856705  870.179399        Mumbai    24973000   West\n",
       "2   -177.633646 -746.063078       Kolkāta    18502000   East\n",
       "3    881.903633  396.895241     Bangalore    15386000  South\n",
       "4    877.833673  105.051834       Chennai    12395000  South\n",
       "..          ...         ...           ...         ...    ...\n",
       "145  947.280690  472.938642    Bendravādi        2684  South\n",
       "146  881.646636  410.659435   Kodagihalli        2585  South\n",
       "147 -454.109604 -599.434248  Harna Buzurg        2579   East\n",
       "148  859.369753  384.824597   Mailanhalli        2543  South\n",
       "149 -497.873962 -420.891461     Sultānpur        2473   East\n",
       "\n",
       "[150 rows x 5 columns]"
      ]
     },
     "execution_count": 19,
     "metadata": {},
     "output_type": "execute_result"
    }
   ],
   "source": [
    "# Create a dataframe for the bubble plot\n",
    "df_bubble = pd.DataFrame(fit_data, columns=['x', 'y'])\n",
    "df_bubble['City'] = df['City']\n",
    "df_bubble['Population'] = df['population']\n",
    "df_bubble['Zone'] = df['Zone']\n",
    "df_bubble"
   ]
  },
  {
   "cell_type": "code",
   "execution_count": 20,
   "metadata": {},
   "outputs": [
    {
     "data": {
      "application/vnd.plotly.v1+json": {
       "config": {
        "plotlyServerURL": "https://plot.ly"
       },
       "data": [
        {
         "customdata": [
          [
           "Delhi"
          ],
          [
           "Prayagraj"
          ],
          [
           "Lucknow"
          ],
          [
           "Cawnpore"
          ],
          [
           "Mirzāpur"
          ],
          [
           "Ghāziābād"
          ],
          [
           "Ludhiāna"
          ],
          [
           "Agwār"
          ],
          [
           "Āgra"
          ],
          [
           "Farīdābād"
          ],
          [
           "Meerut"
          ],
          [
           "Najafgarh"
          ],
          [
           "Vārānasi"
          ],
          [
           "Srīnagar"
          ],
          [
           "Amritsar"
          ],
          [
           "Alīgarh"
          ],
          [
           "Chandīgarh"
          ],
          [
           "Kālkāji Devi"
          ],
          [
           "New Delhi"
          ],
          [
           "Shimla"
          ],
          [
           "Sultānpur Mazra"
          ],
          [
           "Bhālswa Jahangirpur"
          ],
          [
           "Nāngloi Jāt"
          ]
         ],
         "hovertemplate": "Zone=North<br>x=%{x}<br>y=%{y}<br>Population=%{marker.size}<br>City=%{customdata[0]}<extra></extra>",
         "legendgroup": "North",
         "marker": {
          "color": "#636efa",
          "size": [
           32226000,
           5954391,
           3382000,
           2701324,
           2496970,
           2375820,
           1618879,
           1585705,
           1585704,
           1404653,
           1305429,
           1203180,
           1198491,
           1180570,
           1132383,
           1131160,
           1055450,
           824177,
           249998,
           206575,
           163716,
           151427,
           150371
          ],
          "sizemode": "area",
          "sizeref": 80565,
          "symbol": "circle"
         },
         "mode": "markers",
         "name": "North",
         "orientation": "v",
         "showlegend": true,
         "type": "scatter",
         "x": [
          -848.6335903911654,
          -486.9300564436089,
          -644.3986372679282,
          -601.0695693888798,
          -454.45163916639075,
          -854.5560337771223,
          -1109.8900088356288,
          -687.5968403799162,
          -687.5968422471924,
          -826.9768158740842,
          -887.8037489535606,
          -849.5237115013665,
          -473.5311263535727,
          -1467.34952880929,
          -1195.02853244161,
          -764.8634152323081,
          -1087.383859682713,
          -841.7471713988257,
          -849.1453458670605,
          -1124.851670643357,
          -859.0053674753949,
          -862.7623625258203,
          -857.3764480697547
         ],
         "xaxis": "x",
         "y": [
          371.12169090910845,
          -78.57867528535857,
          9.328735562302876,
          71.6758324385669,
          -151.18225418836923,
          352.230817826015,
          490.74300095443346,
          299.56336048592465,
          299.5633574336255,
          365.1829172888531,
          322.4623710364095,
          395.6345476301256,
          -195.94168623599396,
          568.6833971886265,
          581.8324594990413,
          290.775784518685,
          403.5879304357105,
          369.3294975044521,
          373.16057234651396,
          364.23690102924013,
          386.4693159971252,
          376.99772811823925,
          386.75795497483534
         ],
         "yaxis": "y"
        },
        {
         "customdata": [
          [
           "Mumbai"
          ],
          [
           "Pune"
          ],
          [
           "Ahmedabad"
          ],
          [
           "Sūrat"
          ],
          [
           "Jaipur"
          ],
          [
           "Nāgpur"
          ],
          [
           "Vadodara"
          ],
          [
           "Thāne"
          ],
          [
           "Chinchvad"
          ],
          [
           "Nāsik"
          ],
          [
           "Aurangābād"
          ],
          [
           "Rājkot"
          ],
          [
           "Kalamboli"
          ],
          [
           "Vasai"
          ],
          [
           "Jodhpur"
          ],
          [
           "Kota"
          ],
          [
           "Bhayandar"
          ]
         ],
         "hovertemplate": "Zone=West<br>x=%{x}<br>y=%{y}<br>Population=%{marker.size}<br>City=%{customdata[0]}<extra></extra>",
         "legendgroup": "West",
         "marker": {
          "color": "#EF553B",
          "size": [
           24973000,
           8231000,
           8009000,
           6538000,
           3073350,
           2405665,
           2065771,
           1886941,
           1729320,
           1486053,
           1371330,
           1335397,
           1246381,
           1222390,
           1033918,
           1001694,
           809378
          ],
          "sizemode": "area",
          "sizeref": 80565,
          "symbol": "circle"
         },
         "mode": "markers",
         "name": "West",
         "orientation": "v",
         "showlegend": true,
         "type": "scatter",
         "x": [
          183.85670481668578,
          251.5312469156133,
          -256.0897624263358,
          -48.38427731873406,
          -665.6510034495632,
          -17.061853353081148,
          -171.10030549065405,
          171.06435665756632,
          240.3330428501406,
          87.21335131452285,
          108.99133519845454,
          -188.63661516687702,
          168.10873372285,
          139.71831467213022,
          -612.9649680034646,
          -475.1914275311978,
          159.98473087182782
         ],
         "xaxis": "x",
         "y": [
          870.179399156857,
          770.9618321101998,
          872.085824037557,
          860.2872392015905,
          521.2854296192115,
          212.77954801687002,
          814.1355535886204,
          859.4390543713129,
          775.9342957841086,
          769.7798326407885,
          609.809939059502,
          1061.9077993647502,
          842.3280454990016,
          875.5826159611419,
          801.9669660676054,
          528.2419015047059,
          871.5968894313605
         ],
         "yaxis": "y"
        },
        {
         "customdata": [
          [
           "Kolkāta"
          ],
          [
           "Patna"
          ],
          [
           "Jamshedpur"
          ],
          [
           "Dhanbād"
          ],
          [
           "Hāora"
          ],
          [
           "Rānchi"
          ],
          [
           "Salt Lake City"
          ],
          [
           "Bhātpāra"
          ],
          [
           "Darbhanga"
          ],
          [
           "Muzaffarpur"
          ],
          [
           "Puri"
          ],
          [
           "Shrīrāmpur"
          ],
          [
           "Hugli"
          ],
          [
           "Chandannagar"
          ],
          [
           "Krishnanagar"
          ],
          [
           "Bārākpur"
          ],
          [
           "Titāgarh"
          ],
          [
           "Dam Dam"
          ],
          [
           "Bānsbāria"
          ],
          [
           "Baj Baj"
          ],
          [
           "Kendrāparha"
          ],
          [
           "Sijua"
          ],
          [
           "Chakapara"
          ],
          [
           "Sabalpur"
          ],
          [
           "Salua"
          ],
          [
           "Balasore"
          ],
          [
           "Jethuli"
          ],
          [
           "Nagtala"
          ],
          [
           "Pakri"
          ],
          [
           "Punādih"
          ],
          [
           "Harilādih"
          ],
          [
           "Alāwalpur"
          ],
          [
           "Mahuli"
          ],
          [
           "Zeyādah Kot"
          ],
          [
           "Hīrāpur"
          ],
          [
           "Mirchi"
          ],
          [
           "Sonudih"
          ],
          [
           "Babura"
          ],
          [
           "Taliganja"
          ],
          [
           "Tarchha"
          ],
          [
           "Belgharia"
          ],
          [
           "Kedihāti"
          ],
          [
           "Simli Murārpur"
          ],
          [
           "Sonāwān"
          ],
          [
           "Devanandapur"
          ],
          [
           "Tribeni"
          ],
          [
           "Nathupur"
          ],
          [
           "Bāli"
          ],
          [
           "Saino"
          ],
          [
           "Shekhpura"
          ],
          [
           "Nārāyanpur Kola"
          ],
          [
           "Gyan Chak"
          ],
          [
           "Harchandi"
          ],
          [
           "Santoshpur"
          ],
          [
           "Harna Buzurg"
          ],
          [
           "Sultānpur"
          ]
         ],
         "hovertemplate": "Zone=East<br>x=%{x}<br>y=%{y}<br>Population=%{marker.size}<br>City=%{customdata[0]}<extra></extra>",
         "legendgroup": "East",
         "marker": {
          "color": "#00cc96",
          "size": [
           18502000,
           1684222,
           1558000,
           1162472,
           1077075,
           1073440,
           403316,
           386019,
           380125,
           333200,
           201026,
           181842,
           179931,
           166867,
           153062,
           152783,
           116541,
           114786,
           103920,
           76837,
           41404,
           39372,
           35282,
           18810,
           15171,
           13869,
           11572,
           10419,
           9768,
           8273,
           7917,
           7827,
           6683,
           6457,
           5910,
           5710,
           5658,
           4755,
           4278,
           4198,
           4193,
           3910,
           3739,
           3682,
           3449,
           3305,
           3129,
           3128,
           2987,
           2950,
           2919,
           2855,
           2827,
           2808,
           2579,
           2473
          ],
          "sizemode": "area",
          "sizeref": 80565,
          "symbol": "circle"
         },
         "mode": "markers",
         "name": "East",
         "orientation": "v",
         "showlegend": true,
         "type": "scatter",
         "x": [
          -177.63364635235584,
          -505.99623988912464,
          -196.62626698671147,
          -308.86388477930893,
          -178.8803366656665,
          -258.0691882880224,
          -182.45105653509663,
          -211.31645978628578,
          -570.4109989568212,
          -564.2806785597805,
          134.66653348884012,
          -197.76850537858633,
          -215.5832918758964,
          -210.84664995732405,
          -270.40655551679527,
          -199.47267807340876,
          -196.76300780514575,
          -183.62926617777276,
          -222.36974899762447,
          -167.5977639841561,
          57.108803317048384,
          -304.91782527825717,
          -184.49689682468124,
          -506.69495117613127,
          -182.00455710505514,
          -54.29527060773827,
          -499.36122327688145,
          -156.4740717569344,
          -504.7001620646127,
          -500.5078022079649,
          -289.86599034784706,
          -494.59349084120055,
          -499.8558639409273,
          -149.8724812143185,
          -297.82093073373767,
          -501.21105049399216,
          -456.0548870410843,
          -452.9149419741978,
          -180.11813518333037,
          -455.8180511068594,
          -178.21805999529334,
          -187.8183653519001,
          -503.883665525075,
          -500.03870377624605,
          -218.6942758006627,
          -228.8788626304333,
          -496.9378415536677,
          -492.98308809627343,
          -455.7948225545928,
          -503.0076136341725,
          -457.5484782729528,
          -500.6086206353457,
          -454.3961560005241,
          -165.74997140311666,
          -454.10960406996634,
          -497.8739621996141
         ],
         "xaxis": "x",
         "y": [
          -746.0630775989132,
          -405.621371504018,
          -521.2208482698339,
          -543.9777299011462,
          -741.8508768801664,
          -432.69503636680776,
          -748.9776554552352,
          -748.9986746656397,
          -484.5784343145211,
          -433.75825233303954,
          -490.72254806121424,
          -742.2932405479638,
          -747.4866706062393,
          -744.6501180224672,
          -756.0912436212693,
          -746.0904294689315,
          -745.4047872551913,
          -750.9902976129099,
          -747.5866050855182,
          -727.0676892704352,
          -550.7842187728305,
          -517.2600533765433,
          -743.7741407267796,
          -413.9968930697468,
          -735.6451701690843,
          -601.4337601629759,
          -424.22355709217663,
          -771.1636893962655,
          -411.46740841303637,
          -422.2751283508434,
          -536.2010085113525,
          -416.05968967037205,
          -418.4571457139778,
          -734.2267265442374,
          -622.3663425308026,
          -417.13896853805835,
          -600.0439342810382,
          -608.9857167085148,
          -753.5663225359411,
          -607.6108563472584,
          -757.8124210114546,
          -762.1774020244312,
          -419.72764128581787,
          -419.6500003825021,
          -744.622912135431,
          -753.1402181592999,
          -421.2787752223633,
          -418.1569490168011,
          -598.9829128040966,
          -409.9669476759522,
          -598.6103703869406,
          -420.0024422298508,
          -602.389788131342,
          -730.9835540318252,
          -599.4342475217132,
          -420.89146125331746
         ],
         "yaxis": "y"
        },
        {
         "customdata": [
          [
           "Bangalore"
          ],
          [
           "Chennai"
          ],
          [
           "Hyderābād"
          ],
          [
           "Vishākhapatnam"
          ],
          [
           "Madurai"
          ],
          [
           "Vijayavāda"
          ],
          [
           "Ambattūr"
          ],
          [
           "Kūkatpalli"
          ],
          [
           "Dāsarhalli"
          ],
          [
           "Oulgaret"
          ],
          [
           "Tiruvottiyūr"
          ],
          [
           "Puducherry"
          ],
          [
           "Byatarayanpur"
          ],
          [
           "Pallāvaram"
          ],
          [
           "Secunderābād"
          ],
          [
           "Yelahanka"
          ],
          [
           "Madhavaram"
          ],
          [
           "Nerkunram"
          ],
          [
           "Manali"
          ],
          [
           "Pāppākurichchi"
          ],
          [
           "Herohalli"
          ],
          [
           "Madipakkam"
          ],
          [
           "Jālhalli"
          ],
          [
           "Chinnasekkadu"
          ],
          [
           "Bāgalūr"
          ],
          [
           "Hunasamaranhalli"
          ],
          [
           "Hesarghatta"
          ],
          [
           "Bommayapālaiyam"
          ],
          [
           "Gundūr"
          ],
          [
           "Mādnāikanhalli"
          ],
          [
           "Kādiganahalli"
          ],
          [
           "Arshakunti"
          ],
          [
           "Sondekoppa"
          ],
          [
           "Mādavar"
          ],
          [
           "Kadabgeri"
          ],
          [
           "Nanmangalam"
          ],
          [
           "Kammanhalli"
          ],
          [
           "Sonnappanhalli"
          ],
          [
           "Doddajīvanhalli"
          ],
          [
           "Huttanhalli"
          ],
          [
           "Vājarhalli"
          ],
          [
           "Cāchohalli"
          ],
          [
           "Kasgatpur"
          ],
          [
           "Kitanelli"
          ],
          [
           "Bendravādi"
          ],
          [
           "Kodagihalli"
          ],
          [
           "Mailanhalli"
          ]
         ],
         "hovertemplate": "Zone=South<br>x=%{x}<br>y=%{y}<br>Population=%{marker.size}<br>City=%{customdata[0]}<extra></extra>",
         "legendgroup": "South",
         "marker": {
          "color": "#ab63fa",
          "size": [
           15386000,
           12395000,
           10494000,
           2035922,
           1561129,
           1048240,
           466205,
           385821,
           349720,
           300104,
           249446,
           244377,
           239902,
           215417,
           213698,
           119891,
           100442,
           52570,
           37748,
           26889,
           23851,
           20523,
           13063,
           12854,
           9925,
           9741,
           9485,
           8796,
           8587,
           7805,
           7225,
           6262,
           4866,
           4678,
           4573,
           4386,
           4144,
           3996,
           3792,
           3240,
           3009,
           2946,
           2852,
           2827,
           2684,
           2585,
           2543
          ],
          "sizemode": "area",
          "sizeref": 80565,
          "symbol": "circle"
         },
         "mode": "markers",
         "name": "South",
         "orientation": "v",
         "showlegend": true,
         "type": "scatter",
         "x": [
          881.9036325047246,
          877.8336731713665,
          397.81094898317644,
          370.1886839147492,
          1221.2442884726427,
          498.8555510343496,
          874.0828193120936,
          386.53642309337886,
          874.1555225751263,
          1001.024930881284,
          869.3278103734012,
          1005.57252073706,
          872.2974177357427,
          890.274531229301,
          391.77473957398155,
          868.4687782335301,
          870.4950487977853,
          879.5940553844304,
          868.5230455685166,
          1124.6859990371909,
          880.1809724610615,
          890.9493001181181,
          875.7467566976466,
          869.1446519112538,
          865.1796000029518,
          863.825963045749,
          863.8023121420024,
          997.3096624648048,
          1133.424556393966,
          872.2003015538392,
          861.0720067513812,
          870.2925328262096,
          878.7554782560637,
          873.3486847473988,
          879.3869070803094,
          893.5733543592181,
          878.025766423164,
          862.4707392086552,
          878.7037136376174,
          861.5509570003769,
          867.6336994120421,
          879.0312562667385,
          867.1001933178746,
          877.9001950183911,
          947.2806898202913,
          881.646636465542,
          859.3697526108741
         ],
         "xaxis": "x",
         "y": [
          396.89524136589154,
          105.05183401509068,
          286.4403040089321,
          -225.51605028381718,
          347.77665775120204,
          59.6599680900197,
          118.04463324215429,
          293.887036067222,
          405.2132086603474,
          162.13761666000812,
          102.16957180877964,
          157.52677928148347,
          396.5442499058338,
          118.98893750179238,
          285.0378058719682,
          395.9784495667436,
          109.64774727637007,
          104.1835569822389,
          105.7724416423456,
          277.3110768692989,
          408.19835934860157,
          113.61783172579081,
          401.2401530893901,
          106.80621933659111,
          388.0274959553617,
          393.25699189394834,
          408.660191052248,
          153.73574767951598,
          280.7525644964257,
          410.45752934805483,
          392.26908158940523,
          414.93008677829584,
          421.26913061769966,
          409.5148916047175,
          414.0683183267627,
          116.20425845938384,
          391.7299387317892,
          393.44337510204275,
          394.3390733383818,
          389.7951948079149,
          416.0847643486255,
          409.8580615591501,
          405.9154475423953,
          415.5427264354882,
          472.93864175468093,
          410.65943499372736,
          384.8245966845173
         ],
         "yaxis": "y"
        },
        {
         "customdata": [
          [
           "Indore"
          ],
          [
           "Bhopāl"
          ],
          [
           "Bilāspur"
          ],
          [
           "Jabalpur"
          ],
          [
           "Gwalior"
          ],
          [
           "Raipur"
          ]
         ],
         "hovertemplate": "Zone=Central<br>x=%{x}<br>y=%{y}<br>Population=%{marker.size}<br>City=%{customdata[0]}<extra></extra>",
         "legendgroup": "Central",
         "marker": {
          "color": "#FFA15A",
          "size": [
           1994397,
           1798218,
           1625502,
           1267564,
           1069276,
           1010087
          ],
          "sizemode": "area",
          "sizeref": 80565,
          "symbol": "circle"
         },
         "mode": "markers",
         "name": "Central",
         "orientation": "v",
         "showlegend": true,
         "type": "scatter",
         "x": [
          -202.4905574167318,
          -254.8752174282021,
          -115.96067695741596,
          -238.33852050187602,
          -581.0337005198643,
          -23.33007272969318
         ],
         "xaxis": "x",
         "y": [
          540.0935862356973,
          376.837945601794,
          -106.81993529176718,
          119.50791121601708,
          287.64301492635457,
          -52.28971130698019
         ],
         "yaxis": "y"
        },
        {
         "customdata": [
          [
           "Guwāhāti"
          ]
         ],
         "hovertemplate": "Zone=North East<br>x=%{x}<br>y=%{y}<br>Population=%{marker.size}<br>City=%{customdata[0]}<extra></extra>",
         "legendgroup": "North East",
         "marker": {
          "color": "#19d3f3",
          "size": [
           1116267
          ],
          "sizemode": "area",
          "sizeref": 80565,
          "symbol": "circle"
         },
         "mode": "markers",
         "name": "North East",
         "orientation": "v",
         "showlegend": true,
         "type": "scatter",
         "x": [
          -595.4660341713393
         ],
         "xaxis": "x",
         "y": [
          -1067.167346122791
         ],
         "yaxis": "y"
        }
       ],
       "layout": {
        "legend": {
         "itemsizing": "constant",
         "title": {
          "text": "Zone"
         },
         "tracegroupgap": 0
        },
        "margin": {
         "t": 60
        },
        "template": {
         "data": {
          "bar": [
           {
            "error_x": {
             "color": "#2a3f5f"
            },
            "error_y": {
             "color": "#2a3f5f"
            },
            "marker": {
             "line": {
              "color": "#E5ECF6",
              "width": 0.5
             },
             "pattern": {
              "fillmode": "overlay",
              "size": 10,
              "solidity": 0.2
             }
            },
            "type": "bar"
           }
          ],
          "barpolar": [
           {
            "marker": {
             "line": {
              "color": "#E5ECF6",
              "width": 0.5
             },
             "pattern": {
              "fillmode": "overlay",
              "size": 10,
              "solidity": 0.2
             }
            },
            "type": "barpolar"
           }
          ],
          "carpet": [
           {
            "aaxis": {
             "endlinecolor": "#2a3f5f",
             "gridcolor": "white",
             "linecolor": "white",
             "minorgridcolor": "white",
             "startlinecolor": "#2a3f5f"
            },
            "baxis": {
             "endlinecolor": "#2a3f5f",
             "gridcolor": "white",
             "linecolor": "white",
             "minorgridcolor": "white",
             "startlinecolor": "#2a3f5f"
            },
            "type": "carpet"
           }
          ],
          "choropleth": [
           {
            "colorbar": {
             "outlinewidth": 0,
             "ticks": ""
            },
            "type": "choropleth"
           }
          ],
          "contour": [
           {
            "colorbar": {
             "outlinewidth": 0,
             "ticks": ""
            },
            "colorscale": [
             [
              0,
              "#0d0887"
             ],
             [
              0.1111111111111111,
              "#46039f"
             ],
             [
              0.2222222222222222,
              "#7201a8"
             ],
             [
              0.3333333333333333,
              "#9c179e"
             ],
             [
              0.4444444444444444,
              "#bd3786"
             ],
             [
              0.5555555555555556,
              "#d8576b"
             ],
             [
              0.6666666666666666,
              "#ed7953"
             ],
             [
              0.7777777777777778,
              "#fb9f3a"
             ],
             [
              0.8888888888888888,
              "#fdca26"
             ],
             [
              1,
              "#f0f921"
             ]
            ],
            "type": "contour"
           }
          ],
          "contourcarpet": [
           {
            "colorbar": {
             "outlinewidth": 0,
             "ticks": ""
            },
            "type": "contourcarpet"
           }
          ],
          "heatmap": [
           {
            "colorbar": {
             "outlinewidth": 0,
             "ticks": ""
            },
            "colorscale": [
             [
              0,
              "#0d0887"
             ],
             [
              0.1111111111111111,
              "#46039f"
             ],
             [
              0.2222222222222222,
              "#7201a8"
             ],
             [
              0.3333333333333333,
              "#9c179e"
             ],
             [
              0.4444444444444444,
              "#bd3786"
             ],
             [
              0.5555555555555556,
              "#d8576b"
             ],
             [
              0.6666666666666666,
              "#ed7953"
             ],
             [
              0.7777777777777778,
              "#fb9f3a"
             ],
             [
              0.8888888888888888,
              "#fdca26"
             ],
             [
              1,
              "#f0f921"
             ]
            ],
            "type": "heatmap"
           }
          ],
          "heatmapgl": [
           {
            "colorbar": {
             "outlinewidth": 0,
             "ticks": ""
            },
            "colorscale": [
             [
              0,
              "#0d0887"
             ],
             [
              0.1111111111111111,
              "#46039f"
             ],
             [
              0.2222222222222222,
              "#7201a8"
             ],
             [
              0.3333333333333333,
              "#9c179e"
             ],
             [
              0.4444444444444444,
              "#bd3786"
             ],
             [
              0.5555555555555556,
              "#d8576b"
             ],
             [
              0.6666666666666666,
              "#ed7953"
             ],
             [
              0.7777777777777778,
              "#fb9f3a"
             ],
             [
              0.8888888888888888,
              "#fdca26"
             ],
             [
              1,
              "#f0f921"
             ]
            ],
            "type": "heatmapgl"
           }
          ],
          "histogram": [
           {
            "marker": {
             "pattern": {
              "fillmode": "overlay",
              "size": 10,
              "solidity": 0.2
             }
            },
            "type": "histogram"
           }
          ],
          "histogram2d": [
           {
            "colorbar": {
             "outlinewidth": 0,
             "ticks": ""
            },
            "colorscale": [
             [
              0,
              "#0d0887"
             ],
             [
              0.1111111111111111,
              "#46039f"
             ],
             [
              0.2222222222222222,
              "#7201a8"
             ],
             [
              0.3333333333333333,
              "#9c179e"
             ],
             [
              0.4444444444444444,
              "#bd3786"
             ],
             [
              0.5555555555555556,
              "#d8576b"
             ],
             [
              0.6666666666666666,
              "#ed7953"
             ],
             [
              0.7777777777777778,
              "#fb9f3a"
             ],
             [
              0.8888888888888888,
              "#fdca26"
             ],
             [
              1,
              "#f0f921"
             ]
            ],
            "type": "histogram2d"
           }
          ],
          "histogram2dcontour": [
           {
            "colorbar": {
             "outlinewidth": 0,
             "ticks": ""
            },
            "colorscale": [
             [
              0,
              "#0d0887"
             ],
             [
              0.1111111111111111,
              "#46039f"
             ],
             [
              0.2222222222222222,
              "#7201a8"
             ],
             [
              0.3333333333333333,
              "#9c179e"
             ],
             [
              0.4444444444444444,
              "#bd3786"
             ],
             [
              0.5555555555555556,
              "#d8576b"
             ],
             [
              0.6666666666666666,
              "#ed7953"
             ],
             [
              0.7777777777777778,
              "#fb9f3a"
             ],
             [
              0.8888888888888888,
              "#fdca26"
             ],
             [
              1,
              "#f0f921"
             ]
            ],
            "type": "histogram2dcontour"
           }
          ],
          "mesh3d": [
           {
            "colorbar": {
             "outlinewidth": 0,
             "ticks": ""
            },
            "type": "mesh3d"
           }
          ],
          "parcoords": [
           {
            "line": {
             "colorbar": {
              "outlinewidth": 0,
              "ticks": ""
             }
            },
            "type": "parcoords"
           }
          ],
          "pie": [
           {
            "automargin": true,
            "type": "pie"
           }
          ],
          "scatter": [
           {
            "fillpattern": {
             "fillmode": "overlay",
             "size": 10,
             "solidity": 0.2
            },
            "type": "scatter"
           }
          ],
          "scatter3d": [
           {
            "line": {
             "colorbar": {
              "outlinewidth": 0,
              "ticks": ""
             }
            },
            "marker": {
             "colorbar": {
              "outlinewidth": 0,
              "ticks": ""
             }
            },
            "type": "scatter3d"
           }
          ],
          "scattercarpet": [
           {
            "marker": {
             "colorbar": {
              "outlinewidth": 0,
              "ticks": ""
             }
            },
            "type": "scattercarpet"
           }
          ],
          "scattergeo": [
           {
            "marker": {
             "colorbar": {
              "outlinewidth": 0,
              "ticks": ""
             }
            },
            "type": "scattergeo"
           }
          ],
          "scattergl": [
           {
            "marker": {
             "colorbar": {
              "outlinewidth": 0,
              "ticks": ""
             }
            },
            "type": "scattergl"
           }
          ],
          "scattermapbox": [
           {
            "marker": {
             "colorbar": {
              "outlinewidth": 0,
              "ticks": ""
             }
            },
            "type": "scattermapbox"
           }
          ],
          "scatterpolar": [
           {
            "marker": {
             "colorbar": {
              "outlinewidth": 0,
              "ticks": ""
             }
            },
            "type": "scatterpolar"
           }
          ],
          "scatterpolargl": [
           {
            "marker": {
             "colorbar": {
              "outlinewidth": 0,
              "ticks": ""
             }
            },
            "type": "scatterpolargl"
           }
          ],
          "scatterternary": [
           {
            "marker": {
             "colorbar": {
              "outlinewidth": 0,
              "ticks": ""
             }
            },
            "type": "scatterternary"
           }
          ],
          "surface": [
           {
            "colorbar": {
             "outlinewidth": 0,
             "ticks": ""
            },
            "colorscale": [
             [
              0,
              "#0d0887"
             ],
             [
              0.1111111111111111,
              "#46039f"
             ],
             [
              0.2222222222222222,
              "#7201a8"
             ],
             [
              0.3333333333333333,
              "#9c179e"
             ],
             [
              0.4444444444444444,
              "#bd3786"
             ],
             [
              0.5555555555555556,
              "#d8576b"
             ],
             [
              0.6666666666666666,
              "#ed7953"
             ],
             [
              0.7777777777777778,
              "#fb9f3a"
             ],
             [
              0.8888888888888888,
              "#fdca26"
             ],
             [
              1,
              "#f0f921"
             ]
            ],
            "type": "surface"
           }
          ],
          "table": [
           {
            "cells": {
             "fill": {
              "color": "#EBF0F8"
             },
             "line": {
              "color": "white"
             }
            },
            "header": {
             "fill": {
              "color": "#C8D4E3"
             },
             "line": {
              "color": "white"
             }
            },
            "type": "table"
           }
          ]
         },
         "layout": {
          "annotationdefaults": {
           "arrowcolor": "#2a3f5f",
           "arrowhead": 0,
           "arrowwidth": 1
          },
          "autotypenumbers": "strict",
          "coloraxis": {
           "colorbar": {
            "outlinewidth": 0,
            "ticks": ""
           }
          },
          "colorscale": {
           "diverging": [
            [
             0,
             "#8e0152"
            ],
            [
             0.1,
             "#c51b7d"
            ],
            [
             0.2,
             "#de77ae"
            ],
            [
             0.3,
             "#f1b6da"
            ],
            [
             0.4,
             "#fde0ef"
            ],
            [
             0.5,
             "#f7f7f7"
            ],
            [
             0.6,
             "#e6f5d0"
            ],
            [
             0.7,
             "#b8e186"
            ],
            [
             0.8,
             "#7fbc41"
            ],
            [
             0.9,
             "#4d9221"
            ],
            [
             1,
             "#276419"
            ]
           ],
           "sequential": [
            [
             0,
             "#0d0887"
            ],
            [
             0.1111111111111111,
             "#46039f"
            ],
            [
             0.2222222222222222,
             "#7201a8"
            ],
            [
             0.3333333333333333,
             "#9c179e"
            ],
            [
             0.4444444444444444,
             "#bd3786"
            ],
            [
             0.5555555555555556,
             "#d8576b"
            ],
            [
             0.6666666666666666,
             "#ed7953"
            ],
            [
             0.7777777777777778,
             "#fb9f3a"
            ],
            [
             0.8888888888888888,
             "#fdca26"
            ],
            [
             1,
             "#f0f921"
            ]
           ],
           "sequentialminus": [
            [
             0,
             "#0d0887"
            ],
            [
             0.1111111111111111,
             "#46039f"
            ],
            [
             0.2222222222222222,
             "#7201a8"
            ],
            [
             0.3333333333333333,
             "#9c179e"
            ],
            [
             0.4444444444444444,
             "#bd3786"
            ],
            [
             0.5555555555555556,
             "#d8576b"
            ],
            [
             0.6666666666666666,
             "#ed7953"
            ],
            [
             0.7777777777777778,
             "#fb9f3a"
            ],
            [
             0.8888888888888888,
             "#fdca26"
            ],
            [
             1,
             "#f0f921"
            ]
           ]
          },
          "colorway": [
           "#636efa",
           "#EF553B",
           "#00cc96",
           "#ab63fa",
           "#FFA15A",
           "#19d3f3",
           "#FF6692",
           "#B6E880",
           "#FF97FF",
           "#FECB52"
          ],
          "font": {
           "color": "#2a3f5f"
          },
          "geo": {
           "bgcolor": "white",
           "lakecolor": "white",
           "landcolor": "#E5ECF6",
           "showlakes": true,
           "showland": true,
           "subunitcolor": "white"
          },
          "hoverlabel": {
           "align": "left"
          },
          "hovermode": "closest",
          "mapbox": {
           "style": "light"
          },
          "paper_bgcolor": "white",
          "plot_bgcolor": "#E5ECF6",
          "polar": {
           "angularaxis": {
            "gridcolor": "white",
            "linecolor": "white",
            "ticks": ""
           },
           "bgcolor": "#E5ECF6",
           "radialaxis": {
            "gridcolor": "white",
            "linecolor": "white",
            "ticks": ""
           }
          },
          "scene": {
           "xaxis": {
            "backgroundcolor": "#E5ECF6",
            "gridcolor": "white",
            "gridwidth": 2,
            "linecolor": "white",
            "showbackground": true,
            "ticks": "",
            "zerolinecolor": "white"
           },
           "yaxis": {
            "backgroundcolor": "#E5ECF6",
            "gridcolor": "white",
            "gridwidth": 2,
            "linecolor": "white",
            "showbackground": true,
            "ticks": "",
            "zerolinecolor": "white"
           },
           "zaxis": {
            "backgroundcolor": "#E5ECF6",
            "gridcolor": "white",
            "gridwidth": 2,
            "linecolor": "white",
            "showbackground": true,
            "ticks": "",
            "zerolinecolor": "white"
           }
          },
          "shapedefaults": {
           "line": {
            "color": "#2a3f5f"
           }
          },
          "ternary": {
           "aaxis": {
            "gridcolor": "white",
            "linecolor": "white",
            "ticks": ""
           },
           "baxis": {
            "gridcolor": "white",
            "linecolor": "white",
            "ticks": ""
           },
           "bgcolor": "#E5ECF6",
           "caxis": {
            "gridcolor": "white",
            "linecolor": "white",
            "ticks": ""
           }
          },
          "title": {
           "x": 0.05
          },
          "xaxis": {
           "automargin": true,
           "gridcolor": "white",
           "linecolor": "white",
           "ticks": "",
           "title": {
            "standoff": 15
           },
           "zerolinecolor": "white",
           "zerolinewidth": 2
          },
          "yaxis": {
           "automargin": true,
           "gridcolor": "white",
           "linecolor": "white",
           "ticks": "",
           "title": {
            "standoff": 15
           },
           "zerolinecolor": "white",
           "zerolinewidth": 2
          }
         }
        },
        "xaxis": {
         "anchor": "y",
         "domain": [
          0,
          1
         ],
         "title": {
          "text": "x"
         }
        },
        "yaxis": {
         "anchor": "x",
         "domain": [
          0,
          1
         ],
         "title": {
          "text": "y"
         }
        }
       }
      }
     },
     "metadata": {},
     "output_type": "display_data"
    }
   ],
   "source": [
    "# # Create a bubble plot\n",
    "fig = px.scatter(df_bubble, x='x', y='y', size='Population', color='Zone', hover_data=['City'])\n",
    "fig.show()"
   ]
  }
 ],
 "metadata": {
  "kernelspec": {
   "display_name": "Python 3",
   "language": "python",
   "name": "python3"
  },
  "language_info": {
   "codemirror_mode": {
    "name": "ipython",
    "version": 3
   },
   "file_extension": ".py",
   "mimetype": "text/x-python",
   "name": "python",
   "nbconvert_exporter": "python",
   "pygments_lexer": "ipython3",
   "version": "3.11.4"
  }
 },
 "nbformat": 4,
 "nbformat_minor": 2
}
