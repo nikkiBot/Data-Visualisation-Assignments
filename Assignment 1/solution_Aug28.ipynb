{
 "cells": [
  {
   "cell_type": "code",
   "execution_count": 1,
   "metadata": {},
   "outputs": [],
   "source": [
    "import numpy as np\n",
    "import matplotlib.pyplot as plt\n",
    "import pandas as pd\n",
    "import seaborn as sns\n"
   ]
  },
  {
   "cell_type": "code",
   "execution_count": 2,
   "metadata": {},
   "outputs": [
    {
     "name": "stdout",
     "output_type": "stream",
     "text": [
      "<class 'pandas.core.frame.DataFrame'>\n",
      "RangeIndex: 157126 entries, 0 to 157125\n",
      "Data columns (total 11 columns):\n",
      " #   Column        Non-Null Count   Dtype \n",
      "---  ------        --------------   ----- \n",
      " 0   CircleName    157126 non-null  object\n",
      " 1   RegionName    157073 non-null  object\n",
      " 2   DivisionName  157124 non-null  object\n",
      " 3   OfficeName    157126 non-null  object\n",
      " 4   Pincode       157126 non-null  int64 \n",
      " 5   OfficeType    157126 non-null  object\n",
      " 6   Delivery      157126 non-null  object\n",
      " 7   District      157126 non-null  object\n",
      " 8   StateName     157126 non-null  object\n",
      " 9   Latitude      148288 non-null  object\n",
      " 10  Longitude     148283 non-null  object\n",
      "dtypes: int64(1), object(10)\n",
      "memory usage: 13.2+ MB\n"
     ]
    }
   ],
   "source": [
    "# Re-read the CSV file with 'Latitude' and \"Longitude\" columns read as string. Hint: use dtype parameter in read_csv method.\n",
    "\n",
    "new_df = pd.read_csv('pincode.csv', dtype={'Latitude':str, 'Longitude':str})\n",
    "new_df.info()"
   ]
  },
  {
   "cell_type": "code",
   "execution_count": 3,
   "metadata": {},
   "outputs": [],
   "source": [
    "# Remove rows with missing values, reset indices of new_df\n",
    "\n",
    "new_df = new_df.dropna()\n",
    "new_df = new_df.reset_index(drop=True)"
   ]
  },
  {
   "cell_type": "code",
   "execution_count": 10,
   "metadata": {},
   "outputs": [
    {
     "name": "stdout",
     "output_type": "stream",
     "text": [
      "float64\n",
      "float64\n"
     ]
    }
   ],
   "source": [
    "# Clean Latitude and Longitude columns and convert to float type data, use .astype(float)\n",
    "\n",
    "import re\n",
    "\n",
    "# select the latitude and longitude columns\n",
    "latitudes = new_df['Latitude']\n",
    "longitudes = new_df['Longitude']\n",
    "\n",
    "# Define a regex pattern to extract numeric parts from strings\n",
    "pattern = r'([+-]?\\d+\\.\\d+)' \n",
    "\n",
    "\n",
    "# Extract numeric parts from latitude and longitude strings and replace the original columns\n",
    "latitudes = latitudes.str.extract(pattern, expand=False).astype(float)\n",
    "longitudes = longitudes.str.extract(pattern, expand=False).astype(float)\n",
    "\n",
    "\n",
    "\n",
    "# replace the old latitude and longitude columns with the cleaned ones\n",
    "new_df['Latitude'] = latitudes\n",
    "new_df['Longitude'] = longitudes\n",
    "\n",
    "# check the data type of the latitude and longitude columns\n",
    "print(new_df['Latitude'].dtype)\n",
    "print(new_df['Longitude'].dtype)\n",
    "\n",
    "\n",
    "\n",
    "# # clean the latitude and longitude columns - Search for any character that is not a digit or a decimal point and replace it with an empty string\n",
    "# latitudes = latitudes.str.replace(r'[^\\d\\.]', '')\n",
    "# longitudes = longitudes.str.replace(r'[^\\d\\.]', '')\n",
    "# # convert the latitude and longitude columns to float type data\n",
    "# latitudes = latitudes.astype(float)\n",
    "# longitudes = longitudes.astype(float)\n",
    "\n",
    "\n"
   ]
  }
 ],
 "metadata": {
  "kernelspec": {
   "display_name": "Python 3",
   "language": "python",
   "name": "python3"
  },
  "language_info": {
   "codemirror_mode": {
    "name": "ipython",
    "version": 3
   },
   "file_extension": ".py",
   "mimetype": "text/x-python",
   "name": "python",
   "nbconvert_exporter": "python",
   "pygments_lexer": "ipython3",
   "version": "3.11.4"
  },
  "orig_nbformat": 4
 },
 "nbformat": 4,
 "nbformat_minor": 2
}
