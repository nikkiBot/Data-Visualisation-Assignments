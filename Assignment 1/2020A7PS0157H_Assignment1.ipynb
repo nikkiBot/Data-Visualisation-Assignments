{
 "cells": [
  {
   "cell_type": "code",
   "execution_count": 16,
   "metadata": {},
   "outputs": [],
   "source": [
    "import numpy as np\n",
    "import matplotlib.pyplot as plt\n",
    "import pandas as pd\n",
    "import seaborn as sns\n"
   ]
  },
  {
   "cell_type": "code",
   "execution_count": 17,
   "metadata": {},
   "outputs": [
    {
     "name": "stderr",
     "output_type": "stream",
     "text": [
      "C:\\Users\\nishi\\AppData\\Local\\Temp\\ipykernel_32348\\3827583873.py:2: DtypeWarning: Columns (9) have mixed types. Specify dtype option on import or set low_memory=False.\n",
      "  df = pd.read_csv('pincode.csv')\n"
     ]
    }
   ],
   "source": [
    "# Read the csv file into a dataframe\n",
    "df = pd.read_csv('pincode.csv')"
   ]
  },
  {
   "cell_type": "code",
   "execution_count": 18,
   "metadata": {},
   "outputs": [
    {
     "name": "stdout",
     "output_type": "stream",
     "text": [
      "number of rows = 157126\n",
      "number of columns = 11\n"
     ]
    }
   ],
   "source": [
    "# Number of rows and columns: \n",
    "rows = df.shape[0] \n",
    "\n",
    "columns = df.shape[1]\n",
    "\n",
    "print(\"number of rows = \" + str(rows))\n",
    "print(\"number of columns = \" + str(columns))"
   ]
  },
  {
   "cell_type": "code",
   "execution_count": 19,
   "metadata": {},
   "outputs": [
    {
     "name": "stdout",
     "output_type": "stream",
     "text": [
      "Index(['CircleName', 'RegionName', 'DivisionName', 'OfficeName', 'Pincode',\n",
      "       'OfficeType', 'Delivery', 'District', 'StateName', 'Latitude',\n",
      "       'Longitude'],\n",
      "      dtype='object')\n"
     ]
    }
   ],
   "source": [
    "# List column names\n",
    "names = df.columns \n",
    "print(names)"
   ]
  },
  {
   "cell_type": "code",
   "execution_count": 20,
   "metadata": {},
   "outputs": [
    {
     "name": "stdout",
     "output_type": "stream",
     "text": [
      "8900\n"
     ]
    }
   ],
   "source": [
    "# Number of rows with atleast 1 missing value:\n",
    "\n",
    "zero_count = df.isna().any(axis=1).sum()\n",
    "'''\n",
    "isna() returns a boolean dataframe with True for NaN values and False for non-NaN values.\n",
    "any(axis=1) returns a boolean series with True for rows with atleast 1 True value and False for rows with all False values.\n",
    "sum() returns the number of True values in the series.\n",
    "''' \n",
    "print(zero_count)\n"
   ]
  },
  {
   "cell_type": "code",
   "execution_count": 21,
   "metadata": {},
   "outputs": [
    {
     "name": "stdout",
     "output_type": "stream",
     "text": [
      "0\n"
     ]
    }
   ],
   "source": [
    "# Number of rows with all missing values: \n",
    "\n",
    "all_zero_count = df.isna().all(axis=1).sum()\n",
    "'''\n",
    "all() returns True if all elements in the specified iterable are true, otherwise it returns False.\n",
    "'''\n",
    "print(all_zero_count)"
   ]
  },
  {
   "cell_type": "markdown",
   "metadata": {},
   "source": [
    "#Part 2 - Data Cleaning (Aug 28)"
   ]
  },
  {
   "cell_type": "code",
   "execution_count": 22,
   "metadata": {},
   "outputs": [
    {
     "name": "stdout",
     "output_type": "stream",
     "text": [
      "<class 'pandas.core.frame.DataFrame'>\n",
      "RangeIndex: 157126 entries, 0 to 157125\n",
      "Data columns (total 11 columns):\n",
      " #   Column        Non-Null Count   Dtype \n",
      "---  ------        --------------   ----- \n",
      " 0   CircleName    157126 non-null  object\n",
      " 1   RegionName    157073 non-null  object\n",
      " 2   DivisionName  157124 non-null  object\n",
      " 3   OfficeName    157126 non-null  object\n",
      " 4   Pincode       157126 non-null  int64 \n",
      " 5   OfficeType    157126 non-null  object\n",
      " 6   Delivery      157126 non-null  object\n",
      " 7   District      157126 non-null  object\n",
      " 8   StateName     157126 non-null  object\n",
      " 9   Latitude      148288 non-null  object\n",
      " 10  Longitude     148283 non-null  object\n",
      "dtypes: int64(1), object(10)\n",
      "memory usage: 13.2+ MB\n"
     ]
    }
   ],
   "source": [
    "# Re-read the CSV file with 'Latitude' and \"Longitude\" columns read as string. Hint: use dtype parameter in read_csv method.\n",
    "\n",
    "new_df = pd.read_csv('pincode.csv', dtype={'Latitude':str, 'Longitude':str})\n",
    "new_df.info()"
   ]
  },
  {
   "cell_type": "code",
   "execution_count": 23,
   "metadata": {},
   "outputs": [],
   "source": [
    "# Remove rows with missing values, reset indices of new_df\n",
    "\n",
    "new_df = new_df.dropna()\n",
    "new_df = new_df.reset_index(drop=True)"
   ]
  },
  {
   "cell_type": "code",
   "execution_count": 24,
   "metadata": {},
   "outputs": [
    {
     "name": "stdout",
     "output_type": "stream",
     "text": [
      "float64\n",
      "float64\n"
     ]
    }
   ],
   "source": [
    "# Clean Latitude and Longitude columns and convert to float type data, use .astype(float)\n",
    "\n",
    "import re\n",
    "\n",
    "# select the latitude and longitude columns\n",
    "latitudes = new_df['Latitude']\n",
    "longitudes = new_df['Longitude']\n",
    "\n",
    "# Define a regex pattern to extract numeric parts from strings\n",
    "pattern = r'([+-]?\\d+\\.\\d+)' \n",
    "\n",
    "\n",
    "# Extract numeric parts from latitude and longitude strings and replace the original columns\n",
    "latitudes = latitudes.str.extract(pattern, expand=False).astype(float)\n",
    "longitudes = longitudes.str.extract(pattern, expand=False).astype(float)\n",
    "\n",
    "\n",
    "\n",
    "# replace the old latitude and longitude columns with the cleaned ones\n",
    "new_df['Latitude'] = latitudes\n",
    "new_df['Longitude'] = longitudes\n",
    "\n",
    "# check the data type of the latitude and longitude columns\n",
    "print(new_df['Latitude'].dtype)\n",
    "print(new_df['Longitude'].dtype)\n",
    "\n",
    "\n",
    "\n",
    "# # clean the latitude and longitude columns - Search for any character that is not a digit or a decimal point and replace it with an empty string\n",
    "# latitudes = latitudes.str.replace(r'[^\\d\\.]', '')\n",
    "# longitudes = longitudes.str.replace(r'[^\\d\\.]', '')\n",
    "# # convert the latitude and longitude columns to float type data\n",
    "# latitudes = latitudes.astype(float)\n",
    "# longitudes = longitudes.astype(float)\n",
    "\n",
    "\n"
   ]
  }
 ],
 "metadata": {
  "kernelspec": {
   "display_name": "Python 3",
   "language": "python",
   "name": "python3"
  },
  "language_info": {
   "codemirror_mode": {
    "name": "ipython",
    "version": 3
   },
   "file_extension": ".py",
   "mimetype": "text/x-python",
   "name": "python",
   "nbconvert_exporter": "python",
   "pygments_lexer": "ipython3",
   "version": "3.11.4"
  },
  "orig_nbformat": 4
 },
 "nbformat": 4,
 "nbformat_minor": 2
}
