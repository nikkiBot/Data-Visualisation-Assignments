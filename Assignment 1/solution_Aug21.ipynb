{
 "cells": [
  {
   "cell_type": "code",
   "execution_count": 3,
   "metadata": {},
   "outputs": [],
   "source": [
    "import numpy as np\n",
    "import matplotlib.pyplot as plt\n",
    "import pandas as pd\n",
    "import seaborn as sns\n"
   ]
  },
  {
   "cell_type": "code",
   "execution_count": 4,
   "metadata": {},
   "outputs": [
    {
     "name": "stderr",
     "output_type": "stream",
     "text": [
      "C:\\Users\\nishi\\AppData\\Local\\Temp\\ipykernel_2932\\3827583873.py:2: DtypeWarning: Columns (9) have mixed types. Specify dtype option on import or set low_memory=False.\n",
      "  df = pd.read_csv('pincode.csv')\n"
     ]
    }
   ],
   "source": [
    "# Read the csv file into a dataframe\n",
    "df = pd.read_csv('pincode.csv')"
   ]
  },
  {
   "cell_type": "code",
   "execution_count": 5,
   "metadata": {},
   "outputs": [
    {
     "name": "stdout",
     "output_type": "stream",
     "text": [
      "number of rows = 157126\n",
      "number of columns = 11\n"
     ]
    }
   ],
   "source": [
    "# Number of rows and columns: \n",
    "rows = df.shape[0] \n",
    "\n",
    "columns = df.shape[1]\n",
    "\n",
    "print(\"number of rows = \" + str(rows))\n",
    "print(\"number of columns = \" + str(columns))"
   ]
  },
  {
   "cell_type": "code",
   "execution_count": 6,
   "metadata": {},
   "outputs": [
    {
     "name": "stdout",
     "output_type": "stream",
     "text": [
      "Index(['CircleName', 'RegionName', 'DivisionName', 'OfficeName', 'Pincode',\n",
      "       'OfficeType', 'Delivery', 'District', 'StateName', 'Latitude',\n",
      "       'Longitude'],\n",
      "      dtype='object')\n"
     ]
    }
   ],
   "source": [
    "# List column names\n",
    "names = df.columns \n",
    "print(names)"
   ]
  },
  {
   "cell_type": "code",
   "execution_count": 7,
   "metadata": {},
   "outputs": [
    {
     "name": "stdout",
     "output_type": "stream",
     "text": [
      "8900\n"
     ]
    }
   ],
   "source": [
    "# Number of rows with atleast 1 missing value:\n",
    "\n",
    "zero_count = df.isna().any(axis=1).sum()\n",
    "'''\n",
    "isna() returns a boolean dataframe with True for NaN values and False for non-NaN values.\n",
    "any(axis=1) returns a boolean series with True for rows with atleast 1 True value and False for rows with all False values.\n",
    "sum() returns the number of True values in the series.\n",
    "''' \n",
    "print(zero_count)\n"
   ]
  },
  {
   "cell_type": "code",
   "execution_count": 9,
   "metadata": {},
   "outputs": [
    {
     "name": "stdout",
     "output_type": "stream",
     "text": [
      "0\n"
     ]
    }
   ],
   "source": [
    "# Number of rows with all missing values: \n",
    "\n",
    "all_zero_count = df.isna().all(axis=1).sum()\n",
    "'''\n",
    "all() returns True if all elements in the specified iterable are true, otherwise it returns False.\n",
    "'''\n",
    "print(all_zero_count)"
   ]
  }
 ],
 "metadata": {
  "kernelspec": {
   "display_name": "Python 3",
   "language": "python",
   "name": "python3"
  },
  "language_info": {
   "codemirror_mode": {
    "name": "ipython",
    "version": 3
   },
   "file_extension": ".py",
   "mimetype": "text/x-python",
   "name": "python",
   "nbconvert_exporter": "python",
   "pygments_lexer": "ipython3",
   "version": "3.11.4"
  },
  "orig_nbformat": 4
 },
 "nbformat": 4,
 "nbformat_minor": 2
}
